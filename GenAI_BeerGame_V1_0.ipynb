{
  "cells": [
    {
      "cell_type": "markdown",
      "metadata": {
        "id": "view-in-github",
        "colab_type": "text"
      },
      "source": [
        "<a href=\"https://colab.research.google.com/github/mdehghani86/AppliedGenAI/blob/main/GenAI_BeerGame_V1_0.ipynb\" target=\"_parent\"><img src=\"https://colab.research.google.com/assets/colab-badge.svg\" alt=\"Open In Colab\"/></a>"
      ]
    },
    {
      "cell_type": "code",
      "source": [
        "# =================================================\n",
        "# 📌 Essential Imports for Beer Game Simulation\n",
        "# =================================================\n",
        "\n",
        "import re        # Regular expressions for text processing\n",
        "import random    # Random number generation\n",
        "import numpy as np\n",
        "import pandas as pd\n",
        "import matplotlib.pyplot as plt\n",
        "import requests  # HTTP requests for fetching data (e.g., API keys)\n",
        "import ipywidgets as widgets  # Interactive widgets for UI elements\n",
        "from IPython.display import display, HTML  # Display formatted output in Jupyter\n"
      ],
      "metadata": {
        "id": "D6wFtGZQ-umA"
      },
      "execution_count": 1,
      "outputs": []
    },
    {
      "cell_type": "code",
      "execution_count": 2,
      "metadata": {
        "id": "swKbDOYW2z3U",
        "outputId": "6fa86ee6-48c3-45b5-e7bb-0ac21d79d691",
        "colab": {
          "base_uri": "https://localhost:8080/"
        }
      },
      "outputs": [
        {
          "output_type": "stream",
          "name": "stdout",
          "text": [
            "Requirement already satisfied: openai==0.28.0 in /usr/local/lib/python3.11/dist-packages (0.28.0)\n",
            "Requirement already satisfied: requests>=2.20 in /usr/local/lib/python3.11/dist-packages (from openai==0.28.0) (2.32.3)\n",
            "Requirement already satisfied: tqdm in /usr/local/lib/python3.11/dist-packages (from openai==0.28.0) (4.67.1)\n",
            "Requirement already satisfied: aiohttp in /usr/local/lib/python3.11/dist-packages (from openai==0.28.0) (3.11.11)\n",
            "Requirement already satisfied: charset-normalizer<4,>=2 in /usr/local/lib/python3.11/dist-packages (from requests>=2.20->openai==0.28.0) (3.4.1)\n",
            "Requirement already satisfied: idna<4,>=2.5 in /usr/local/lib/python3.11/dist-packages (from requests>=2.20->openai==0.28.0) (3.10)\n",
            "Requirement already satisfied: urllib3<3,>=1.21.1 in /usr/local/lib/python3.11/dist-packages (from requests>=2.20->openai==0.28.0) (2.3.0)\n",
            "Requirement already satisfied: certifi>=2017.4.17 in /usr/local/lib/python3.11/dist-packages (from requests>=2.20->openai==0.28.0) (2024.12.14)\n",
            "Requirement already satisfied: aiohappyeyeballs>=2.3.0 in /usr/local/lib/python3.11/dist-packages (from aiohttp->openai==0.28.0) (2.4.4)\n",
            "Requirement already satisfied: aiosignal>=1.1.2 in /usr/local/lib/python3.11/dist-packages (from aiohttp->openai==0.28.0) (1.3.2)\n",
            "Requirement already satisfied: attrs>=17.3.0 in /usr/local/lib/python3.11/dist-packages (from aiohttp->openai==0.28.0) (25.1.0)\n",
            "Requirement already satisfied: frozenlist>=1.1.1 in /usr/local/lib/python3.11/dist-packages (from aiohttp->openai==0.28.0) (1.5.0)\n",
            "Requirement already satisfied: multidict<7.0,>=4.5 in /usr/local/lib/python3.11/dist-packages (from aiohttp->openai==0.28.0) (6.1.0)\n",
            "Requirement already satisfied: propcache>=0.2.0 in /usr/local/lib/python3.11/dist-packages (from aiohttp->openai==0.28.0) (0.2.1)\n",
            "Requirement already satisfied: yarl<2.0,>=1.17.0 in /usr/local/lib/python3.11/dist-packages (from aiohttp->openai==0.28.0) (1.18.3)\n"
          ]
        }
      ],
      "source": [
        "\"\"\"\n",
        "=========================================================\n",
        "🌟 OpenAI API Key Loader and Validator Script\n",
        "=========================================================\n",
        "\"\"\"\n",
        "!pip install openai==0.28.0\n",
        "\n",
        "import requests\n",
        "import os\n",
        "import openai\n"
      ]
    },
    {
      "cell_type": "code",
      "source": [
        "# =================================================\n",
        "# 🔑 Load OpenAI API Key from Dropbox\n",
        "# =================================================\n",
        "\n",
        "dropbox_url = 'https://www.dropbox.com/scl/fi/z3tai9qqmuamab8hixd42/OpenAI_Key.txt?rlkey=en1fx9yqk3u1l87vqhk3xg5tm&dl=1'\n",
        "\n",
        "# Load API Key once\n",
        "if \"OPENAI_API_KEY\" not in os.environ:\n",
        "    try:\n",
        "        os.environ[\"OPENAI_API_KEY\"] = requests.get(dropbox_url).text.strip()\n",
        "        openai.api_key = os.getenv(\"OPENAI_API_KEY\")\n",
        "    except Exception as e:\n",
        "        print(f\"❌ API Key Load Error: {e}\")\n",
        "\n",
        "import openai\n",
        "\n",
        "# List available models under the OpenAI API key\n",
        "try:\n",
        "    models = openai.Model.list()\n",
        "    model_ids = [model['id'] for model in models['data']]\n",
        "    print(\"✅ Available OpenAI Models:\")\n",
        "    print(\"\\n\".join(model_ids))\n",
        "except Exception as e:\n",
        "    print(f\"❌ Error retrieving models: {e}\")\n"
      ],
      "metadata": {
        "id": "Af3A1Fr6TpAV",
        "outputId": "8ce0c923-9c37-4eb5-8265-9c6285cce801",
        "colab": {
          "base_uri": "https://localhost:8080/"
        }
      },
      "execution_count": 3,
      "outputs": [
        {
          "output_type": "stream",
          "name": "stdout",
          "text": [
            "✅ Available OpenAI Models:\n",
            "gpt-4o-audio-preview-2024-10-01\n",
            "gpt-4o-mini-audio-preview\n",
            "gpt-4o-2024-08-06\n",
            "gpt-4o-mini-audio-preview-2024-12-17\n",
            "gpt-4o-mini-realtime-preview\n",
            "dall-e-2\n",
            "gpt-4o\n",
            "gpt-4o-mini\n",
            "gpt-4o-mini-2024-07-18\n",
            "gpt-3.5-turbo\n",
            "o1-preview-2024-09-12\n",
            "gpt-3.5-turbo-0125\n",
            "o1-preview\n",
            "gpt-3.5-turbo-instruct\n",
            "babbage-002\n",
            "o1-mini-2024-09-12\n",
            "whisper-1\n",
            "dall-e-3\n",
            "gpt-4o-realtime-preview-2024-10-01\n",
            "gpt-4-1106-preview\n",
            "omni-moderation-latest\n",
            "omni-moderation-2024-09-26\n",
            "gpt-4-0613\n",
            "tts-1-hd-1106\n",
            "gpt-4o-2024-11-20\n",
            "gpt-4\n",
            "chatgpt-4o-latest\n",
            "tts-1-hd\n",
            "davinci-002\n",
            "text-embedding-ada-002\n",
            "gpt-4o-2024-05-13\n",
            "gpt-4-turbo\n",
            "text-embedding-3-large\n",
            "tts-1\n",
            "tts-1-1106\n",
            "gpt-3.5-turbo-instruct-0914\n",
            "gpt-4-turbo-preview\n",
            "gpt-4o-mini-realtime-preview-2024-12-17\n",
            "gpt-4o-audio-preview\n",
            "text-embedding-3-small\n",
            "gpt-4-turbo-2024-04-09\n",
            "gpt-3.5-turbo-1106\n",
            "gpt-3.5-turbo-16k\n",
            "gpt-4o-audio-preview-2024-12-17\n",
            "gpt-4o-realtime-preview-2024-12-17\n",
            "gpt-4o-realtime-preview\n",
            "gpt-4-0125-preview\n",
            "o1-mini\n"
          ]
        }
      ]
    },
    {
      "cell_type": "code",
      "source": [
        "# ==== Define the OpenAI Call Function ====\n",
        "def call_ChatGPT(user_prompt, system_prompt=\"You are a supply chain expert for the Beer Game.\",\n",
        "                 model=\"gpt-4-turbo\", temperature=0.7, max_tokens=500):\n",
        "    \"\"\"\n",
        "    Calls OpenAI's ChatGPT API with configurable parameters.\n",
        "\n",
        "    Parameters:\n",
        "        user_prompt (str): Required. The user's input question or command.\n",
        "        system_prompt (str): Optional. Context setting for the AI (default: Beer Game supply chain expert).\n",
        "        model (str): Optional. OpenAI model to use (default: \"gpt-4.5-turbo\").\n",
        "        temperature (float): Optional. Controls randomness (default: 0.7).\n",
        "        max_tokens (int): Optional. Limits response length (default: 500).\n",
        "\n",
        "    Returns:\n",
        "        str: ChatGPT's response.\n",
        "    \"\"\"\n",
        "    if not user_prompt:\n",
        "        return \"❌ Error: A user prompt is required.\"\n",
        "\n",
        "    try:\n",
        "        response = openai.ChatCompletion.create(\n",
        "            model=model,\n",
        "            temperature=temperature,\n",
        "            max_tokens=max_tokens,\n",
        "            messages=[\n",
        "                {\"role\": \"system\", \"content\": system_prompt},\n",
        "                {\"role\": \"user\", \"content\": user_prompt}\n",
        "            ],\n",
        "        )\n",
        "        return response['choices'][0]['message']['content']\n",
        "\n",
        "    except openai.error.AuthenticationError:\n",
        "        return \"❌ Invalid API key. Please check your API credentials.\"\n",
        "\n",
        "    except Exception as e:\n",
        "        return f\"❌ An unexpected error occurred: {e}\""
      ],
      "metadata": {
        "id": "i4oJiPDEA8ox"
      },
      "execution_count": 4,
      "outputs": []
    },
    {
      "cell_type": "code",
      "execution_count": 5,
      "metadata": {
        "id": "CSQpDOBA69TA"
      },
      "outputs": [],
      "source": [
        "# ---------- Demand Variability ----------\n",
        "def define_demand_distribution(demand_type, period=None):\n",
        "    \"\"\"\n",
        "    Generates demand directly based on the selected type.\n",
        "\n",
        "    Parameters:\n",
        "        - demand_type (str): The type of demand ('Market Fluctuation' or 'Seasonal Demand').\n",
        "        - period (int, optional): The current period, required for 'Seasonal Demand'.\n",
        "\n",
        "    Returns:\n",
        "        - demand (int): The generated numeric demand value.\n",
        "    \"\"\"\n",
        "    if demand_type == \"Market Fluctuation\":\n",
        "        # Generate random demand using a uniform distribution\n",
        "        return np.random.randint(9, 15)  # B = 12, V = 3\n",
        "\n",
        "    elif demand_type == \"Seasonal Demand\":\n",
        "        if period is None:\n",
        "            raise ValueError(\"Period is required for Seasonal Demand.\")\n",
        "\n",
        "        # Generate demand following a 5-period cycle with randomness\n",
        "        cycle_phase = period % 5\n",
        "        seasonal_factors = [\n",
        "            np.random.randint(-4, 0),  # Low\n",
        "            np.random.randint(-2, 1),  # Medium\n",
        "            np.random.randint(1, 2),   # High\n",
        "            np.random.randint(3, 6),   # Peak\n",
        "            np.random.randint(-2, 2)   # Medium again\n",
        "        ]\n",
        "        return max(5, min(20, 11 + seasonal_factors[cycle_phase]))  # Clamp demand between 5 and 20\n",
        "\n",
        "    else:\n",
        "        raise ValueError(\"Invalid demand type selected.\")\n"
      ]
    },
    {
      "cell_type": "code",
      "source": [
        "# ==== Simulating Demand for Market Fluctuation and Seasonal Demand ====\n",
        "\"\"\"\n",
        "Simulates and plots demand for 30 periods:\n",
        "1. Market Fluctuation (random variations).\n",
        "2. Seasonal Demand (5-period cycle with randomness).\n",
        "\"\"\"\n",
        "\n",
        "# Number of periods for simulation\n",
        "periods = 30\n",
        "\n",
        "# Generate demand for 30 periods\n",
        "market_demand = [define_demand_distribution(\"Market Fluctuation\") for _ in range(periods)]\n",
        "seasonal_demand = [define_demand_distribution(\"Seasonal Demand\", p) for p in range(periods)]  # Pass period as positional\n",
        "\n",
        "# ==== Plot Results Side by Side ====\n",
        "fig, axes = plt.subplots(1, 2, figsize=(12, 4), sharey=True)\n",
        "\n",
        "# Market Fluctuation Demand Plot\n",
        "axes[0].plot(range(1, periods + 1), market_demand, marker='o', linestyle='-', color='#FF57B3', label=\"Market Fluctuation\")\n",
        "axes[0].set_title(\"Market Fluctuation Demand\")\n",
        "axes[0].set_xlabel(\"Period\")\n",
        "axes[0].set_ylabel(\"Demand (Units)\")\n",
        "axes[0].grid(True, linestyle='--', alpha=0.6)\n",
        "axes[0].legend()\n",
        "\n",
        "# Seasonal Demand Plot\n",
        "axes[1].plot(range(1, periods + 1), seasonal_demand, marker='s', linestyle='-', color='#8A9FAD', label=\"Seasonal Demand\")\n",
        "axes[1].set_title(\"Seasonal Demand\")\n",
        "axes[1].set_xlabel(\"Period\")\n",
        "axes[1].grid(True, linestyle='--', alpha=0.6)\n",
        "axes[1].legend()\n",
        "\n",
        "plt.tight_layout()\n",
        "plt.show()\n"
      ],
      "metadata": {
        "colab": {
          "base_uri": "https://localhost:8080/",
          "height": 407
        },
        "id": "LV93gHzNBGCW",
        "outputId": "64a7bcdd-eafa-40b7-b86f-b13555db9769"
      },
      "execution_count": 6,
      "outputs": [
        {
          "output_type": "display_data",
          "data": {
            "text/plain": [
              "<Figure size 1200x400 with 2 Axes>"
            ],
            "image/png": "[encoded data removed]"
          },
          "metadata": {}
        }
      ]
    },
    {
      "cell_type": "code",
      "execution_count": 7,
      "metadata": {
        "id": "uHEJdGu0DpC4"
      },
      "outputs": [],
      "source": [
        "def generate_order_quantity(table_part1, table_part2, holding_cost, backorder_cost, justification=False):\n",
        "    \"\"\"\n",
        "    Generates an optimal order quantity based on inventory and historical data.\n",
        "    Uses OpenAI's API via the `call_ChatGPT` function for decision-making.\n",
        "\n",
        "    Parameters:\n",
        "        - table_part1 (DataFrame): Inventory-related data (last 3 weeks).\n",
        "        - table_part2 (DataFrame): Demand, costs, and order data (last 3 weeks).\n",
        "        - holding_cost (int): Cost per unit of holding inventory.\n",
        "        - backorder_cost (int): Cost per unit of backorder.\n",
        "        - justification (bool): Whether to return a justification.\n",
        "\n",
        "    Returns:\n",
        "        - order_quantity (int): Suggested order quantity.\n",
        "        - justification_text (str): Explanation (if justification=True).\n",
        "    \"\"\"\n",
        "\n",
        "    # Extract recent data summaries\n",
        "    trend_summary = \"Recent weekly data:\\n\"\n",
        "    for week in range(min(3, len(table_part1))):  # Limit to last 3 weeks\n",
        "        week_data_1 = table_part1.iloc[week]\n",
        "        week_data_2 = table_part2.iloc[week]\n",
        "\n",
        "        trend_summary += (\n",
        "            f\"Week {week_data_1['Week']}: \"\n",
        "            f\"Inventory: {week_data_1['Inventory']}, \"\n",
        "            f\"Incoming Shipments: {week_data_1['Incoming Shipping']}, \"\n",
        "            f\"Order Quantity: {week_data_2['Order Quantity']}, \"\n",
        "            f\"Demand: {week_data_2['Demand']}, \"\n",
        "            f\"Excess Inventory: {week_data_2['Excess Inventory']}, \"\n",
        "            f\"Backorder: {week_data_2['Backorder']}, \"\n",
        "            f\"Holding Cost: {week_data_2['Holding Cost']}, \"\n",
        "            f\"Backorder Cost: {week_data_2['Backorder Cost']}.\\n\"\n",
        "        )\n",
        "\n",
        "    # Create the prompt for OpenAI\n",
        "    prompt = (\n",
        "        f\"Based on the following recent inventory data:\\n{trend_summary}\\n\"\n",
        "        f\"- Holding cost per unit: {holding_cost}\\n\"\n",
        "        f\"- Backorder cost per unit: {backorder_cost}\\n\\n\"\n",
        "        \"Determine the optimal order quantity for next week.\\n\"\n",
        "        \"Use expected inventory calculations:\\n\"\n",
        "        \"Expected Inventory = Current Inventory - Expected Demand (which varies between 5 and 20) + Incoming Shipments.\\n\\n\"\n",
        "        \"Suggest an order quantity that balances holding and backorder costs while ensuring optimal stock levels.\\n\\n\"\n",
        "        \"Please provide your result explicitly in the following format with no additional text:\\n\"\n",
        "        \"'Suggest Order Quantity is: [your calculated quantity]'.\"\n",
        "    )\n",
        "\n",
        "    if justification:\n",
        "        prompt += \" Also, provide a short justification for your decision.\"\n",
        "\n",
        "    # Call OpenAI API using the optimized function\n",
        "    response_text = call_ChatGPT(prompt, system_prompt=\"You are an inventory optimization assistant.\")\n",
        "\n",
        "    # Extract order quantity from AI response\n",
        "    match = re.search(r'\\b\\d+\\b', response_text)\n",
        "    order_quantity = int(match.group()) if match else None\n",
        "\n",
        "    return order_quantity, (response_text if justification else None)\n"
      ]
    },
    {
      "cell_type": "code",
      "execution_count": 8,
      "metadata": {
        "id": "IKcpH6xZ-LAX"
      },
      "outputs": [],
      "source": [
        "import random\n",
        "import pandas as pd\n",
        "\n",
        "def get_order_quantity(approach, table_part1, table_part2, holding_cost, backorder_cost):\n",
        "    \"\"\"\n",
        "    This function determines the order quantity based on the selected approach.\n",
        "    It can either take manual input from the user, use a GenAI-assisted suggestion,\n",
        "    fully automate the decision-making with GenAI, or calculate the average demand.\n",
        "\n",
        "    Parameters:\n",
        "    - approach: The approach used to determine the order quantity ('Manual', 'GenAI-Assisted', 'Full Gen-AI', 'Average').\n",
        "    - table_part1: A part of the table with relevant inventory and shipment information.\n",
        "    - table_part2: A part of the table with order quantity, demand, and cost data.\n",
        "    - holding_cost: The cost of holding inventory for a given period.\n",
        "    - backorder_cost: The cost incurred for not fulfilling an order on time.\n",
        "\n",
        "    Returns:\n",
        "    - order_quantity: The determined order quantity (either from user input, average calculation, or GenAI).\n",
        "    - justification_text: A justification for the decision, if applicable.\n",
        "    \"\"\"\n",
        "\n",
        "    # Print the approach in green every time the function is used\n",
        "    print(f\"Using approach: \\033[92m{approach}\\033[0m\")  # Only the approach is colored green\n",
        "\n",
        "    # Handle the 'average' approach\n",
        "    if approach == 'average':\n",
        "        # Calculate the average of non-null \"Demand\" values\n",
        "        average_demand = table_part2['Demand'].dropna().mean()\n",
        "\n",
        "        # If all demand values are null, generate a random integer between 8 and 12\n",
        "        if pd.isna(average_demand):\n",
        "            average_demand = random.randint(8, 12)\n",
        "        else:\n",
        "            # Convert the average to an integer\n",
        "            average_demand = int(round(average_demand))\n",
        "\n",
        "        print(f\"Average Demand: {average_demand}\")\n",
        "        justification_text = \"The order quantity was calculated as the average of non-null demand values or a random value if all were null.\"\n",
        "        return average_demand, justification_text\n",
        "\n",
        "    # Handle the 'Manual' approach\n",
        "    elif approach == 'Manual':\n",
        "        # If the approach is 'Manual', the user enters the order quantity\n",
        "        order_quantity = int(input(\"Enter the order quantity manually: \"))\n",
        "        return order_quantity, None\n",
        "\n",
        "    # Handle the 'GenAI-Assisted' or 'Full Gen-AI' approach\n",
        "    elif approach == 'GenAI-Assisted' or approach == 'Full Gen-AI':\n",
        "        # If the approach is 'GenAI-Assisted' or 'Full Gen-AI', GenAI provides a suggestion\n",
        "        suggested_order, justification = generate_order_quantity(\n",
        "            table_part1, table_part2, holding_cost, backorder_cost, justification=True\n",
        "        )\n",
        "\n",
        "        # Print the suggestion and justification\n",
        "        print(f\"AI Suggestion: {suggested_order}\")\n",
        "        print(f\"Justification: {justification}\")\n",
        "\n",
        "        # Get the final order quantity from the user for GenAI-assisted approach\n",
        "        if approach == 'GenAI-Assisted':\n",
        "            order_quantity = int(input(f\"Enter the final order quantity for {suggested_order}: \"))\n",
        "        else:\n",
        "            # If the approach is 'Full Gen-AI', use the suggestion without modification\n",
        "            order_quantity = suggested_order\n",
        "\n",
        "        return order_quantity, justification\n",
        "\n",
        "    else:\n",
        "        # Raise an error if the provided approach is invalid\n",
        "        raise ValueError(\"Invalid approach specified. Choose 'Manual', 'GenAI-Assisted', 'Full Gen-AI', or 'Average'.\")\n"
      ]
    },
    {
      "cell_type": "code",
      "execution_count": 9,
      "metadata": {
        "id": "RQ4RsD_Zi2bI"
      },
      "outputs": [],
      "source": [
        "# ---------- Initial Inventory Values for Each Role ----------\n",
        "initial_inventories = {\n",
        "    'Retailer': 10,\n",
        "    'Wholesaler': 15,\n",
        "    'Distributor': 20,\n",
        "    'Factory': 25\n",
        "}\n",
        "\n",
        "# ---------- Cost Parameters ----------\n",
        "holding_cost = 1            # Cost per unit of inventory held\n",
        "backorder_cost = 2          # Cost per unit of backorder (penalty for unfilled demand)\n",
        "\n",
        "# ---------- Lead Times ----------\n",
        "lead_times = {\n",
        "    'Retailer': 1,\n",
        "    'Wholesaler': 2,\n",
        "    'Distributor': 3,\n",
        "    'Factory': 3\n",
        "}\n",
        "\n",
        "# ---------- Incoming Shipments ----------\n",
        "incoming_shipments = {\n",
        "    'Retailer': [(5, 1)],\n",
        "    'Wholesaler': [(6, 1), (4, 2)],\n",
        "    'Distributor': [(8, 1), (6, 2), (5, 3)],\n",
        "    'Factory': [(10, 1), (8, 2), (7, 3)]\n",
        "}"
      ]
    },
    {
      "cell_type": "code",
      "execution_count": 10,
      "metadata": {
        "id": "6inlfMi6Lhbl",
        "colab": {
          "base_uri": "https://localhost:8080/",
          "height": 419,
          "referenced_widgets": [
            "24bf5fec744e4bb2b0a747af29eb4652",
            "1d894e0060e2431994b3e6f8c7af52b1",
            "334f97bff236417fbfde65d9ca961ca4",
            "e26a35adbfa34681b2fade7d4901c31a",
            "20fcef1a5e2f497cb0b3ce7b2b42adad",
            "87166154320e41ffa0b99edcfa78d496",
            "79519efea8cf492aa0f1ced5df4a4b67",
            "2bf2603e910c470fbcfb9f714c4304af",
            "007fd5e83912433b881551975da88665",
            "22ac0d0a49d541b78063a7d418d7e8d3",
            "4341a18bfb334d11b86bb8583f5e4f5c",
            "329485d905ac47d993517b0f0e4fb8e2",
            "d8dd45b2af324d64bd901c05c779bb5a",
            "a470352fabae4210a6b4b75116cabee2",
            "8aa290ec7c7a4874939844876f454dd6",
            "5dc0b86109ec40d2b08cba7139dec38c",
            "7785120d866b4a7f975c47e57a1ff75c",
            "762c96e918ae49838514def81f504b13"
          ]
        },
        "outputId": "82da010d-e7fa-4c8f-c43f-eaab330e76ef"
      },
      "outputs": [
        {
          "output_type": "display_data",
          "data": {
            "text/plain": [
              "Dropdown(description='Role:', options=('Retailer', 'Supplier', 'Wholesaler', 'Manufacturer'), value='Retailer'…"
            ],
            "application/vnd.jupyter.widget-view+json": {
              "version_major": 2,
              "version_minor": 0,
              "model_id": "24bf5fec744e4bb2b0a747af29eb4652"
            }
          },
          "metadata": {}
        },
        {
          "output_type": "display_data",
          "data": {
            "text/plain": [
              "Dropdown(description='Demand:', options=('Market Fluctuation', 'Seasonal Demand'), value='Market Fluctuation')"
            ],
            "application/vnd.jupyter.widget-view+json": {
              "version_major": 2,
              "version_minor": 0,
              "model_id": "e26a35adbfa34681b2fade7d4901c31a"
            }
          },
          "metadata": {}
        },
        {
          "output_type": "display_data",
          "data": {
            "text/plain": [
              "IntText(value=5, description='Weeks:')"
            ],
            "application/vnd.jupyter.widget-view+json": {
              "version_major": 2,
              "version_minor": 0,
              "model_id": "79519efea8cf492aa0f1ced5df4a4b67"
            }
          },
          "metadata": {}
        },
        {
          "output_type": "display_data",
          "data": {
            "text/plain": [
              "Text(value='User', description='Your Name:')"
            ],
            "application/vnd.jupyter.widget-view+json": {
              "version_major": 2,
              "version_minor": 0,
              "model_id": "22ac0d0a49d541b78063a7d418d7e8d3"
            }
          },
          "metadata": {}
        },
        {
          "output_type": "display_data",
          "data": {
            "text/plain": [
              "Dropdown(description='Approach:', options=('Manual', 'GenAI-Assisted', 'Full Gen-AI'), value='Manual')"
            ],
            "application/vnd.jupyter.widget-view+json": {
              "version_major": 2,
              "version_minor": 0,
              "model_id": "d8dd45b2af324d64bd901c05c779bb5a"
            }
          },
          "metadata": {}
        },
        {
          "output_type": "display_data",
          "data": {
            "text/plain": [
              "Button(description='🚀 Start Game', style=ButtonStyle())"
            ],
            "application/vnd.jupyter.widget-view+json": {
              "version_major": 2,
              "version_minor": 0,
              "model_id": "5dc0b86109ec40d2b08cba7139dec38c"
            }
          },
          "metadata": {}
        },
        {
          "output_type": "display_data",
          "data": {
            "text/plain": [
              "<IPython.core.display.HTML object>"
            ],
            "text/html": [
              "\n",
              "    <h2>Welcome, User! 🚀</h2>\n",
              "    <p><b>Game Settings:</b></p>\n",
              "    <ul>\n",
              "        <li><b>Role:</b> Retailer</li>\n",
              "        <li><b>Demand Type:</b> Market Fluctuation</li>\n",
              "        <li><b>Number of Weeks:</b> 5</li>\n",
              "        <li><b>Approach:</b> Manual</li>\n",
              "    </ul>\n",
              "    <p><b>Players in the Game:</b></p>\n",
              "    <p><strong>User</strong> (Retailer) ➡️ <strong>AI-Retail</strong> (Supplier) ➡️ <strong>AI-Supply</strong> (Wholesaler) ➡️ <strong>AI-Wholesale</strong> (Manufacturer)</p>\n",
              "    <p>Let's begin!</p>\n",
              "    "
            ]
          },
          "metadata": {}
        }
      ],
      "source": [
        "import random\n",
        "from IPython.display import display, HTML, clear_output\n",
        "import ipywidgets as widgets\n",
        "\n",
        "# ---------- Seed for Reproducibility ----------\n",
        "random.seed(42)  # Ensures AI assignments remain the same on reruns\n",
        "\n",
        "def generate_welcome_message(role, demand_type, weeks, user_name, players, approach):\n",
        "    \"\"\"\n",
        "    Displays a styled welcome message with user selections and player flow.\n",
        "    \"\"\"\n",
        "    # 🎮 Clean & minimal emoji use for readability\n",
        "    message = f\"\"\"\n",
        "    <h2>Welcome, {user_name}! 🚀</h2>\n",
        "    <p><b>Game Settings:</b></p>\n",
        "    <ul>\n",
        "        <li><b>Role:</b> {role}</li>\n",
        "        <li><b>Demand Type:</b> {demand_type}</li>\n",
        "        <li><b>Number of Weeks:</b> {weeks}</li>\n",
        "        <li><b>Approach:</b> {approach}</li>\n",
        "    </ul>\n",
        "    <p><b>Players in the Game:</b></p>\n",
        "    <p>{players}</p>\n",
        "    <p>Let's begin!</p>\n",
        "    \"\"\"\n",
        "\n",
        "    # Display the message\n",
        "    display(HTML(message))\n",
        "\n",
        "\n",
        "def generate_players(user_name, role):\n",
        "    \"\"\"\n",
        "    Generates a list of players in the game, inserting the user into the correct role\n",
        "    and assigning AI players to other roles.\n",
        "    \"\"\"\n",
        "    # Define the fixed role order: Retailer -> Supplier -> Wholesaler -> Manufacturer\n",
        "    fixed_roles = ['Retailer', 'Supplier', 'Wholesaler', 'Manufacturer']\n",
        "\n",
        "    # List of AI player names\n",
        "    ai_names = ['AI-Retail', 'AI-Supply', 'AI-Wholesale', 'AI-Manufacture']\n",
        "\n",
        "    players_flow = []  # List to store player roles and names\n",
        "\n",
        "    for r in fixed_roles:\n",
        "        if r == role:\n",
        "            players_flow.append(f\"<strong>{user_name}</strong> ({r})\")  # Add the user\n",
        "        else:\n",
        "            ai_name = ai_names.pop(0)  # Assign AI names dynamically\n",
        "            players_flow.append(f\"<strong>{ai_name}</strong> ({r})\")  # Assign AI\n",
        "\n",
        "    return \" ➡️ \".join(players_flow)  # Use arrow emoji for better visual clarity\n",
        "\n",
        "\n",
        "# ---------- Define Input Widgets ----------\n",
        "role_input = widgets.Dropdown(\n",
        "    options=['Retailer', 'Supplier', 'Wholesaler', 'Manufacturer'],\n",
        "    value='Retailer',\n",
        "    description='Role:',\n",
        ")\n",
        "\n",
        "demand_input = widgets.Dropdown(\n",
        "    options=['Market Fluctuation', 'Seasonal Demand'],\n",
        "    value='Market Fluctuation',\n",
        "    description='Demand:',\n",
        ")\n",
        "\n",
        "weeks_input = widgets.IntText(\n",
        "    value=12,\n",
        "    description='Weeks:',\n",
        "    min=1,\n",
        ")\n",
        "\n",
        "name_input = widgets.Text(\n",
        "    value='User',\n",
        "    description='Your Name:',\n",
        ")\n",
        "\n",
        "approach_input = widgets.Dropdown(\n",
        "    options=['Manual', 'GenAI-Assisted', 'Full Gen-AI'],\n",
        "    value='Manual',\n",
        "    description='Approach:',\n",
        ")\n",
        "\n",
        "start_button = widgets.Button(description=\"🚀 Start Game\")\n",
        "\n",
        "\n",
        "def on_start_button_click(b):\n",
        "    \"\"\"\n",
        "    Handles the 'Start Game' button click, clears previous output, captures inputs, and displays the welcome message.\n",
        "    \"\"\"\n",
        "    # Clear previous outputs to prevent stacking messages\n",
        "    clear_output(wait=True)\n",
        "\n",
        "    # Redisplay input widgets & button after clearing\n",
        "    display(role_input, demand_input, weeks_input, name_input, approach_input, start_button)\n",
        "\n",
        "    # Capture user inputs\n",
        "    role = role_input.value\n",
        "    demand_type = demand_input.value\n",
        "    weeks = weeks_input.value\n",
        "    user_name = name_input.value\n",
        "    approach = approach_input.value\n",
        "\n",
        "    # Generate players list\n",
        "    players = generate_players(user_name, role)\n",
        "\n",
        "    # Display the welcome message\n",
        "    generate_welcome_message(role, demand_type, weeks, user_name, players, approach)"
      ]
    },
    {
      "cell_type": "code",
      "execution_count": 11,
      "metadata": {
        "id": "3jasNqE6BlfN"
      },
      "outputs": [],
      "source": [
        "from IPython.display import clear_output, display, HTML\n",
        "import pandas as pd\n",
        "import matplotlib.pyplot as plt\n",
        "\n",
        "# Main function to generate supply chain table for all roles based on the selected approach and parameters\n",
        "def generate_supply_chain_table_for_all_roles(detailed_summary=False):\n",
        "    \"\"\"\n",
        "    This function generates supply chain data for all roles (Retailer, Wholesaler, Distributor, Factory) over a\n",
        "    specified number of weeks. The data includes inventory levels, order quantities, backorders, costs, and incoming shipments.\n",
        "\n",
        "    Parameters:\n",
        "    - detailed_summary: Boolean indicating if detailed weekly summaries should be displayed.\n",
        "\n",
        "    Returns:\n",
        "    - all_tables: A dictionary containing the generated data tables for each role.\n",
        "    \"\"\"\n",
        "\n",
        "    # Get the values from the input widgets\n",
        "    role_to_display = role_input.value  # Default to user-selected role from widget\n",
        "    approach = approach_input.value  # Use approach from input widget\n",
        "    weeks = weeks_input.value  # Use number of weeks from input widget\n",
        "    demand_type = demand_input.value  # Use demand type from input widget\n",
        "\n",
        "    all_tables = {}  # Initialize dictionary to store the tables for each role\n",
        "    previous_orders = {}  # Dictionary to track order quantities for each role\n",
        "    previous_orders[\"Retailer\"] = define_demand_distribution(demand_type, period=0)  # Initial customer demand for Retailer\n",
        "\n",
        "    previous_role = None  # Initialize previous_role to None for loop\n",
        "\n",
        "    # Iterate through each role in order: Retailer -> Wholesaler -> Distributor -> Factory\n",
        "    for role in [\"Retailer\", \"Wholesaler\", \"Distributor\", \"Factory\"]:\n",
        "        data = []  # List to store data for the current role\n",
        "        inventory = initial_inventories[role]  # Initial inventory for the role\n",
        "        backorder = 0  # Backorder for the role, initialized to 0\n",
        "        cumulative_total_cost = 0  # Cumulative total cost, initialized to 0\n",
        "        incoming_shippings = incoming_shipments[role]  # Incoming shipments for the role\n",
        "\n",
        "        # Add Week 0 as the initial setup week\n",
        "        data.append({\n",
        "            \"Week\": 0,\n",
        "            \"Role\": role,\n",
        "            \"Inventory\": inventory,\n",
        "            \"Incoming Shipping\": incoming_shippings.copy(),\n",
        "            \"Order Quantity\": None,\n",
        "            \"Demand\": None,\n",
        "            \"Excess Inventory\": None,\n",
        "            \"Backorder\": None,\n",
        "            \"Holding Cost\": None,\n",
        "            \"Backorder Cost\": None,\n",
        "            \"Total Cost\": cumulative_total_cost\n",
        "        })\n",
        "\n",
        "        # Loop over each week (from 1 to the number of weeks specified by the user)\n",
        "        for i in range(1, weeks + 1):\n",
        "            # Set demand based on the role's type of demand\n",
        "            if role == \"Retailer\":\n",
        "                demand = define_demand_distribution(demand_type, i)  # Generate customer demand for Retailer\n",
        "            else:\n",
        "                # Get demand from the Order Quantity of the previous role’s table_part2 for the same week\n",
        "                demand = all_tables[previous_role][1].loc[\n",
        "                    all_tables[previous_role][1]['Week'] == i, 'Order Quantity'\n",
        "                ].values[0]\n",
        "\n",
        "            # Process incoming shipments that have arrived this week\n",
        "            arrived_shipments = [shipment[0] for shipment in incoming_shippings if shipment[1] == i]\n",
        "            arrived_shipments = [shipment for shipment in arrived_shipments if shipment is not None]  # Remove None values\n",
        "            total_arrived = sum(arrived_shipments)  # Calculate total arrived shipments for the week\n",
        "            incoming_shippings = [shipment for shipment in incoming_shippings if shipment[1] != i]\n",
        "\n",
        "            # Generate the order quantity based on the selected approach (Manual, GenAI-Assisted, or Full Gen-AI)\n",
        "            temp_table_part1 = pd.DataFrame(data)[[\"Week\", \"Role\", \"Inventory\", \"Incoming Shipping\"]]\n",
        "            temp_table_part2 = pd.DataFrame(data)[[\n",
        "                \"Week\", \"Role\", \"Order Quantity\", \"Demand\", \"Excess Inventory\", \"Backorder\",\n",
        "                \"Holding Cost\", \"Backorder Cost\", \"Total Cost\"\n",
        "            ]]\n",
        "\n",
        "            if detailed_summary and role == role_to_display:\n",
        "                # Clear the output of the current cell\n",
        "                clear_output(wait=True)\n",
        "                separator = \"=\" * 40  # Separator for visibility\n",
        "                week_text = f\"{i}\"\n",
        "\n",
        "                # Display the separator and centered \"Week {i}\" text in purple color using HTML\n",
        "                display(HTML(f\"<h3 style='text-align:center; color: purple;'>{week_text.center(len(separator))}</h3>\"))\n",
        "                display(HTML(f\"<hr style='border-top: 3px solid #8a2be2; width: 100%;'>\"))\n",
        "\n",
        "                # Display summary and detailed data for the current week in a table\n",
        "                summary_df = pd.DataFrame(data)[[\"Week\", \"Role\", \"Inventory\", \"Incoming Shipping\"]].head(i + 1)\n",
        "                detailed_df = pd.DataFrame(data)[[\n",
        "                    \"Week\", \"Role\", \"Order Quantity\", \"Demand\", \"Excess Inventory\", \"Backorder\",\n",
        "                    \"Holding Cost\", \"Backorder Cost\", \"Total Cost\"\n",
        "                ]].head(i)\n",
        "\n",
        "                # Merge both DataFrames on \"Week\" and display the combined table as HTML\n",
        "                combined_df = pd.merge(summary_df, detailed_df, on=[\"Week\", \"Role\"], how=\"outer\")\n",
        "                display(HTML(combined_df.to_html(index=False)))\n",
        "                display(HTML(f\"<hr style='border-top: 3px solid #8a2be2; width: 100%;'>\"))\n",
        "\n",
        "                # Plotting the order and demand for the current role\n",
        "                plt.figure(figsize=(10, 4))\n",
        "                plt.plot(combined_df['Week'], combined_df['Order Quantity'], label=\"Order Quantity\",\n",
        "                         marker='o', linestyle='-', color='blue')\n",
        "                plt.plot(combined_df['Week'], combined_df['Demand'], label=\"Demand\",\n",
        "                         marker='x', linestyle='--', color='red')\n",
        "                plt.title(f\"Order Quantity vs Demand for {role} (Week {i})\", fontsize=14)\n",
        "                plt.xlabel(\"Week\", fontsize=12)\n",
        "                plt.ylabel(\"Quantity\", fontsize=12)\n",
        "                plt.legend(loc='lower right')\n",
        "                plt.grid(True, which='both', axis='y')  # Only show horizontal grid lines\n",
        "                plt.xticks(ticks=combined_df['Week'], labels=[f\"Week {x}\" for x in combined_df['Week']], rotation=45)\n",
        "                plt.ylim(bottom=0)  # Set the y-axis to start from 0\n",
        "                # Handle NaN values by using 'fillna' with 0 before calculating the maximum\n",
        "                max_y = int(combined_df[['Order Quantity', 'Demand']].fillna(0).max().max()) + 4\n",
        "                plt.yticks(range(0, max_y, 1))  # Show integer ticks from 0 to max_y\n",
        "                plt.show()\n",
        "\n",
        "            # Check if the current role is the selected role\n",
        "            if role == role_to_display:\n",
        "                # Use the selected approach for the displayed role\n",
        "                order_quantity, justification_text = get_order_quantity(\n",
        "                    approach, temp_table_part1, temp_table_part2, holding_cost, backorder_cost\n",
        "                )\n",
        "            else:\n",
        "                # For other roles, use the \"average\" approach\n",
        "                order_quantity, justification_text = get_order_quantity(\n",
        "                    \"average\", temp_table_part1, temp_table_part2, holding_cost, backorder_cost\n",
        "                )\n",
        "\n",
        "            # Calculate inventory and backorder after demand fulfillment\n",
        "            net_inventory = inventory - demand + total_arrived\n",
        "            excess_inventory = max(0, net_inventory)  # Ensure no negative excess inventory\n",
        "            backorder = abs(min(0, net_inventory))  # Calculate backorder if inventory is negative\n",
        "\n",
        "            # Calculate holding cost, backorder cost, and weekly total cost\n",
        "            holding_cost_week = excess_inventory * holding_cost\n",
        "            backorder_cost_week = backorder * backorder_cost\n",
        "            weekly_total_cost = holding_cost_week + backorder_cost_week\n",
        "            cumulative_total_cost += weekly_total_cost  # Update the cumulative total cost\n",
        "\n",
        "            # Schedule new incoming shipment for the next week based on lead times\n",
        "            incoming_shippings.append((order_quantity, i + lead_times[role]))\n",
        "\n",
        "            # Append weekly data to the table\n",
        "            data.append({\n",
        "                \"Week\": i,\n",
        "                \"Role\": role,\n",
        "                \"Inventory\": inventory,\n",
        "                \"Incoming Shipping\": incoming_shippings.copy(),\n",
        "                \"Order Quantity\": order_quantity,\n",
        "                \"Demand\": demand,\n",
        "                \"Excess Inventory\": excess_inventory,\n",
        "                \"Backorder\": backorder,\n",
        "                \"Holding Cost\": holding_cost_week,\n",
        "                \"Backorder Cost\": backorder_cost_week,\n",
        "                \"Total Cost\": cumulative_total_cost\n",
        "            })\n",
        "\n",
        "            # Update inventory for next week based on excess inventory\n",
        "            inventory = excess_inventory\n",
        "            previous_orders[role] = order_quantity  # Store this role's order quantity for the next role\n",
        "\n",
        "        # Convert the final data into a DataFrame for this role\n",
        "        full_table = pd.DataFrame(data)\n",
        "        table_part1 = full_table[[\"Week\", \"Role\", \"Inventory\", \"Incoming Shipping\"]]\n",
        "        table_part2 = full_table[[\n",
        "            \"Week\", \"Role\", \"Order Quantity\", \"Demand\", \"Excess Inventory\", \"Backorder\",\n",
        "            \"Holding Cost\", \"Backorder Cost\", \"Total Cost\"\n",
        "        ]]\n",
        "\n",
        "        # Store the tables for this role\n",
        "        all_tables[role] = (table_part1, table_part2)\n",
        "\n",
        "        # Update previous_role for the next role in the iteration\n",
        "        previous_role = role\n",
        "\n",
        "    # Display tables based on role_to_display parameter\n",
        "    if role_to_display == \"All\":\n",
        "        for role, tables in all_tables.items():\n",
        "            table_part1, table_part2 = tables\n",
        "            display(HTML(f\"<h3>Final Part 1 for {role}:</h3>\"))\n",
        "            display(HTML(table_part1.to_html(index=False)))\n",
        "            display(HTML(f\"<h3>Final Part 2 for {role}:</h3>\"))\n",
        "            display(HTML(table_part2.to_html(index=False)))\n",
        "    else:\n",
        "        # Display only the specified role's tables\n",
        "        if role_to_display in all_tables:\n",
        "            table_part1, table_part2 = all_tables[role_to_display]\n",
        "            display(HTML(f\"<h3>Final Part 1 for {role_to_display}:</h3>\"))\n",
        "            display(HTML(table_part1.to_html(index=False)))\n",
        "            display(HTML(f\"<h3>Final Part 2 for {role_to_display}:</h3>\"))\n",
        "            display(HTML(table_part2.to_html(index=False)))\n",
        "        else:\n",
        "            print(f\"Role '{role_to_display}' not found in the supply chain roles.\")\n",
        "\n",
        "    return all_tables\n"
      ]
    },
    {
      "cell_type": "code",
      "execution_count": 12,
      "metadata": {
        "id": "ZTKRY47BB6Yj",
        "outputId": "bb19f5ac-416d-49c3-8e90-04cce4b1e334",
        "colab": {
          "base_uri": "https://localhost:8080/",
          "height": 201,
          "referenced_widgets": [
            "24bf5fec744e4bb2b0a747af29eb4652",
            "1d894e0060e2431994b3e6f8c7af52b1",
            "334f97bff236417fbfde65d9ca961ca4",
            "e26a35adbfa34681b2fade7d4901c31a",
            "20fcef1a5e2f497cb0b3ce7b2b42adad",
            "87166154320e41ffa0b99edcfa78d496",
            "79519efea8cf492aa0f1ced5df4a4b67",
            "2bf2603e910c470fbcfb9f714c4304af",
            "007fd5e83912433b881551975da88665",
            "22ac0d0a49d541b78063a7d418d7e8d3",
            "4341a18bfb334d11b86bb8583f5e4f5c",
            "329485d905ac47d993517b0f0e4fb8e2",
            "d8dd45b2af324d64bd901c05c779bb5a",
            "a470352fabae4210a6b4b75116cabee2",
            "8aa290ec7c7a4874939844876f454dd6",
            "5dc0b86109ec40d2b08cba7139dec38c",
            "7785120d866b4a7f975c47e57a1ff75c",
            "762c96e918ae49838514def81f504b13"
          ]
        }
      },
      "outputs": [
        {
          "output_type": "display_data",
          "data": {
            "text/plain": [
              "Dropdown(description='Role:', options=('Retailer', 'Supplier', 'Wholesaler', 'Manufacturer'), value='Retailer'…"
            ],
            "application/vnd.jupyter.widget-view+json": {
              "version_major": 2,
              "version_minor": 0,
              "model_id": "24bf5fec744e4bb2b0a747af29eb4652"
            }
          },
          "metadata": {}
        },
        {
          "output_type": "display_data",
          "data": {
            "text/plain": [
              "Dropdown(description='Demand:', options=('Market Fluctuation', 'Seasonal Demand'), value='Market Fluctuation')"
            ],
            "application/vnd.jupyter.widget-view+json": {
              "version_major": 2,
              "version_minor": 0,
              "model_id": "e26a35adbfa34681b2fade7d4901c31a"
            }
          },
          "metadata": {}
        },
        {
          "output_type": "display_data",
          "data": {
            "text/plain": [
              "IntText(value=5, description='Weeks:')"
            ],
            "application/vnd.jupyter.widget-view+json": {
              "version_major": 2,
              "version_minor": 0,
              "model_id": "79519efea8cf492aa0f1ced5df4a4b67"
            }
          },
          "metadata": {}
        },
        {
          "output_type": "display_data",
          "data": {
            "text/plain": [
              "Text(value='User', description='Your Name:')"
            ],
            "application/vnd.jupyter.widget-view+json": {
              "version_major": 2,
              "version_minor": 0,
              "model_id": "22ac0d0a49d541b78063a7d418d7e8d3"
            }
          },
          "metadata": {}
        },
        {
          "output_type": "display_data",
          "data": {
            "text/plain": [
              "Dropdown(description='Approach:', options=('Manual', 'GenAI-Assisted', 'Full Gen-AI'), value='Manual')"
            ],
            "application/vnd.jupyter.widget-view+json": {
              "version_major": 2,
              "version_minor": 0,
              "model_id": "d8dd45b2af324d64bd901c05c779bb5a"
            }
          },
          "metadata": {}
        },
        {
          "output_type": "display_data",
          "data": {
            "text/plain": [
              "Button(description='🚀 Start Game', style=ButtonStyle())"
            ],
            "application/vnd.jupyter.widget-view+json": {
              "version_major": 2,
              "version_minor": 0,
              "model_id": "5dc0b86109ec40d2b08cba7139dec38c"
            }
          },
          "metadata": {}
        }
      ],
      "source": [
        "# Set the button click event handler\n",
        "start_button.on_click(on_start_button_click)\n",
        "\n",
        "# Display the input widgets\n",
        "display(role_input, demand_input, weeks_input, name_input, approach_input, start_button)"
      ]
    },
    {
      "cell_type": "code",
      "execution_count": 13,
      "metadata": {
        "id": "89VkwBeeMwfk",
        "outputId": "158a814c-1294-4e5c-e0bb-f9ab41e6404f",
        "colab": {
          "base_uri": "https://localhost:8080/",
          "height": 1000
        }
      },
      "outputs": [
        {
          "output_type": "display_data",
          "data": {
            "text/plain": [
              "<IPython.core.display.HTML object>"
            ],
            "text/html": [
              "<h3 style='text-align:center; color: purple;'>                   5                    </h3>"
            ]
          },
          "metadata": {}
        },
        {
          "output_type": "display_data",
          "data": {
            "text/plain": [
              "<IPython.core.display.HTML object>"
            ],
            "text/html": [
              "<hr style='border-top: 3px solid #8a2be2; width: 100%;'>"
            ]
          },
          "metadata": {}
        },
        {
          "output_type": "display_data",
          "data": {
            "text/plain": [
              "<IPython.core.display.HTML object>"
            ],
            "text/html": [
              "<table border=\"1\" class=\"dataframe\">\n",
              "  <thead>\n",
              "    <tr style=\"text-align: right;\">\n",
              "      <th>Week</th>\n",
              "      <th>Role</th>\n",
              "      <th>Inventory</th>\n",
              "      <th>Incoming Shipping</th>\n",
              "      <th>Order Quantity</th>\n",
              "      <th>Demand</th>\n",
              "      <th>Excess Inventory</th>\n",
              "      <th>Backorder</th>\n",
              "      <th>Holding Cost</th>\n",
              "      <th>Backorder Cost</th>\n",
              "      <th>Total Cost</th>\n",
              "    </tr>\n",
              "  </thead>\n",
              "  <tbody>\n",
              "    <tr>\n",
              "      <td>0</td>\n",
              "      <td>Retailer</td>\n",
              "      <td>10</td>\n",
              "      <td>[(5, 1)]</td>\n",
              "      <td>NaN</td>\n",
              "      <td>NaN</td>\n",
              "      <td>NaN</td>\n",
              "      <td>NaN</td>\n",
              "      <td>NaN</td>\n",
              "      <td>NaN</td>\n",
              "      <td>0</td>\n",
              "    </tr>\n",
              "    <tr>\n",
              "      <td>1</td>\n",
              "      <td>Retailer</td>\n",
              "      <td>10</td>\n",
              "      <td>[(10, 2)]</td>\n",
              "      <td>10.0</td>\n",
              "      <td>14.0</td>\n",
              "      <td>1.0</td>\n",
              "      <td>0.0</td>\n",
              "      <td>1.0</td>\n",
              "      <td>0.0</td>\n",
              "      <td>1</td>\n",
              "    </tr>\n",
              "    <tr>\n",
              "      <td>2</td>\n",
              "      <td>Retailer</td>\n",
              "      <td>1</td>\n",
              "      <td>[(6, 3)]</td>\n",
              "      <td>6.0</td>\n",
              "      <td>14.0</td>\n",
              "      <td>0.0</td>\n",
              "      <td>3.0</td>\n",
              "      <td>0.0</td>\n",
              "      <td>6.0</td>\n",
              "      <td>7</td>\n",
              "    </tr>\n",
              "    <tr>\n",
              "      <td>3</td>\n",
              "      <td>Retailer</td>\n",
              "      <td>0</td>\n",
              "      <td>[(4, 4)]</td>\n",
              "      <td>4.0</td>\n",
              "      <td>9.0</td>\n",
              "      <td>0.0</td>\n",
              "      <td>3.0</td>\n",
              "      <td>0.0</td>\n",
              "      <td>6.0</td>\n",
              "      <td>13</td>\n",
              "    </tr>\n",
              "    <tr>\n",
              "      <td>4</td>\n",
              "      <td>Retailer</td>\n",
              "      <td>0</td>\n",
              "      <td>[(3, 5)]</td>\n",
              "      <td>3.0</td>\n",
              "      <td>10.0</td>\n",
              "      <td>0.0</td>\n",
              "      <td>6.0</td>\n",
              "      <td>0.0</td>\n",
              "      <td>12.0</td>\n",
              "      <td>25</td>\n",
              "    </tr>\n",
              "  </tbody>\n",
              "</table>"
            ]
          },
          "metadata": {}
        },
        {
          "output_type": "display_data",
          "data": {
            "text/plain": [
              "<IPython.core.display.HTML object>"
            ],
            "text/html": [
              "<hr style='border-top: 3px solid #8a2be2; width: 100%;'>"
            ]
          },
          "metadata": {}
        },
        {
          "output_type": "display_data",
          "data": {
            "text/plain": [
              "<Figure size 1000x400 with 1 Axes>"
            ],
            "image/png": "[encoded data removed]"
          },
          "metadata": {}
        },
        {
          "output_type": "stream",
          "name": "stdout",
          "text": [
            "Using approach: \u001b[92mManual\u001b[0m\n",
            "Enter the order quantity manually: 1\n",
            "Using approach: \u001b[92maverage\u001b[0m\n",
            "Average Demand: 8\n",
            "Using approach: \u001b[92maverage\u001b[0m\n",
            "Average Demand: 10\n",
            "Using approach: \u001b[92maverage\u001b[0m\n",
            "Average Demand: 8\n",
            "Using approach: \u001b[92maverage\u001b[0m\n",
            "Average Demand: 7\n",
            "Using approach: \u001b[92maverage\u001b[0m\n",
            "Average Demand: 6\n",
            "Using approach: \u001b[92maverage\u001b[0m\n",
            "Average Demand: 8\n",
            "Using approach: \u001b[92maverage\u001b[0m\n",
            "Average Demand: 8\n",
            "Using approach: \u001b[92maverage\u001b[0m\n",
            "Average Demand: 9\n",
            "Using approach: \u001b[92maverage\u001b[0m\n",
            "Average Demand: 9\n",
            "Using approach: \u001b[92maverage\u001b[0m\n",
            "Average Demand: 8\n",
            "Using approach: \u001b[92maverage\u001b[0m\n",
            "Average Demand: 10\n",
            "Using approach: \u001b[92maverage\u001b[0m\n",
            "Average Demand: 8\n",
            "Using approach: \u001b[92maverage\u001b[0m\n",
            "Average Demand: 8\n",
            "Using approach: \u001b[92maverage\u001b[0m\n",
            "Average Demand: 8\n",
            "Using approach: \u001b[92maverage\u001b[0m\n",
            "Average Demand: 8\n"
          ]
        },
        {
          "output_type": "display_data",
          "data": {
            "text/plain": [
              "<IPython.core.display.HTML object>"
            ],
            "text/html": [
              "<h3>Final Part 1 for Retailer:</h3>"
            ]
          },
          "metadata": {}
        },
        {
          "output_type": "display_data",
          "data": {
            "text/plain": [
              "<IPython.core.display.HTML object>"
            ],
            "text/html": [
              "<table border=\"1\" class=\"dataframe\">\n",
              "  <thead>\n",
              "    <tr style=\"text-align: right;\">\n",
              "      <th>Week</th>\n",
              "      <th>Role</th>\n",
              "      <th>Inventory</th>\n",
              "      <th>Incoming Shipping</th>\n",
              "    </tr>\n",
              "  </thead>\n",
              "  <tbody>\n",
              "    <tr>\n",
              "      <td>0</td>\n",
              "      <td>Retailer</td>\n",
              "      <td>10</td>\n",
              "      <td>[(5, 1)]</td>\n",
              "    </tr>\n",
              "    <tr>\n",
              "      <td>1</td>\n",
              "      <td>Retailer</td>\n",
              "      <td>10</td>\n",
              "      <td>[(10, 2)]</td>\n",
              "    </tr>\n",
              "    <tr>\n",
              "      <td>2</td>\n",
              "      <td>Retailer</td>\n",
              "      <td>1</td>\n",
              "      <td>[(6, 3)]</td>\n",
              "    </tr>\n",
              "    <tr>\n",
              "      <td>3</td>\n",
              "      <td>Retailer</td>\n",
              "      <td>0</td>\n",
              "      <td>[(4, 4)]</td>\n",
              "    </tr>\n",
              "    <tr>\n",
              "      <td>4</td>\n",
              "      <td>Retailer</td>\n",
              "      <td>0</td>\n",
              "      <td>[(3, 5)]</td>\n",
              "    </tr>\n",
              "    <tr>\n",
              "      <td>5</td>\n",
              "      <td>Retailer</td>\n",
              "      <td>0</td>\n",
              "      <td>[(1, 6)]</td>\n",
              "    </tr>\n",
              "  </tbody>\n",
              "</table>"
            ]
          },
          "metadata": {}
        },
        {
          "output_type": "display_data",
          "data": {
            "text/plain": [
              "<IPython.core.display.HTML object>"
            ],
            "text/html": [
              "<h3>Final Part 2 for Retailer:</h3>"
            ]
          },
          "metadata": {}
        },
        {
          "output_type": "display_data",
          "data": {
            "text/plain": [
              "<IPython.core.display.HTML object>"
            ],
            "text/html": [
              "<table border=\"1\" class=\"dataframe\">\n",
              "  <thead>\n",
              "    <tr style=\"text-align: right;\">\n",
              "      <th>Week</th>\n",
              "      <th>Role</th>\n",
              "      <th>Order Quantity</th>\n",
              "      <th>Demand</th>\n",
              "      <th>Excess Inventory</th>\n",
              "      <th>Backorder</th>\n",
              "      <th>Holding Cost</th>\n",
              "      <th>Backorder Cost</th>\n",
              "      <th>Total Cost</th>\n",
              "    </tr>\n",
              "  </thead>\n",
              "  <tbody>\n",
              "    <tr>\n",
              "      <td>0</td>\n",
              "      <td>Retailer</td>\n",
              "      <td>NaN</td>\n",
              "      <td>NaN</td>\n",
              "      <td>NaN</td>\n",
              "      <td>NaN</td>\n",
              "      <td>NaN</td>\n",
              "      <td>NaN</td>\n",
              "      <td>0</td>\n",
              "    </tr>\n",
              "    <tr>\n",
              "      <td>1</td>\n",
              "      <td>Retailer</td>\n",
              "      <td>10.0</td>\n",
              "      <td>14.0</td>\n",
              "      <td>1.0</td>\n",
              "      <td>0.0</td>\n",
              "      <td>1.0</td>\n",
              "      <td>0.0</td>\n",
              "      <td>1</td>\n",
              "    </tr>\n",
              "    <tr>\n",
              "      <td>2</td>\n",
              "      <td>Retailer</td>\n",
              "      <td>6.0</td>\n",
              "      <td>14.0</td>\n",
              "      <td>0.0</td>\n",
              "      <td>3.0</td>\n",
              "      <td>0.0</td>\n",
              "      <td>6.0</td>\n",
              "      <td>7</td>\n",
              "    </tr>\n",
              "    <tr>\n",
              "      <td>3</td>\n",
              "      <td>Retailer</td>\n",
              "      <td>4.0</td>\n",
              "      <td>9.0</td>\n",
              "      <td>0.0</td>\n",
              "      <td>3.0</td>\n",
              "      <td>0.0</td>\n",
              "      <td>6.0</td>\n",
              "      <td>13</td>\n",
              "    </tr>\n",
              "    <tr>\n",
              "      <td>4</td>\n",
              "      <td>Retailer</td>\n",
              "      <td>3.0</td>\n",
              "      <td>10.0</td>\n",
              "      <td>0.0</td>\n",
              "      <td>6.0</td>\n",
              "      <td>0.0</td>\n",
              "      <td>12.0</td>\n",
              "      <td>25</td>\n",
              "    </tr>\n",
              "    <tr>\n",
              "      <td>5</td>\n",
              "      <td>Retailer</td>\n",
              "      <td>1.0</td>\n",
              "      <td>11.0</td>\n",
              "      <td>0.0</td>\n",
              "      <td>8.0</td>\n",
              "      <td>0.0</td>\n",
              "      <td>16.0</td>\n",
              "      <td>41</td>\n",
              "    </tr>\n",
              "  </tbody>\n",
              "</table>"
            ]
          },
          "metadata": {}
        }
      ],
      "source": [
        "# Generate and display the supply chain tables for all roles with detailed summary\n",
        "all_tables = generate_supply_chain_table_for_all_roles(detailed_summary=True)"
      ]
    },
    {
      "cell_type": "code",
      "source": [
        "from google.colab import files\n",
        "import time\n",
        "import pytz\n",
        "from datetime import datetime\n",
        "\n",
        "# Assuming `all_tables` is a dictionary and you want the \"Retailer\" table\n",
        "retailer_table = pd.concat(all_tables[\"Retailer\"], axis=1)  # Combine table_part1 and table_part2 for Retailer\n",
        "\n",
        "# Add 'username' and 'approach' columns\n",
        "retailer_table['username'] = name_input.value  # Add username column\n",
        "retailer_table['approach'] = approach_input.value  # Add approach column\n",
        "\n",
        "# Get the current time in EST\n",
        "est = pytz.timezone('US/Eastern')\n",
        "current_time_est = datetime.now(est).strftime(\"Time:%H-%M-%S\")  # Format time as HH-MM-SS in EST\n",
        "\n",
        "# Generate the file name using name_input, approach_input, and EST time\n",
        "file_name = f\"{name_input.value}_{approach_input.value}_{current_time_est}_retailer_table.csv\"\n",
        "\n",
        "# Save the Retailer table to a CSV file\n",
        "retailer_table.to_csv(file_name, index=False)\n",
        "\n",
        "# Download the file\n",
        "files.download(file_name)\n",
        "print(f\"Retailer table saved and ready for download: {file_name}\")\n"
      ],
      "metadata": {
        "colab": {
          "base_uri": "https://localhost:8080/",
          "height": 34
        },
        "id": "yco3Tlj6OazQ",
        "outputId": "ba75dd5c-6942-4776-f9fe-6a30b1bd94d9"
      },
      "execution_count": 14,
      "outputs": [
        {
          "output_type": "display_data",
          "data": {
            "text/plain": [
              "<IPython.core.display.Javascript object>"
            ],
            "application/javascript": [
              "\n",
              "    async function download(id, filename, size) {\n",
              "      if (!google.colab.kernel.accessAllowed) {\n",
              "        return;\n",
              "      }\n",
              "      const div = document.createElement('div');\n",
              "      const label = document.createElement('label');\n",
              "      label.textContent = `Downloading \"${filename}\": `;\n",
              "      div.appendChild(label);\n",
              "      const progress = document.createElement('progress');\n",
              "      progress.max = size;\n",
              "      div.appendChild(progress);\n",
              "      document.body.appendChild(div);\n",
              "\n",
              "      const buffers = [];\n",
              "      let downloaded = 0;\n",
              "\n",
              "      const channel = await google.colab.kernel.comms.open(id);\n",
              "      // Send a message to notify the kernel that we're ready.\n",
              "      channel.send({})\n",
              "\n",
              "      for await (const message of channel.messages) {\n",
              "        // Send a message to notify the kernel that we're ready.\n",
              "        channel.send({})\n",
              "        if (message.buffers) {\n",
              "          for (const buffer of message.buffers) {\n",
              "            buffers.push(buffer);\n",
              "            downloaded += buffer.byteLength;\n",
              "            progress.value = downloaded;\n",
              "          }\n",
              "        }\n",
              "      }\n",
              "      const blob = new Blob(buffers, {type: 'application/binary'});\n",
              "      const a = document.createElement('a');\n",
              "      a.href = window.URL.createObjectURL(blob);\n",
              "      a.download = filename;\n",
              "      div.appendChild(a);\n",
              "      a.click();\n",
              "      div.remove();\n",
              "    }\n",
              "  "
            ]
          },
          "metadata": {}
        },
        {
          "output_type": "display_data",
          "data": {
            "text/plain": [
              "<IPython.core.display.Javascript object>"
            ],
            "application/javascript": [
              "download(\"download_0e72fdfd-02fe-4b33-ac68-99b8ef0b6a6b\", \"User_Manual_Time:03-34-50_retailer_table.csv\", 587)"
            ]
          },
          "metadata": {}
        },
        {
          "output_type": "stream",
          "name": "stdout",
          "text": [
            "Retailer table saved and ready for download: User_Manual_Time:03-34-50_retailer_table.csv\n"
          ]
        }
      ]
    },
    {
      "cell_type": "code",
      "source": [],
      "metadata": {
        "id": "Tz3B_k9NPmeE"
      },
      "execution_count": 14,
      "outputs": []
    }
  ],
  "metadata": {
    "colab": {
      "provenance": [],
      "include_colab_link": true
    },
    "kernelspec": {
      "display_name": "Python 3",
      "name": "python3"
    },
    "language_info": {
      "name": "python"
    },
    "widgets": {
      "application/vnd.jupyter.widget-state+json": {
        "24bf5fec744e4bb2b0a747af29eb4652": {
          "model_module": "@jupyter-widgets/controls",
          "model_name": "DropdownModel",
          "model_module_version": "1.5.0",
          "state": {
            "_dom_classes": [],
            "_model_module": "@jupyter-widgets/controls",
            "_model_module_version": "1.5.0",
            "_model_name": "DropdownModel",
            "_options_labels": [
              "Retailer",
              "Supplier",
              "Wholesaler",
              "Manufacturer"
            ],
            "_view_count": null,
            "_view_module": "@jupyter-widgets/controls",
            "_view_module_version": "1.5.0",
            "_view_name": "DropdownView",
            "description": "Role:",
            "description_tooltip": null,
            "disabled": false,
            "index": 0,
            "layout": "IPY_MODEL_1d894e0060e2431994b3e6f8c7af52b1",
            "style": "IPY_MODEL_334f97bff236417fbfde65d9ca961ca4"
          }
        },
        "1d894e0060e2431994b3e6f8c7af52b1": {
          "model_module": "@jupyter-widgets/base",
          "model_name": "LayoutModel",
          "model_module_version": "1.2.0",
          "state": {
            "_model_module": "@jupyter-widgets/base",
            "_model_module_version": "1.2.0",
            "_model_name": "LayoutModel",
            "_view_count": null,
            "_view_module": "@jupyter-widgets/base",
            "_view_module_version": "1.2.0",
            "_view_name": "LayoutView",
            "align_content": null,
            "align_items": null,
            "align_self": null,
            "border": null,
            "bottom": null,
            "display": null,
            "flex": null,
            "flex_flow": null,
            "grid_area": null,
            "grid_auto_columns": null,
            "grid_auto_flow": null,
            "grid_auto_rows": null,
            "grid_column": null,
            "grid_gap": null,
            "grid_row": null,
            "grid_template_areas": null,
            "grid_template_columns": null,
            "grid_template_rows": null,
            "height": null,
            "justify_content": null,
            "justify_items": null,
            "left": null,
            "margin": null,
            "max_height": null,
            "max_width": null,
            "min_height": null,
            "min_width": null,
            "object_fit": null,
            "object_position": null,
            "order": null,
            "overflow": null,
            "overflow_x": null,
            "overflow_y": null,
            "padding": null,
            "right": null,
            "top": null,
            "visibility": null,
            "width": null
          }
        },
        "334f97bff236417fbfde65d9ca961ca4": {
          "model_module": "@jupyter-widgets/controls",
          "model_name": "DescriptionStyleModel",
          "model_module_version": "1.5.0",
          "state": {
            "_model_module": "@jupyter-widgets/controls",
            "_model_module_version": "1.5.0",
            "_model_name": "DescriptionStyleModel",
            "_view_count": null,
            "_view_module": "@jupyter-widgets/base",
            "_view_module_version": "1.2.0",
            "_view_name": "StyleView",
            "description_width": ""
          }
        },
        "e26a35adbfa34681b2fade7d4901c31a": {
          "model_module": "@jupyter-widgets/controls",
          "model_name": "DropdownModel",
          "model_module_version": "1.5.0",
          "state": {
            "_dom_classes": [],
            "_model_module": "@jupyter-widgets/controls",
            "_model_module_version": "1.5.0",
            "_model_name": "DropdownModel",
            "_options_labels": [
              "Market Fluctuation",
              "Seasonal Demand"
            ],
            "_view_count": null,
            "_view_module": "@jupyter-widgets/controls",
            "_view_module_version": "1.5.0",
            "_view_name": "DropdownView",
            "description": "Demand:",
            "description_tooltip": null,
            "disabled": false,
            "index": 0,
            "layout": "IPY_MODEL_20fcef1a5e2f497cb0b3ce7b2b42adad",
            "style": "IPY_MODEL_87166154320e41ffa0b99edcfa78d496"
          }
        },
        "20fcef1a5e2f497cb0b3ce7b2b42adad": {
          "model_module": "@jupyter-widgets/base",
          "model_name": "LayoutModel",
          "model_module_version": "1.2.0",
          "state": {
            "_model_module": "@jupyter-widgets/base",
            "_model_module_version": "1.2.0",
            "_model_name": "LayoutModel",
            "_view_count": null,
            "_view_module": "@jupyter-widgets/base",
            "_view_module_version": "1.2.0",
            "_view_name": "LayoutView",
            "align_content": null,
            "align_items": null,
            "align_self": null,
            "border": null,
            "bottom": null,
            "display": null,
            "flex": null,
            "flex_flow": null,
            "grid_area": null,
            "grid_auto_columns": null,
            "grid_auto_flow": null,
            "grid_auto_rows": null,
            "grid_column": null,
            "grid_gap": null,
            "grid_row": null,
            "grid_template_areas": null,
            "grid_template_columns": null,
            "grid_template_rows": null,
            "height": null,
            "justify_content": null,
            "justify_items": null,
            "left": null,
            "margin": null,
            "max_height": null,
            "max_width": null,
            "min_height": null,
            "min_width": null,
            "object_fit": null,
            "object_position": null,
            "order": null,
            "overflow": null,
            "overflow_x": null,
            "overflow_y": null,
            "padding": null,
            "right": null,
            "top": null,
            "visibility": null,
            "width": null
          }
        },
        "87166154320e41ffa0b99edcfa78d496": {
          "model_module": "@jupyter-widgets/controls",
          "model_name": "DescriptionStyleModel",
          "model_module_version": "1.5.0",
          "state": {
            "_model_module": "@jupyter-widgets/controls",
            "_model_module_version": "1.5.0",
            "_model_name": "DescriptionStyleModel",
            "_view_count": null,
            "_view_module": "@jupyter-widgets/base",
            "_view_module_version": "1.2.0",
            "_view_name": "StyleView",
            "description_width": ""
          }
        },
        "79519efea8cf492aa0f1ced5df4a4b67": {
          "model_module": "@jupyter-widgets/controls",
          "model_name": "IntTextModel",
          "model_module_version": "1.5.0",
          "state": {
            "_dom_classes": [],
            "_model_module": "@jupyter-widgets/controls",
            "_model_module_version": "1.5.0",
            "_model_name": "IntTextModel",
            "_view_count": null,
            "_view_module": "@jupyter-widgets/controls",
            "_view_module_version": "1.5.0",
            "_view_name": "IntTextView",
            "continuous_update": false,
            "description": "Weeks:",
            "description_tooltip": null,
            "disabled": false,
            "layout": "IPY_MODEL_2bf2603e910c470fbcfb9f714c4304af",
            "step": 1,
            "style": "IPY_MODEL_007fd5e83912433b881551975da88665",
            "value": 5
          }
        },
        "2bf2603e910c470fbcfb9f714c4304af": {
          "model_module": "@jupyter-widgets/base",
          "model_name": "LayoutModel",
          "model_module_version": "1.2.0",
          "state": {
            "_model_module": "@jupyter-widgets/base",
            "_model_module_version": "1.2.0",
            "_model_name": "LayoutModel",
            "_view_count": null,
            "_view_module": "@jupyter-widgets/base",
            "_view_module_version": "1.2.0",
            "_view_name": "LayoutView",
            "align_content": null,
            "align_items": null,
            "align_self": null,
            "border": null,
            "bottom": null,
            "display": null,
            "flex": null,
            "flex_flow": null,
            "grid_area": null,
            "grid_auto_columns": null,
            "grid_auto_flow": null,
            "grid_auto_rows": null,
            "grid_column": null,
            "grid_gap": null,
            "grid_row": null,
            "grid_template_areas": null,
            "grid_template_columns": null,
            "grid_template_rows": null,
            "height": null,
            "justify_content": null,
            "justify_items": null,
            "left": null,
            "margin": null,
            "max_height": null,
            "max_width": null,
            "min_height": null,
            "min_width": null,
            "object_fit": null,
            "object_position": null,
            "order": null,
            "overflow": null,
            "overflow_x": null,
            "overflow_y": null,
            "padding": null,
            "right": null,
            "top": null,
            "visibility": null,
            "width": null
          }
        },
        "007fd5e83912433b881551975da88665": {
          "model_module": "@jupyter-widgets/controls",
          "model_name": "DescriptionStyleModel",
          "model_module_version": "1.5.0",
          "state": {
            "_model_module": "@jupyter-widgets/controls",
            "_model_module_version": "1.5.0",
            "_model_name": "DescriptionStyleModel",
            "_view_count": null,
            "_view_module": "@jupyter-widgets/base",
            "_view_module_version": "1.2.0",
            "_view_name": "StyleView",
            "description_width": ""
          }
        },
        "22ac0d0a49d541b78063a7d418d7e8d3": {
          "model_module": "@jupyter-widgets/controls",
          "model_name": "TextModel",
          "model_module_version": "1.5.0",
          "state": {
            "_dom_classes": [],
            "_model_module": "@jupyter-widgets/controls",
            "_model_module_version": "1.5.0",
            "_model_name": "TextModel",
            "_view_count": null,
            "_view_module": "@jupyter-widgets/controls",
            "_view_module_version": "1.5.0",
            "_view_name": "TextView",
            "continuous_update": true,
            "description": "Your Name:",
            "description_tooltip": null,
            "disabled": false,
            "layout": "IPY_MODEL_4341a18bfb334d11b86bb8583f5e4f5c",
            "placeholder": "​",
            "style": "IPY_MODEL_329485d905ac47d993517b0f0e4fb8e2",
            "value": "User"
          }
        },
        "4341a18bfb334d11b86bb8583f5e4f5c": {
          "model_module": "@jupyter-widgets/base",
          "model_name": "LayoutModel",
          "model_module_version": "1.2.0",
          "state": {
            "_model_module": "@jupyter-widgets/base",
            "_model_module_version": "1.2.0",
            "_model_name": "LayoutModel",
            "_view_count": null,
            "_view_module": "@jupyter-widgets/base",
            "_view_module_version": "1.2.0",
            "_view_name": "LayoutView",
            "align_content": null,
            "align_items": null,
            "align_self": null,
            "border": null,
            "bottom": null,
            "display": null,
            "flex": null,
            "flex_flow": null,
            "grid_area": null,
            "grid_auto_columns": null,
            "grid_auto_flow": null,
            "grid_auto_rows": null,
            "grid_column": null,
            "grid_gap": null,
            "grid_row": null,
            "grid_template_areas": null,
            "grid_template_columns": null,
            "grid_template_rows": null,
            "height": null,
            "justify_content": null,
            "justify_items": null,
            "left": null,
            "margin": null,
            "max_height": null,
            "max_width": null,
            "min_height": null,
            "min_width": null,
            "object_fit": null,
            "object_position": null,
            "order": null,
            "overflow": null,
            "overflow_x": null,
            "overflow_y": null,
            "padding": null,
            "right": null,
            "top": null,
            "visibility": null,
            "width": null
          }
        },
        "329485d905ac47d993517b0f0e4fb8e2": {
          "model_module": "@jupyter-widgets/controls",
          "model_name": "DescriptionStyleModel",
          "model_module_version": "1.5.0",
          "state": {
            "_model_module": "@jupyter-widgets/controls",
            "_model_module_version": "1.5.0",
            "_model_name": "DescriptionStyleModel",
            "_view_count": null,
            "_view_module": "@jupyter-widgets/base",
            "_view_module_version": "1.2.0",
            "_view_name": "StyleView",
            "description_width": ""
          }
        },
        "d8dd45b2af324d64bd901c05c779bb5a": {
          "model_module": "@jupyter-widgets/controls",
          "model_name": "DropdownModel",
          "model_module_version": "1.5.0",
          "state": {
            "_dom_classes": [],
            "_model_module": "@jupyter-widgets/controls",
            "_model_module_version": "1.5.0",
            "_model_name": "DropdownModel",
            "_options_labels": [
              "Manual",
              "GenAI-Assisted",
              "Full Gen-AI"
            ],
            "_view_count": null,
            "_view_module": "@jupyter-widgets/controls",
            "_view_module_version": "1.5.0",
            "_view_name": "DropdownView",
            "description": "Approach:",
            "description_tooltip": null,
            "disabled": false,
            "index": 0,
            "layout": "IPY_MODEL_a470352fabae4210a6b4b75116cabee2",
            "style": "IPY_MODEL_8aa290ec7c7a4874939844876f454dd6"
          }
        },
        "a470352fabae4210a6b4b75116cabee2": {
          "model_module": "@jupyter-widgets/base",
          "model_name": "LayoutModel",
          "model_module_version": "1.2.0",
          "state": {
            "_model_module": "@jupyter-widgets/base",
            "_model_module_version": "1.2.0",
            "_model_name": "LayoutModel",
            "_view_count": null,
            "_view_module": "@jupyter-widgets/base",
            "_view_module_version": "1.2.0",
            "_view_name": "LayoutView",
            "align_content": null,
            "align_items": null,
            "align_self": null,
            "border": null,
            "bottom": null,
            "display": null,
            "flex": null,
            "flex_flow": null,
            "grid_area": null,
            "grid_auto_columns": null,
            "grid_auto_flow": null,
            "grid_auto_rows": null,
            "grid_column": null,
            "grid_gap": null,
            "grid_row": null,
            "grid_template_areas": null,
            "grid_template_columns": null,
            "grid_template_rows": null,
            "height": null,
            "justify_content": null,
            "justify_items": null,
            "left": null,
            "margin": null,
            "max_height": null,
            "max_width": null,
            "min_height": null,
            "min_width": null,
            "object_fit": null,
            "object_position": null,
            "order": null,
            "overflow": null,
            "overflow_x": null,
            "overflow_y": null,
            "padding": null,
            "right": null,
            "top": null,
            "visibility": null,
            "width": null
          }
        },
        "8aa290ec7c7a4874939844876f454dd6": {
          "model_module": "@jupyter-widgets/controls",
          "model_name": "DescriptionStyleModel",
          "model_module_version": "1.5.0",
          "state": {
            "_model_module": "@jupyter-widgets/controls",
            "_model_module_version": "1.5.0",
            "_model_name": "DescriptionStyleModel",
            "_view_count": null,
            "_view_module": "@jupyter-widgets/base",
            "_view_module_version": "1.2.0",
            "_view_name": "StyleView",
            "description_width": ""
          }
        },
        "5dc0b86109ec40d2b08cba7139dec38c": {
          "model_module": "@jupyter-widgets/controls",
          "model_name": "ButtonModel",
          "model_module_version": "1.5.0",
          "state": {
            "_dom_classes": [],
            "_model_module": "@jupyter-widgets/controls",
            "_model_module_version": "1.5.0",
            "_model_name": "ButtonModel",
            "_view_count": null,
            "_view_module": "@jupyter-widgets/controls",
            "_view_module_version": "1.5.0",
            "_view_name": "ButtonView",
            "button_style": "",
            "description": "🚀 Start Game",
            "disabled": false,
            "icon": "",
            "layout": "IPY_MODEL_7785120d866b4a7f975c47e57a1ff75c",
            "style": "IPY_MODEL_762c96e918ae49838514def81f504b13",
            "tooltip": ""
          }
        },
        "7785120d866b4a7f975c47e57a1ff75c": {
          "model_module": "@jupyter-widgets/base",
          "model_name": "LayoutModel",
          "model_module_version": "1.2.0",
          "state": {
            "_model_module": "@jupyter-widgets/base",
            "_model_module_version": "1.2.0",
            "_model_name": "LayoutModel",
            "_view_count": null,
            "_view_module": "@jupyter-widgets/base",
            "_view_module_version": "1.2.0",
            "_view_name": "LayoutView",
            "align_content": null,
            "align_items": null,
            "align_self": null,
            "border": null,
            "bottom": null,
            "display": null,
            "flex": null,
            "flex_flow": null,
            "grid_area": null,
            "grid_auto_columns": null,
            "grid_auto_flow": null,
            "grid_auto_rows": null,
            "grid_column": null,
            "grid_gap": null,
            "grid_row": null,
            "grid_template_areas": null,
            "grid_template_columns": null,
            "grid_template_rows": null,
            "height": null,
            "justify_content": null,
            "justify_items": null,
            "left": null,
            "margin": null,
            "max_height": null,
            "max_width": null,
            "min_height": null,
            "min_width": null,
            "object_fit": null,
            "object_position": null,
            "order": null,
            "overflow": null,
            "overflow_x": null,
            "overflow_y": null,
            "padding": null,
            "right": null,
            "top": null,
            "visibility": null,
            "width": null
          }
        },
        "762c96e918ae49838514def81f504b13": {
          "model_module": "@jupyter-widgets/controls",
          "model_name": "ButtonStyleModel",
          "model_module_version": "1.5.0",
          "state": {
            "_model_module": "@jupyter-widgets/controls",
            "_model_module_version": "1.5.0",
            "_model_name": "ButtonStyleModel",
            "_view_count": null,
            "_view_module": "@jupyter-widgets/base",
            "_view_module_version": "1.2.0",
            "_view_name": "StyleView",
            "button_color": null,
            "font_weight": ""
          }
        }
      }
    }
  },
  "nbformat": 4,
  "nbformat_minor": 0
}