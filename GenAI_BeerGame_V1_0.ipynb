{
  "cells": [
    {
      "cell_type": "markdown",
      "metadata": {
        "id": "view-in-github",
        "colab_type": "text"
      },
      "source": [
        "<a href=\"https://colab.research.google.com/github/mdehghani86/AppliedGenAI/blob/main/GenAI_BeerGame_V1_0.ipynb\" target=\"_parent\"><img src=\"https://colab.research.google.com/assets/colab-badge.svg\" alt=\"Open In Colab\"/></a>"
      ]
    },
    {
      "cell_type": "code",
      "source": [
        "# =================================================\n",
        "# 📌 Essential Imports for Beer Game Simulation\n",
        "# =================================================\n",
        "\n",
        "import re        # Regular expressions for text processing\n",
        "import random    # Random number generation\n",
        "import numpy as np\n",
        "import pandas as pd\n",
        "import matplotlib.pyplot as plt\n",
        "import requests  # HTTP requests for fetching data (e.g., API keys)\n",
        "import ipywidgets as widgets  # Interactive widgets for UI elements\n",
        "from IPython.display import display, HTML  # Display formatted output in Jupyter\n"
      ],
      "metadata": {
        "id": "D6wFtGZQ-umA"
      },
      "execution_count": 1,
      "outputs": []
    },
    {
      "cell_type": "code",
      "execution_count": 2,
      "metadata": {
        "id": "swKbDOYW2z3U",
        "outputId": "37805804-c543-4e2a-c64b-2f42e09d8ed2",
        "colab": {
          "base_uri": "https://localhost:8080/"
        }
      },
      "outputs": [
        {
          "output_type": "stream",
          "name": "stdout",
          "text": [
            "Requirement already satisfied: openai==0.28.0 in /usr/local/lib/python3.11/dist-packages (0.28.0)\n",
            "Requirement already satisfied: requests>=2.20 in /usr/local/lib/python3.11/dist-packages (from openai==0.28.0) (2.32.3)\n",
            "Requirement already satisfied: tqdm in /usr/local/lib/python3.11/dist-packages (from openai==0.28.0) (4.67.1)\n",
            "Requirement already satisfied: aiohttp in /usr/local/lib/python3.11/dist-packages (from openai==0.28.0) (3.11.11)\n",
            "Requirement already satisfied: charset-normalizer<4,>=2 in /usr/local/lib/python3.11/dist-packages (from requests>=2.20->openai==0.28.0) (3.4.1)\n",
            "Requirement already satisfied: idna<4,>=2.5 in /usr/local/lib/python3.11/dist-packages (from requests>=2.20->openai==0.28.0) (3.10)\n",
            "Requirement already satisfied: urllib3<3,>=1.21.1 in /usr/local/lib/python3.11/dist-packages (from requests>=2.20->openai==0.28.0) (2.3.0)\n",
            "Requirement already satisfied: certifi>=2017.4.17 in /usr/local/lib/python3.11/dist-packages (from requests>=2.20->openai==0.28.0) (2024.12.14)\n",
            "Requirement already satisfied: aiohappyeyeballs>=2.3.0 in /usr/local/lib/python3.11/dist-packages (from aiohttp->openai==0.28.0) (2.4.4)\n",
            "Requirement already satisfied: aiosignal>=1.1.2 in /usr/local/lib/python3.11/dist-packages (from aiohttp->openai==0.28.0) (1.3.2)\n",
            "Requirement already satisfied: attrs>=17.3.0 in /usr/local/lib/python3.11/dist-packages (from aiohttp->openai==0.28.0) (25.1.0)\n",
            "Requirement already satisfied: frozenlist>=1.1.1 in /usr/local/lib/python3.11/dist-packages (from aiohttp->openai==0.28.0) (1.5.0)\n",
            "Requirement already satisfied: multidict<7.0,>=4.5 in /usr/local/lib/python3.11/dist-packages (from aiohttp->openai==0.28.0) (6.1.0)\n",
            "Requirement already satisfied: propcache>=0.2.0 in /usr/local/lib/python3.11/dist-packages (from aiohttp->openai==0.28.0) (0.2.1)\n",
            "Requirement already satisfied: yarl<2.0,>=1.17.0 in /usr/local/lib/python3.11/dist-packages (from aiohttp->openai==0.28.0) (1.18.3)\n"
          ]
        }
      ],
      "source": [
        "\"\"\"\n",
        "=========================================================\n",
        "🌟 OpenAI API Key Loader and Validator Script\n",
        "=========================================================\n",
        "\"\"\"\n",
        "!pip install openai==0.28.0\n",
        "\n",
        "import requests\n",
        "import os\n",
        "import openai\n"
      ]
    },
    {
      "cell_type": "code",
      "source": [
        "# =================================================\n",
        "# 🔑 Load OpenAI API Key from Dropbox\n",
        "# =================================================\n",
        "\n",
        "dropbox_url = 'https://www.dropbox.com/scl/fi/z3tai9qqmuamab8hixd42/OpenAI_Key.txt?rlkey=en1fx9yqk3u1l87vqhk3xg5tm&dl=1'\n",
        "\n",
        "# Load API Key once\n",
        "if \"OPENAI_API_KEY\" not in os.environ:\n",
        "    try:\n",
        "        os.environ[\"OPENAI_API_KEY\"] = requests.get(dropbox_url).text.strip()\n",
        "        openai.api_key = os.getenv(\"OPENAI_API_KEY\")\n",
        "    except Exception as e:\n",
        "        print(f\"❌ API Key Load Error: {e}\")\n",
        "\n",
        "import openai\n",
        "\n",
        "# List available models under the OpenAI API key\n",
        "try:\n",
        "    models = openai.Model.list()\n",
        "    model_ids = [model['id'] for model in models['data']]\n",
        "    print(\"✅ Available OpenAI Models:\")\n",
        "    print(\"\\n\".join(model_ids))\n",
        "except Exception as e:\n",
        "    print(f\"❌ Error retrieving models: {e}\")\n"
      ],
      "metadata": {
        "id": "Af3A1Fr6TpAV",
        "outputId": "90214658-ccac-4b93-c6d2-94d5697797ca",
        "colab": {
          "base_uri": "https://localhost:8080/"
        }
      },
      "execution_count": 3,
      "outputs": [
        {
          "output_type": "stream",
          "name": "stdout",
          "text": [
            "✅ Available OpenAI Models:\n",
            "gpt-4o-audio-preview-2024-10-01\n",
            "gpt-4o-mini-audio-preview\n",
            "gpt-4o-mini-audio-preview-2024-12-17\n",
            "gpt-4o-mini-realtime-preview\n",
            "dall-e-2\n",
            "gpt-3.5-turbo\n",
            "o1-preview-2024-09-12\n",
            "gpt-3.5-turbo-0125\n",
            "o1-preview\n",
            "gpt-3.5-turbo-instruct\n",
            "babbage-002\n",
            "o1-mini-2024-09-12\n",
            "whisper-1\n",
            "dall-e-3\n",
            "gpt-4o-realtime-preview-2024-10-01\n",
            "gpt-4o-mini\n",
            "gpt-4-1106-preview\n",
            "omni-moderation-latest\n",
            "omni-moderation-2024-09-26\n",
            "gpt-4-0613\n",
            "gpt-4o-mini-2024-07-18\n",
            "tts-1-hd-1106\n",
            "gpt-4o-2024-11-20\n",
            "gpt-4o-2024-08-06\n",
            "gpt-4\n",
            "gpt-4o\n",
            "chatgpt-4o-latest\n",
            "tts-1-hd\n",
            "davinci-002\n",
            "text-embedding-ada-002\n",
            "gpt-4o-2024-05-13\n",
            "gpt-4-turbo\n",
            "text-embedding-3-large\n",
            "tts-1\n",
            "tts-1-1106\n",
            "gpt-3.5-turbo-instruct-0914\n",
            "gpt-4-turbo-preview\n",
            "gpt-4o-mini-realtime-preview-2024-12-17\n",
            "gpt-4o-audio-preview\n",
            "text-embedding-3-small\n",
            "gpt-4-turbo-2024-04-09\n",
            "gpt-3.5-turbo-1106\n",
            "gpt-3.5-turbo-16k\n",
            "gpt-4o-audio-preview-2024-12-17\n",
            "gpt-4o-realtime-preview-2024-12-17\n",
            "gpt-4o-realtime-preview\n",
            "gpt-4-0125-preview\n",
            "o1-mini\n"
          ]
        }
      ]
    },
    {
      "cell_type": "code",
      "source": [
        "# ==== Define the OpenAI Call Function ====\n",
        "def call_ChatGPT(user_prompt, system_prompt=\"You are a supply chain expert for the Beer Game.\",\n",
        "                 model=\"gpt-4-turbo\", temperature=0.7, max_tokens=500):\n",
        "    \"\"\"\n",
        "    Calls OpenAI's ChatGPT API with configurable parameters.\n",
        "\n",
        "    Parameters:\n",
        "        user_prompt (str): Required. The user's input question or command.\n",
        "        system_prompt (str): Optional. Context setting for the AI (default: Beer Game supply chain expert).\n",
        "        model (str): Optional. OpenAI model to use (default: \"gpt-4.5-turbo\").\n",
        "        temperature (float): Optional. Controls randomness (default: 0.7).\n",
        "        max_tokens (int): Optional. Limits response length (default: 500).\n",
        "\n",
        "    Returns:\n",
        "        str: ChatGPT's response.\n",
        "    \"\"\"\n",
        "    if not user_prompt:\n",
        "        return \"❌ Error: A user prompt is required.\"\n",
        "\n",
        "    try:\n",
        "        response = openai.ChatCompletion.create(\n",
        "            model=model,\n",
        "            temperature=temperature,\n",
        "            max_tokens=max_tokens,\n",
        "            messages=[\n",
        "                {\"role\": \"system\", \"content\": system_prompt},\n",
        "                {\"role\": \"user\", \"content\": user_prompt}\n",
        "            ],\n",
        "        )\n",
        "        return response['choices'][0]['message']['content']\n",
        "\n",
        "    except openai.error.AuthenticationError:\n",
        "        return \"❌ Invalid API key. Please check your API credentials.\"\n",
        "\n",
        "    except Exception as e:\n",
        "        return f\"❌ An unexpected error occurred: {e}\""
      ],
      "metadata": {
        "id": "i4oJiPDEA8ox"
      },
      "execution_count": 4,
      "outputs": []
    },
    {
      "cell_type": "code",
      "execution_count": 5,
      "metadata": {
        "id": "CSQpDOBA69TA"
      },
      "outputs": [],
      "source": [
        "# ---------- Demand Variability ----------\n",
        "def define_demand_distribution(demand_type, period=None):\n",
        "    \"\"\"\n",
        "    Generates demand directly based on the selected type.\n",
        "\n",
        "    Parameters:\n",
        "        - demand_type (str): The type of demand ('Market Fluctuation' or 'Seasonal Demand').\n",
        "        - period (int, optional): The current period, required for 'Seasonal Demand'.\n",
        "\n",
        "    Returns:\n",
        "        - demand (int): The generated numeric demand value.\n",
        "    \"\"\"\n",
        "    if demand_type == \"Market Fluctuation\":\n",
        "        # Generate random demand using a uniform distribution\n",
        "        return np.random.randint(9, 15)  # B = 12, V = 3\n",
        "\n",
        "    elif demand_type == \"Seasonal Demand\":\n",
        "        if period is None:\n",
        "            raise ValueError(\"Period is required for Seasonal Demand.\")\n",
        "\n",
        "        # Generate demand following a 5-period cycle with randomness\n",
        "        cycle_phase = period % 5\n",
        "        seasonal_factors = [\n",
        "            np.random.randint(-4, 0),  # Low\n",
        "            np.random.randint(-2, 1),  # Medium\n",
        "            np.random.randint(1, 2),   # High\n",
        "            np.random.randint(3, 6),   # Peak\n",
        "            np.random.randint(-2, 2)   # Medium again\n",
        "        ]\n",
        "        return max(5, min(20, 11 + seasonal_factors[cycle_phase]))  # Clamp demand between 5 and 20\n",
        "\n",
        "    else:\n",
        "        raise ValueError(\"Invalid demand type selected.\")\n"
      ]
    },
    {
      "cell_type": "code",
      "source": [
        "# ==== Simulating Demand for Market Fluctuation and Seasonal Demand ====\n",
        "\"\"\"\n",
        "Simulates and plots demand for 30 periods:\n",
        "1. Market Fluctuation (random variations).\n",
        "2. Seasonal Demand (5-period cycle with randomness).\n",
        "\"\"\"\n",
        "\n",
        "# Number of periods for simulation\n",
        "periods = 30\n",
        "\n",
        "# Generate demand for 30 periods\n",
        "market_demand = [define_demand_distribution(\"Market Fluctuation\") for _ in range(periods)]\n",
        "seasonal_demand = [define_demand_distribution(\"Seasonal Demand\", p) for p in range(periods)]  # Pass period as positional\n",
        "\n",
        "# ==== Plot Results Side by Side ====\n",
        "fig, axes = plt.subplots(1, 2, figsize=(12, 4), sharey=True)\n",
        "\n",
        "# Market Fluctuation Demand Plot\n",
        "axes[0].plot(range(1, periods + 1), market_demand, marker='o', linestyle='-', color='#FF57B3', label=\"Market Fluctuation\")\n",
        "axes[0].set_title(\"Market Fluctuation Demand\")\n",
        "axes[0].set_xlabel(\"Period\")\n",
        "axes[0].set_ylabel(\"Demand (Units)\")\n",
        "axes[0].grid(True, linestyle='--', alpha=0.6)\n",
        "axes[0].legend()\n",
        "\n",
        "# Seasonal Demand Plot\n",
        "axes[1].plot(range(1, periods + 1), seasonal_demand, marker='s', linestyle='-', color='#8A9FAD', label=\"Seasonal Demand\")\n",
        "axes[1].set_title(\"Seasonal Demand\")\n",
        "axes[1].set_xlabel(\"Period\")\n",
        "axes[1].grid(True, linestyle='--', alpha=0.6)\n",
        "axes[1].legend()\n",
        "\n",
        "plt.tight_layout()\n",
        "plt.show()\n"
      ],
      "metadata": {
        "id": "LV93gHzNBGCW",
        "outputId": "ed7bb5c6-c27a-4eb4-fa6b-67008d56efb0",
        "colab": {
          "base_uri": "https://localhost:8080/",
          "height": 407
        }
      },
      "execution_count": 6,
      "outputs": [
        {
          "output_type": "display_data",
          "data": {
            "text/plain": [
              "<Figure size 1200x400 with 2 Axes>"
            ],
            "image/png": "[encoded data removed]"
          },
          "metadata": {}
        }
      ]
    },
    {
      "cell_type": "code",
      "execution_count": 7,
      "metadata": {
        "id": "uHEJdGu0DpC4"
      },
      "outputs": [],
      "source": [
        "def generate_order_quantity(table_part1, table_part2, holding_cost, backorder_cost, justification=False):\n",
        "    \"\"\"\n",
        "    Generates an optimal order quantity based on inventory and historical data.\n",
        "    Uses OpenAI's API via the `call_ChatGPT` function for decision-making.\n",
        "\n",
        "    Parameters:\n",
        "        - table_part1 (DataFrame): Inventory-related data (last 3 weeks).\n",
        "        - table_part2 (DataFrame): Demand, costs, and order data (last 3 weeks).\n",
        "        - holding_cost (int): Cost per unit of holding inventory.\n",
        "        - backorder_cost (int): Cost per unit of backorder.\n",
        "        - justification (bool): Whether to return a justification.\n",
        "\n",
        "    Returns:\n",
        "        - order_quantity (int): Suggested order quantity.\n",
        "        - justification_text (str): Explanation (if justification=True).\n",
        "    \"\"\"\n",
        "\n",
        "    # Extract recent data summaries\n",
        "    trend_summary = \"Recent weekly data:\\n\"\n",
        "    for week in range(min(3, len(table_part1))):  # Limit to last 3 weeks\n",
        "        week_data_1 = table_part1.iloc[week]\n",
        "        week_data_2 = table_part2.iloc[week]\n",
        "\n",
        "        trend_summary += (\n",
        "            f\"Week {week_data_1['Week']}: \"\n",
        "            f\"Inventory: {week_data_1['Inventory']}, \"\n",
        "            f\"Incoming Shipments: {week_data_1['Incoming Shipping']}, \"\n",
        "            f\"Order Quantity: {week_data_2['Order Quantity']}, \"\n",
        "            f\"Demand: {week_data_2['Demand']}, \"\n",
        "            f\"Excess Inventory: {week_data_2['Excess Inventory']}, \"\n",
        "            f\"Backorder: {week_data_2['Backorder']}, \"\n",
        "            f\"Holding Cost: {week_data_2['Holding Cost']}, \"\n",
        "            f\"Backorder Cost: {week_data_2['Backorder Cost']}.\\n\"\n",
        "        )\n",
        "\n",
        "    # Create the prompt for OpenAI\n",
        "    prompt = (\n",
        "        f\"Based on the following recent inventory data:\\n{trend_summary}\\n\"\n",
        "        f\"- Holding cost per unit: {holding_cost}\\n\"\n",
        "        f\"- Backorder cost per unit: {backorder_cost}\\n\\n\"\n",
        "        \"Determine the optimal order quantity for next week.\\n\"\n",
        "        \"Use expected inventory calculations:\\n\"\n",
        "        \"Expected Inventory = Current Inventory - Expected Demand (which varies between 5 and 20) + Incoming Shipments.\\n\\n\"\n",
        "        \"Suggest an order quantity that balances holding and backorder costs while ensuring optimal stock levels.\\n\\n\"\n",
        "        \"Please provide your result explicitly in the following format:\\n\"\n",
        "        \"'Suggest Order Quantity is: [your calculated quantity]'.\"\n",
        "    )\n",
        "\n",
        "\n",
        "    if justification:\n",
        "        prompt += \" Also, provide a short justification for your decision.\"\n",
        "\n",
        "    # Call OpenAI API using the optimized function\n",
        "    response_text = call_ChatGPT(prompt, system_prompt=\"You are an inventory optimization assistant.\")\n",
        "\n",
        "    # Extract order quantity from AI response\n",
        "    match = re.search(r'\\b\\d+\\b', response_text)\n",
        "    order_quantity = int(match.group()) if match else None\n",
        "\n",
        "    return order_quantity, (response_text if justification else None)\n"
      ]
    },
    {
      "cell_type": "code",
      "execution_count": 17,
      "metadata": {
        "id": "IKcpH6xZ-LAX"
      },
      "outputs": [],
      "source": [
        "def get_order_quantity(approach, table_part1, table_part2, holding_cost, backorder_cost):\n",
        "    \"\"\"\n",
        "    This function determines the order quantity based on the selected approach.\n",
        "    It can either take manual input from the user, use a GenAI-assisted suggestion,\n",
        "    fully automate the decision-making with GenAI, or calculate the average demand.\n",
        "\n",
        "    Parameters:\n",
        "    - approach: The approach used to determine the order quantity ('Manual', 'GenAI-Assisted', 'Full Gen-AI', 'Average').\n",
        "    - table_part1: A part of the table with relevant inventory and shipment information.\n",
        "    - table_part2: A part of the table with order quantity, demand, and cost data.\n",
        "    - holding_cost: The cost of holding inventory for a given period.\n",
        "    - backorder_cost: The cost incurred for not fulfilling an order on time.\n",
        "\n",
        "    Returns:\n",
        "    - order_quantity: The determined order quantity (either from user input, average calculation, or GenAI).\n",
        "    - justification_text: A justification for the decision, if applicable.\n",
        "    \"\"\"\n",
        "\n",
        "    # Print the approach in green every time the function is used\n",
        "    print(f\"Using approach: \\033[92m{approach}\\033[0m\")  # Only the approach is colored green\n",
        "\n",
        "    # Calculate the average of non-null \"Demand\" values\n",
        "    if approach == 'average':\n",
        "        average_demand = table_part2['Demand'].dropna().mean()\n",
        "        print(f\"Average Demand (non-null values): {average_demand}\")\n",
        "        justification_text = \"The order quantity was calculated as the average of non-null demand values.\"\n",
        "        return average_demand, justification_text\n",
        "\n",
        "    # Handle other approaches\n",
        "    elif approach == 'Manual':\n",
        "        # If the approach is 'Manual', the user enters the order quantity\n",
        "        order_quantity = int(input(\"Enter the order quantity manually: \"))\n",
        "        return order_quantity, None\n",
        "\n",
        "    elif approach == 'GenAI-Assisted' or approach == 'Full Gen-AI':\n",
        "        # If the approach is 'GenAI-Assisted' or 'Full Gen-AI', GenAI provides a suggestion\n",
        "        suggested_order, justification = generate_order_quantity(\n",
        "            table_part1, table_part2, holding_cost, backorder_cost, justification=True\n",
        "        )\n",
        "\n",
        "        # Print the suggestion and justification\n",
        "        print(f\"AI Suggestion: {suggested_order}\")\n",
        "        print(f\"Justification: {justification}\")\n",
        "\n",
        "        # Get the final order quantity from the user for GenAI-assisted approach\n",
        "        if approach == 'GenAI-Assisted':\n",
        "            order_quantity = int(input(f\"Enter the final order quantity for {suggested_order}: \"))\n",
        "        else:\n",
        "            # If the approach is 'Full Gen-AI', use the suggestion without modification\n",
        "            order_quantity = suggested_order\n",
        "\n",
        "        return order_quantity, justification\n",
        "\n",
        "    else:\n",
        "        # Raise an error if the provided approach is invalid\n",
        "        raise ValueError(\"Invalid approach specified. Choose 'Manual', 'GenAI-Assisted', 'Full Gen-AI', or 'Average'.\")\n"
      ]
    },
    {
      "cell_type": "code",
      "execution_count": 9,
      "metadata": {
        "id": "RQ4RsD_Zi2bI"
      },
      "outputs": [],
      "source": [
        "# ---------- Initial Inventory Values for Each Role ----------\n",
        "initial_inventories = {\n",
        "    'Retailer': 10,\n",
        "    'Wholesaler': 15,\n",
        "    'Distributor': 20,\n",
        "    'Factory': 25\n",
        "}\n",
        "\n",
        "# ---------- Cost Parameters ----------\n",
        "holding_cost = 1            # Cost per unit of inventory held\n",
        "backorder_cost = 2          # Cost per unit of backorder (penalty for unfilled demand)\n",
        "\n",
        "# ---------- Lead Times ----------\n",
        "lead_times = {\n",
        "    'Retailer': 1,\n",
        "    'Wholesaler': 2,\n",
        "    'Distributor': 3,\n",
        "    'Factory': 3\n",
        "}\n",
        "\n",
        "# ---------- Incoming Shipments ----------\n",
        "incoming_shipments = {\n",
        "    'Retailer': [(5, 1)],\n",
        "    'Wholesaler': [(6, 1), (4, 2)],\n",
        "    'Distributor': [(8, 1), (6, 2), (5, 3)],\n",
        "    'Factory': [(10, 1), (8, 2), (7, 3)]\n",
        "}"
      ]
    },
    {
      "cell_type": "code",
      "execution_count": 10,
      "metadata": {
        "id": "6inlfMi6Lhbl"
      },
      "outputs": [],
      "source": [
        "# ---------- Seed for Reproducibility ----------\n",
        "# Set a random seed for reproducibility in case of randomized elements\n",
        "random.seed(42)\n",
        "\n",
        "# Function to generate the welcome message and display it in a styled box with a table\n",
        "def generate_welcome_message(role, demand_type, weeks, user_name, players, approach):\n",
        "    \"\"\"\n",
        "    This function generates a welcome message for the user and displays key game details\n",
        "    such as role, demand type, weeks, approach, costs, and player information in a styled HTML box.\n",
        "    \"\"\"\n",
        "    message = f\"\"\"\n",
        "    <!-- HTML structure for the welcome message and game information -->\n",
        "    \"\"\"\n",
        "    display(HTML(message))  # Display the HTML message using IPython's display function\n",
        "\n",
        "# Function to generate the player list with fixed roles and dynamic user position\n",
        "def generate_players(user_name, role):\n",
        "    \"\"\"\n",
        "    This function generates the list of players in the game, with the user's name placed at the correct position\n",
        "    based on their selected role (Retailer, Supplier, Wholesaler, or Manufacturer).\n",
        "    The other roles are assigned to AI players.\n",
        "    \"\"\"\n",
        "    # Define the fixed roles order: Retailer -> Supplier -> Wholesaler -> Manufacturer\n",
        "    fixed_roles = ['Retailer', 'Supplier', 'Wholesaler', 'Manufacturer']\n",
        "    ai_names = ['AI1', 'AI2', 'AI3']\n",
        "\n",
        "    players_flow = []  # Initialize a list to store the player positions\n",
        "\n",
        "    # Insert the user into the correct position based on their selected role\n",
        "    for r in fixed_roles:\n",
        "        if r == role:\n",
        "            players_flow.append(f\"<strong>{user_name}</strong> ({r})\")\n",
        "        else:\n",
        "            ai_name = ai_names.pop(0)  # Pop the first AI name from the list\n",
        "            players_flow.append(f\"<strong>{ai_name}</strong> ({r})\")\n",
        "\n",
        "    # Return the players list as a string, joined by arrows\n",
        "    return \" --> \".join(players_flow)\n",
        "\n",
        "# Define the input widgets for user choice\n",
        "role_input = widgets.Dropdown(\n",
        "    options=['Retailer', 'Supplier', 'Wholesaler', 'Manufacturer'],\n",
        "    value='Retailer',  # Default value\n",
        "    description='Role:',\n",
        ")\n",
        "\n",
        "demand_input = widgets.Dropdown(\n",
        "    options=['Market Fluctuation', 'Seasonal Demand'],\n",
        "    value='Market Fluctuation',  # Default value\n",
        "    description='Demand Type:',\n",
        ")\n",
        "\n",
        "weeks_input = widgets.IntText(\n",
        "    value=5,\n",
        "    description='Weeks:',\n",
        "    min=1,\n",
        ")\n",
        "\n",
        "name_input = widgets.Text(\n",
        "    value='User',\n",
        "    description='Your Name:',\n",
        ")\n",
        "\n",
        "# New dropdown for Approach selection\n",
        "approach_input = widgets.Dropdown(\n",
        "    options=['Manual', 'GenAI-Assisted', 'Full Gen-AI'],\n",
        "    value='Manual',  # Default value\n",
        "    description='Approach:',\n",
        ")\n",
        "\n",
        "start_button = widgets.Button(description=\"Start Game\")\n",
        "\n",
        "# Function to handle button click event\n",
        "def on_start_button_click(b):\n",
        "    \"\"\"\n",
        "    This function is triggered when the 'Start Game' button is clicked. It captures the user's input for\n",
        "    role, demand type, number of weeks, name, and approach, and then displays the welcome message with game details.\n",
        "    \"\"\"\n",
        "    # Capture user inputs\n",
        "    role = role_input.value\n",
        "    demand_type = demand_input.value\n",
        "    weeks = weeks_input.value\n",
        "    user_name = name_input.value\n",
        "    approach = approach_input.value\n",
        "\n",
        "    # Generate the players list with the updated dynamic flow\n",
        "    players = generate_players(user_name, role)\n",
        "\n",
        "    # Display the welcome message with the selected settings\n",
        "    generate_welcome_message(role, demand_type, weeks, user_name, players, approach)\n"
      ]
    },
    {
      "cell_type": "code",
      "execution_count": 14,
      "metadata": {
        "id": "3jasNqE6BlfN"
      },
      "outputs": [],
      "source": [
        "from IPython.display import clear_output, display, HTML\n",
        "import pandas as pd\n",
        "import matplotlib.pyplot as plt\n",
        "\n",
        "# Main function to generate supply chain table for all roles based on the selected approach and parameters\n",
        "def generate_supply_chain_table_for_all_roles(detailed_summary=False):\n",
        "    \"\"\"\n",
        "    This function generates supply chain data for all roles (Retailer, Wholesaler, Distributor, Factory) over a\n",
        "    specified number of weeks. The data includes inventory levels, order quantities, backorders, costs, and incoming shipments.\n",
        "\n",
        "    Parameters:\n",
        "    - detailed_summary: Boolean indicating if detailed weekly summaries should be displayed.\n",
        "\n",
        "    Returns:\n",
        "    - all_tables: A dictionary containing the generated data tables for each role.\n",
        "    \"\"\"\n",
        "\n",
        "    # Get the values from the input widgets\n",
        "    role_to_display = role_input.value  # Default to user-selected role from widget\n",
        "    approach = approach_input.value  # Use approach from input widget\n",
        "    weeks = weeks_input.value  # Use number of weeks from input widget\n",
        "    demand_type = demand_input.value  # Use demand type from input widget\n",
        "\n",
        "    all_tables = {}  # Initialize dictionary to store the tables for each role\n",
        "    previous_orders = {}  # Dictionary to track order quantities for each role\n",
        "    previous_orders[\"Retailer\"] = define_demand_distribution(demand_type, period=0)  # Initial customer demand for Retailer\n",
        "\n",
        "    previous_role = None  # Initialize previous_role to None for loop\n",
        "\n",
        "    # Iterate through each role in order: Retailer -> Wholesaler -> Distributor -> Factory\n",
        "    for role in [\"Retailer\", \"Wholesaler\", \"Distributor\", \"Factory\"]:\n",
        "        data = []  # List to store data for the current role\n",
        "        inventory = initial_inventories[role]  # Initial inventory for the role\n",
        "        backorder = 0  # Backorder for the role, initialized to 0\n",
        "        cumulative_total_cost = 0  # Cumulative total cost, initialized to 0\n",
        "        incoming_shippings = incoming_shipments[role]  # Incoming shipments for the role\n",
        "\n",
        "        # Add Week 0 as the initial setup week\n",
        "        data.append({\n",
        "            \"Week\": 0,\n",
        "            \"Role\": role,\n",
        "            \"Inventory\": inventory,\n",
        "            \"Incoming Shipping\": incoming_shippings.copy(),\n",
        "            \"Order Quantity\": None,\n",
        "            \"Demand\": None,\n",
        "            \"Excess Inventory\": None,\n",
        "            \"Backorder\": None,\n",
        "            \"Holding Cost\": None,\n",
        "            \"Backorder Cost\": None,\n",
        "            \"Total Cost\": cumulative_total_cost\n",
        "        })\n",
        "\n",
        "        # Loop over each week (from 1 to the number of weeks specified by the user)\n",
        "        for i in range(1, weeks + 1):\n",
        "            # Set demand based on the role's type of demand\n",
        "            if role == \"Retailer\":\n",
        "                demand = define_demand_distribution(demand_type, i)  # Generate customer demand for Retailer\n",
        "            else:\n",
        "                # Get demand from the Order Quantity of the previous role’s table_part2 for the same week\n",
        "                demand = all_tables[previous_role][1].loc[\n",
        "                    all_tables[previous_role][1]['Week'] == i, 'Order Quantity'\n",
        "                ].values[0]\n",
        "\n",
        "            # Process incoming shipments that have arrived this week\n",
        "            arrived_shipments = [shipment[0] for shipment in incoming_shippings if shipment[1] == i]\n",
        "            arrived_shipments = [shipment for shipment in arrived_shipments if shipment is not None]  # Remove None values\n",
        "            total_arrived = sum(arrived_shipments)  # Calculate total arrived shipments for the week\n",
        "            incoming_shippings = [shipment for shipment in incoming_shippings if shipment[1] != i]\n",
        "\n",
        "            # Generate the order quantity based on the selected approach (Manual, GenAI-Assisted, or Full Gen-AI)\n",
        "            temp_table_part1 = pd.DataFrame(data)[[\"Week\", \"Role\", \"Inventory\", \"Incoming Shipping\"]]\n",
        "            temp_table_part2 = pd.DataFrame(data)[[\n",
        "                \"Week\", \"Role\", \"Order Quantity\", \"Demand\", \"Excess Inventory\", \"Backorder\",\n",
        "                \"Holding Cost\", \"Backorder Cost\", \"Total Cost\"\n",
        "            ]]\n",
        "\n",
        "            if detailed_summary and role == role_to_display:\n",
        "                # Clear the output of the current cell\n",
        "                clear_output(wait=True)\n",
        "                separator = \"=\" * 40  # Separator for visibility\n",
        "                week_text = f\"{i}\"\n",
        "\n",
        "                # Display the separator and centered \"Week {i}\" text in purple color using HTML\n",
        "                display(HTML(f\"<h3 style='text-align:center; color: purple;'>{week_text.center(len(separator))}</h3>\"))\n",
        "                display(HTML(f\"<hr style='border-top: 3px solid #8a2be2; width: 100%;'>\"))\n",
        "\n",
        "                # Display summary and detailed data for the current week in a table\n",
        "                summary_df = pd.DataFrame(data)[[\"Week\", \"Role\", \"Inventory\", \"Incoming Shipping\"]].head(i + 1)\n",
        "                detailed_df = pd.DataFrame(data)[[\n",
        "                    \"Week\", \"Role\", \"Order Quantity\", \"Demand\", \"Excess Inventory\", \"Backorder\",\n",
        "                    \"Holding Cost\", \"Backorder Cost\", \"Total Cost\"\n",
        "                ]].head(i)\n",
        "\n",
        "                # Merge both DataFrames on \"Week\" and display the combined table as HTML\n",
        "                combined_df = pd.merge(summary_df, detailed_df, on=[\"Week\", \"Role\"], how=\"outer\")\n",
        "                display(HTML(combined_df.to_html(index=False)))\n",
        "                display(HTML(f\"<hr style='border-top: 3px solid #8a2be2; width: 100%;'>\"))\n",
        "\n",
        "                # Plotting the order and demand for the current role\n",
        "                plt.figure(figsize=(10, 4))\n",
        "                plt.plot(combined_df['Week'], combined_df['Order Quantity'], label=\"Order Quantity\",\n",
        "                         marker='o', linestyle='-', color='blue')\n",
        "                plt.plot(combined_df['Week'], combined_df['Demand'], label=\"Demand\",\n",
        "                         marker='x', linestyle='--', color='red')\n",
        "                plt.title(f\"Order Quantity vs Demand for {role} (Week {i})\", fontsize=14)\n",
        "                plt.xlabel(\"Week\", fontsize=12)\n",
        "                plt.ylabel(\"Quantity\", fontsize=12)\n",
        "                plt.legend(loc='lower right')\n",
        "                plt.grid(True, which='both', axis='y')  # Only show horizontal grid lines\n",
        "                plt.xticks(ticks=combined_df['Week'], labels=[f\"Week {x}\" for x in combined_df['Week']], rotation=45)\n",
        "                plt.ylim(bottom=0)  # Set the y-axis to start from 0\n",
        "                # Handle NaN values by using 'fillna' with 0 before calculating the maximum\n",
        "                max_y = int(combined_df[['Order Quantity', 'Demand']].fillna(0).max().max()) + 4\n",
        "                plt.yticks(range(0, max_y, 1))  # Show integer ticks from 0 to max_y\n",
        "                plt.show()\n",
        "\n",
        "            # Check if the current role is the selected role\n",
        "            if role == role_to_display:\n",
        "                # Use the selected approach for the displayed role\n",
        "                order_quantity, justification_text = get_order_quantity(\n",
        "                    approach, temp_table_part1, temp_table_part2, holding_cost, backorder_cost\n",
        "                )\n",
        "            else:\n",
        "                # For other roles, use the \"average\" approach\n",
        "                order_quantity, justification_text = get_order_quantity(\n",
        "                    \"average\", temp_table_part1, temp_table_part2, holding_cost, backorder_cost\n",
        "                )\n",
        "\n",
        "            # Calculate inventory and backorder after demand fulfillment\n",
        "            net_inventory = inventory - demand + total_arrived\n",
        "            excess_inventory = max(0, net_inventory)  # Ensure no negative excess inventory\n",
        "            backorder = abs(min(0, net_inventory))  # Calculate backorder if inventory is negative\n",
        "\n",
        "            # Calculate holding cost, backorder cost, and weekly total cost\n",
        "            holding_cost_week = excess_inventory * holding_cost\n",
        "            backorder_cost_week = backorder * backorder_cost\n",
        "            weekly_total_cost = holding_cost_week + backorder_cost_week\n",
        "            cumulative_total_cost += weekly_total_cost  # Update the cumulative total cost\n",
        "\n",
        "            # Schedule new incoming shipment for the next week based on lead times\n",
        "            incoming_shippings.append((order_quantity, i + lead_times[role]))\n",
        "\n",
        "            # Append weekly data to the table\n",
        "            data.append({\n",
        "                \"Week\": i,\n",
        "                \"Role\": role,\n",
        "                \"Inventory\": inventory,\n",
        "                \"Incoming Shipping\": incoming_shippings.copy(),\n",
        "                \"Order Quantity\": order_quantity,\n",
        "                \"Demand\": demand,\n",
        "                \"Excess Inventory\": excess_inventory,\n",
        "                \"Backorder\": backorder,\n",
        "                \"Holding Cost\": holding_cost_week,\n",
        "                \"Backorder Cost\": backorder_cost_week,\n",
        "                \"Total Cost\": cumulative_total_cost\n",
        "            })\n",
        "\n",
        "            # Update inventory for next week based on excess inventory\n",
        "            inventory = excess_inventory\n",
        "            previous_orders[role] = order_quantity  # Store this role's order quantity for the next role\n",
        "\n",
        "        # Convert the final data into a DataFrame for this role\n",
        "        full_table = pd.DataFrame(data)\n",
        "        table_part1 = full_table[[\"Week\", \"Role\", \"Inventory\", \"Incoming Shipping\"]]\n",
        "        table_part2 = full_table[[\n",
        "            \"Week\", \"Role\", \"Order Quantity\", \"Demand\", \"Excess Inventory\", \"Backorder\",\n",
        "            \"Holding Cost\", \"Backorder Cost\", \"Total Cost\"\n",
        "        ]]\n",
        "\n",
        "        # Store the tables for this role\n",
        "        all_tables[role] = (table_part1, table_part2)\n",
        "\n",
        "        # Update previous_role for the next role in the iteration\n",
        "        previous_role = role\n",
        "\n",
        "    # Display tables based on role_to_display parameter\n",
        "    if role_to_display == \"All\":\n",
        "        for role, tables in all_tables.items():\n",
        "            table_part1, table_part2 = tables\n",
        "            display(HTML(f\"<h3>Final Part 1 for {role}:</h3>\"))\n",
        "            display(HTML(table_part1.to_html(index=False)))\n",
        "            display(HTML(f\"<h3>Final Part 2 for {role}:</h3>\"))\n",
        "            display(HTML(table_part2.to_html(index=False)))\n",
        "    else:\n",
        "        # Display only the specified role's tables\n",
        "        if role_to_display in all_tables:\n",
        "            table_part1, table_part2 = all_tables[role_to_display]\n",
        "            display(HTML(f\"<h3>Final Part 1 for {role_to_display}:</h3>\"))\n",
        "            display(HTML(table_part1.to_html(index=False)))\n",
        "            display(HTML(f\"<h3>Final Part 2 for {role_to_display}:</h3>\"))\n",
        "            display(HTML(table_part2.to_html(index=False)))\n",
        "        else:\n",
        "            print(f\"Role '{role_to_display}' not found in the supply chain roles.\")\n",
        "\n",
        "    return all_tables\n"
      ]
    },
    {
      "cell_type": "code",
      "execution_count": 12,
      "metadata": {
        "id": "ZTKRY47BB6Yj",
        "outputId": "f592fdb2-4fd2-434d-ebaf-fc9400b747cc",
        "colab": {
          "base_uri": "https://localhost:8080/",
          "height": 201,
          "referenced_widgets": [
            "a06dcf056ed440849937cb0c2fc7b087",
            "43cbe74d31a043cc80954f3fa7f5175e",
            "09473ef650aa48e3958f8310f95c1d3f",
            "0fe28b0055d1456dacf22483bd1c35c0",
            "707971c5038a4e84b85d9e41356babc5",
            "9a186bc4d15c4707909d7bc71bbaeb59",
            "06ff030d549742abaf6ea850512b8155",
            "7496ee216c6b44a994cdf26e16562bc1",
            "3626f01ad2444e969751f61bca71a919",
            "6129c08572fa4c2fadee310f60916e58",
            "5b04c6527499459cac84ac4e6fb50131",
            "0f55334daa3f409cbb8f25e456148895",
            "2a161247450041aeac0ad12f9fb1e8b8",
            "720bab51553c44c390e61d7663f7fe41",
            "99466363a671415485293416b2c58c46",
            "d0477a4d180f402d9f884e397f2711c1",
            "15bc22cdc04749bab553db40114da83c",
            "4897c25806024c54b146634f4383f0ea"
          ]
        }
      },
      "outputs": [
        {
          "output_type": "display_data",
          "data": {
            "text/plain": [
              "Dropdown(description='Role:', options=('Retailer', 'Supplier', 'Wholesaler', 'Manufacturer'), value='Retailer'…"
            ],
            "application/vnd.jupyter.widget-view+json": {
              "version_major": 2,
              "version_minor": 0,
              "model_id": "a06dcf056ed440849937cb0c2fc7b087"
            }
          },
          "metadata": {}
        },
        {
          "output_type": "display_data",
          "data": {
            "text/plain": [
              "Dropdown(description='Demand Type:', options=('Market Fluctuation', 'Seasonal Demand'), value='Market Fluctuat…"
            ],
            "application/vnd.jupyter.widget-view+json": {
              "version_major": 2,
              "version_minor": 0,
              "model_id": "0fe28b0055d1456dacf22483bd1c35c0"
            }
          },
          "metadata": {}
        },
        {
          "output_type": "display_data",
          "data": {
            "text/plain": [
              "IntText(value=5, description='Weeks:')"
            ],
            "application/vnd.jupyter.widget-view+json": {
              "version_major": 2,
              "version_minor": 0,
              "model_id": "06ff030d549742abaf6ea850512b8155"
            }
          },
          "metadata": {}
        },
        {
          "output_type": "display_data",
          "data": {
            "text/plain": [
              "Text(value='User', description='Your Name:')"
            ],
            "application/vnd.jupyter.widget-view+json": {
              "version_major": 2,
              "version_minor": 0,
              "model_id": "6129c08572fa4c2fadee310f60916e58"
            }
          },
          "metadata": {}
        },
        {
          "output_type": "display_data",
          "data": {
            "text/plain": [
              "Dropdown(description='Approach:', options=('Manual', 'GenAI-Assisted', 'Full Gen-AI'), value='Manual')"
            ],
            "application/vnd.jupyter.widget-view+json": {
              "version_major": 2,
              "version_minor": 0,
              "model_id": "2a161247450041aeac0ad12f9fb1e8b8"
            }
          },
          "metadata": {}
        },
        {
          "output_type": "display_data",
          "data": {
            "text/plain": [
              "Button(description='Start Game', style=ButtonStyle())"
            ],
            "application/vnd.jupyter.widget-view+json": {
              "version_major": 2,
              "version_minor": 0,
              "model_id": "d0477a4d180f402d9f884e397f2711c1"
            }
          },
          "metadata": {}
        },
        {
          "output_type": "display_data",
          "data": {
            "text/plain": [
              "<IPython.core.display.HTML object>"
            ],
            "text/html": [
              "\n",
              "    <!-- HTML structure for the welcome message and game information -->\n",
              "    "
            ]
          },
          "metadata": {}
        },
        {
          "output_type": "display_data",
          "data": {
            "text/plain": [
              "<IPython.core.display.HTML object>"
            ],
            "text/html": [
              "\n",
              "    <!-- HTML structure for the welcome message and game information -->\n",
              "    "
            ]
          },
          "metadata": {}
        },
        {
          "output_type": "display_data",
          "data": {
            "text/plain": [
              "<IPython.core.display.HTML object>"
            ],
            "text/html": [
              "\n",
              "    <!-- HTML structure for the welcome message and game information -->\n",
              "    "
            ]
          },
          "metadata": {}
        },
        {
          "output_type": "display_data",
          "data": {
            "text/plain": [
              "<IPython.core.display.HTML object>"
            ],
            "text/html": [
              "\n",
              "    <!-- HTML structure for the welcome message and game information -->\n",
              "    "
            ]
          },
          "metadata": {}
        },
        {
          "output_type": "display_data",
          "data": {
            "text/plain": [
              "<IPython.core.display.HTML object>"
            ],
            "text/html": [
              "\n",
              "    <!-- HTML structure for the welcome message and game information -->\n",
              "    "
            ]
          },
          "metadata": {}
        },
        {
          "output_type": "display_data",
          "data": {
            "text/plain": [
              "<IPython.core.display.HTML object>"
            ],
            "text/html": [
              "\n",
              "    <!-- HTML structure for the welcome message and game information -->\n",
              "    "
            ]
          },
          "metadata": {}
        },
        {
          "output_type": "display_data",
          "data": {
            "text/plain": [
              "<IPython.core.display.HTML object>"
            ],
            "text/html": [
              "\n",
              "    <!-- HTML structure for the welcome message and game information -->\n",
              "    "
            ]
          },
          "metadata": {}
        }
      ],
      "source": [
        "# Set the button click event handler\n",
        "start_button.on_click(on_start_button_click)\n",
        "\n",
        "# Display the input widgets\n",
        "display(role_input, demand_input, weeks_input, name_input, approach_input, start_button)\n"
      ]
    },
    {
      "cell_type": "code",
      "execution_count": null,
      "metadata": {
        "id": "89VkwBeeMwfk",
        "outputId": "c98b6fea-3aa2-4044-b3bc-0d7eddeb485c",
        "colab": {
          "base_uri": "https://localhost:8080/",
          "height": 1000
        }
      },
      "outputs": [
        {
          "output_type": "display_data",
          "data": {
            "text/plain": [
              "<IPython.core.display.HTML object>"
            ],
            "text/html": [
              "<h3 style='text-align:center; color: purple;'>                   2                    </h3>"
            ]
          },
          "metadata": {}
        },
        {
          "output_type": "display_data",
          "data": {
            "text/plain": [
              "<IPython.core.display.HTML object>"
            ],
            "text/html": [
              "<hr style='border-top: 3px solid #8a2be2; width: 100%;'>"
            ]
          },
          "metadata": {}
        },
        {
          "output_type": "display_data",
          "data": {
            "text/plain": [
              "<IPython.core.display.HTML object>"
            ],
            "text/html": [
              "<table border=\"1\" class=\"dataframe\">\n",
              "  <thead>\n",
              "    <tr style=\"text-align: right;\">\n",
              "      <th>Week</th>\n",
              "      <th>Role</th>\n",
              "      <th>Inventory</th>\n",
              "      <th>Incoming Shipping</th>\n",
              "      <th>Order Quantity</th>\n",
              "      <th>Demand</th>\n",
              "      <th>Excess Inventory</th>\n",
              "      <th>Backorder</th>\n",
              "      <th>Holding Cost</th>\n",
              "      <th>Backorder Cost</th>\n",
              "      <th>Total Cost</th>\n",
              "    </tr>\n",
              "  </thead>\n",
              "  <tbody>\n",
              "    <tr>\n",
              "      <td>0</td>\n",
              "      <td>Retailer</td>\n",
              "      <td>10</td>\n",
              "      <td>[(5, 1)]</td>\n",
              "      <td>NaN</td>\n",
              "      <td>NaN</td>\n",
              "      <td>NaN</td>\n",
              "      <td>NaN</td>\n",
              "      <td>NaN</td>\n",
              "      <td>NaN</td>\n",
              "      <td>0</td>\n",
              "    </tr>\n",
              "    <tr>\n",
              "      <td>1</td>\n",
              "      <td>Retailer</td>\n",
              "      <td>10</td>\n",
              "      <td>[(3, 2)]</td>\n",
              "      <td>3.0</td>\n",
              "      <td>9.0</td>\n",
              "      <td>6.0</td>\n",
              "      <td>0.0</td>\n",
              "      <td>6.0</td>\n",
              "      <td>0.0</td>\n",
              "      <td>6</td>\n",
              "    </tr>\n",
              "  </tbody>\n",
              "</table>"
            ]
          },
          "metadata": {}
        },
        {
          "output_type": "display_data",
          "data": {
            "text/plain": [
              "<IPython.core.display.HTML object>"
            ],
            "text/html": [
              "<hr style='border-top: 3px solid #8a2be2; width: 100%;'>"
            ]
          },
          "metadata": {}
        },
        {
          "output_type": "display_data",
          "data": {
            "text/plain": [
              "<Figure size 1000x400 with 1 Axes>"
            ],
            "image/png": "[encoded data removed]"
          },
          "metadata": {}
        },
        {
          "output_type": "stream",
          "name": "stdout",
          "text": [
            "Using approach: \u001b[92mGenAI-Assisted\u001b[0m\n",
            "AI Suggestion: 1\n",
            "Justification: To determine the optimal order quantity for next week, let’s perform a detailed analysis using the data provided:\n",
            "\n",
            "### Step 1: Analyze Current and Previous Weeks\n",
            "- **Week 0**:\n",
            "  - **Inventory**: 10\n",
            "  - **Incoming Shipments**: [(5, 1)] means 5 units arriving in 1 week\n",
            "  - **Demand**: Not available\n",
            "\n",
            "- **Week 1**:\n",
            "  - **Inventory**: 10\n",
            "  - **Incoming Shipments**: [(3, 2)] means 3 units arriving in 2 weeks\n",
            "  - **Order Quantity**: 3.0\n",
            "  - **Demand**: 9.0\n",
            "  - **Excess Inventory**: 6.0 (this indicates the inventory at the end of the week after demand is met and before next shipment arrives)\n",
            "  - **Backorder**: 0.0\n",
            "  - **Holding Cost**: $6.0 (6 units x $1/unit)\n",
            "  - **Backorder Cost**: $0.0\n",
            "\n",
            "### Step 2: Calculate Expected Inventory for Week 2\n",
            "- **Initial Inventory for Week 2**: 6 (from Excess Inventory in Week 1)\n",
            "- **Incoming Shipments**: From week 0, 5 units arriving in week 1, which would be part of Week 1's inventory calculation. For Week 2, we consider the 3 units that are scheduled to arrive from the Week 1 order (though they arrive in Week 3).\n",
            "\n",
            "##### Assumption:\n",
            "- **Expected Demand for Week 2**: Let's assume demand will be similar to Week 1, i.e., 9 units.\n",
            "\n",
            "##### Expected Inventory Calculation:\n",
            "- **Expected Inventory at the end of Week 2**: \n",
            "  - = Initial Inventory + Incoming Shipments - Expected Demand\n",
            "  - = 6 + 0 - 9\n",
            "  - = -3 (This indicates a potential backorder of 3 units if no additional inventory is ordered.)\n",
            "\n",
            "### Step 3: Determine Optimal Order Quantity\n",
            "- **Objective**: Balance holding cost and backorder cost.\n",
            "- **Holding Cost**: $1 per unit.\n",
            "- **Backorder Cost**: $2 per unit.\n",
            "\n",
            "##### Scenario Analysis:\n",
            "- If you order too few, backorder costs increase.\n",
            "- If you order too many, holding costs increase.\n",
            "\n",
            "##### Calculate Order Quantity:\n",
            "- **Break-Even Point** for holding cost equal to backorder cost:\n",
            "\n"
          ]
        }
      ],
      "source": [
        "# Generate and display the supply chain tables for all roles with detailed summary\n",
        "all_tables = generate_supply_chain_table_for_all_roles(detailed_summary=True)"
      ]
    },
    {
      "cell_type": "code",
      "execution_count": null,
      "metadata": {
        "id": "Ik3tZUtvp_1c"
      },
      "outputs": [],
      "source": []
    }
  ],
  "metadata": {
    "colab": {
      "provenance": [],
      "include_colab_link": true
    },
    "kernelspec": {
      "display_name": "Python 3",
      "name": "python3"
    },
    "language_info": {
      "name": "python"
    },
    "widgets": {
      "application/vnd.jupyter.widget-state+json": {
        "a06dcf056ed440849937cb0c2fc7b087": {
          "model_module": "@jupyter-widgets/controls",
          "model_name": "DropdownModel",
          "model_module_version": "1.5.0",
          "state": {
            "_dom_classes": [],
            "_model_module": "@jupyter-widgets/controls",
            "_model_module_version": "1.5.0",
            "_model_name": "DropdownModel",
            "_options_labels": [
              "Retailer",
              "Supplier",
              "Wholesaler",
              "Manufacturer"
            ],
            "_view_count": null,
            "_view_module": "@jupyter-widgets/controls",
            "_view_module_version": "1.5.0",
            "_view_name": "DropdownView",
            "description": "Role:",
            "description_tooltip": null,
            "disabled": false,
            "index": 0,
            "layout": "IPY_MODEL_43cbe74d31a043cc80954f3fa7f5175e",
            "style": "IPY_MODEL_09473ef650aa48e3958f8310f95c1d3f"
          }
        },
        "43cbe74d31a043cc80954f3fa7f5175e": {
          "model_module": "@jupyter-widgets/base",
          "model_name": "LayoutModel",
          "model_module_version": "1.2.0",
          "state": {
            "_model_module": "@jupyter-widgets/base",
            "_model_module_version": "1.2.0",
            "_model_name": "LayoutModel",
            "_view_count": null,
            "_view_module": "@jupyter-widgets/base",
            "_view_module_version": "1.2.0",
            "_view_name": "LayoutView",
            "align_content": null,
            "align_items": null,
            "align_self": null,
            "border": null,
            "bottom": null,
            "display": null,
            "flex": null,
            "flex_flow": null,
            "grid_area": null,
            "grid_auto_columns": null,
            "grid_auto_flow": null,
            "grid_auto_rows": null,
            "grid_column": null,
            "grid_gap": null,
            "grid_row": null,
            "grid_template_areas": null,
            "grid_template_columns": null,
            "grid_template_rows": null,
            "height": null,
            "justify_content": null,
            "justify_items": null,
            "left": null,
            "margin": null,
            "max_height": null,
            "max_width": null,
            "min_height": null,
            "min_width": null,
            "object_fit": null,
            "object_position": null,
            "order": null,
            "overflow": null,
            "overflow_x": null,
            "overflow_y": null,
            "padding": null,
            "right": null,
            "top": null,
            "visibility": null,
            "width": null
          }
        },
        "09473ef650aa48e3958f8310f95c1d3f": {
          "model_module": "@jupyter-widgets/controls",
          "model_name": "DescriptionStyleModel",
          "model_module_version": "1.5.0",
          "state": {
            "_model_module": "@jupyter-widgets/controls",
            "_model_module_version": "1.5.0",
            "_model_name": "DescriptionStyleModel",
            "_view_count": null,
            "_view_module": "@jupyter-widgets/base",
            "_view_module_version": "1.2.0",
            "_view_name": "StyleView",
            "description_width": ""
          }
        },
        "0fe28b0055d1456dacf22483bd1c35c0": {
          "model_module": "@jupyter-widgets/controls",
          "model_name": "DropdownModel",
          "model_module_version": "1.5.0",
          "state": {
            "_dom_classes": [],
            "_model_module": "@jupyter-widgets/controls",
            "_model_module_version": "1.5.0",
            "_model_name": "DropdownModel",
            "_options_labels": [
              "Market Fluctuation",
              "Seasonal Demand"
            ],
            "_view_count": null,
            "_view_module": "@jupyter-widgets/controls",
            "_view_module_version": "1.5.0",
            "_view_name": "DropdownView",
            "description": "Demand Type:",
            "description_tooltip": null,
            "disabled": false,
            "index": 0,
            "layout": "IPY_MODEL_707971c5038a4e84b85d9e41356babc5",
            "style": "IPY_MODEL_9a186bc4d15c4707909d7bc71bbaeb59"
          }
        },
        "707971c5038a4e84b85d9e41356babc5": {
          "model_module": "@jupyter-widgets/base",
          "model_name": "LayoutModel",
          "model_module_version": "1.2.0",
          "state": {
            "_model_module": "@jupyter-widgets/base",
            "_model_module_version": "1.2.0",
            "_model_name": "LayoutModel",
            "_view_count": null,
            "_view_module": "@jupyter-widgets/base",
            "_view_module_version": "1.2.0",
            "_view_name": "LayoutView",
            "align_content": null,
            "align_items": null,
            "align_self": null,
            "border": null,
            "bottom": null,
            "display": null,
            "flex": null,
            "flex_flow": null,
            "grid_area": null,
            "grid_auto_columns": null,
            "grid_auto_flow": null,
            "grid_auto_rows": null,
            "grid_column": null,
            "grid_gap": null,
            "grid_row": null,
            "grid_template_areas": null,
            "grid_template_columns": null,
            "grid_template_rows": null,
            "height": null,
            "justify_content": null,
            "justify_items": null,
            "left": null,
            "margin": null,
            "max_height": null,
            "max_width": null,
            "min_height": null,
            "min_width": null,
            "object_fit": null,
            "object_position": null,
            "order": null,
            "overflow": null,
            "overflow_x": null,
            "overflow_y": null,
            "padding": null,
            "right": null,
            "top": null,
            "visibility": null,
            "width": null
          }
        },
        "9a186bc4d15c4707909d7bc71bbaeb59": {
          "model_module": "@jupyter-widgets/controls",
          "model_name": "DescriptionStyleModel",
          "model_module_version": "1.5.0",
          "state": {
            "_model_module": "@jupyter-widgets/controls",
            "_model_module_version": "1.5.0",
            "_model_name": "DescriptionStyleModel",
            "_view_count": null,
            "_view_module": "@jupyter-widgets/base",
            "_view_module_version": "1.2.0",
            "_view_name": "StyleView",
            "description_width": ""
          }
        },
        "06ff030d549742abaf6ea850512b8155": {
          "model_module": "@jupyter-widgets/controls",
          "model_name": "IntTextModel",
          "model_module_version": "1.5.0",
          "state": {
            "_dom_classes": [],
            "_model_module": "@jupyter-widgets/controls",
            "_model_module_version": "1.5.0",
            "_model_name": "IntTextModel",
            "_view_count": null,
            "_view_module": "@jupyter-widgets/controls",
            "_view_module_version": "1.5.0",
            "_view_name": "IntTextView",
            "continuous_update": false,
            "description": "Weeks:",
            "description_tooltip": null,
            "disabled": false,
            "layout": "IPY_MODEL_7496ee216c6b44a994cdf26e16562bc1",
            "step": 1,
            "style": "IPY_MODEL_3626f01ad2444e969751f61bca71a919",
            "value": 5
          }
        },
        "7496ee216c6b44a994cdf26e16562bc1": {
          "model_module": "@jupyter-widgets/base",
          "model_name": "LayoutModel",
          "model_module_version": "1.2.0",
          "state": {
            "_model_module": "@jupyter-widgets/base",
            "_model_module_version": "1.2.0",
            "_model_name": "LayoutModel",
            "_view_count": null,
            "_view_module": "@jupyter-widgets/base",
            "_view_module_version": "1.2.0",
            "_view_name": "LayoutView",
            "align_content": null,
            "align_items": null,
            "align_self": null,
            "border": null,
            "bottom": null,
            "display": null,
            "flex": null,
            "flex_flow": null,
            "grid_area": null,
            "grid_auto_columns": null,
            "grid_auto_flow": null,
            "grid_auto_rows": null,
            "grid_column": null,
            "grid_gap": null,
            "grid_row": null,
            "grid_template_areas": null,
            "grid_template_columns": null,
            "grid_template_rows": null,
            "height": null,
            "justify_content": null,
            "justify_items": null,
            "left": null,
            "margin": null,
            "max_height": null,
            "max_width": null,
            "min_height": null,
            "min_width": null,
            "object_fit": null,
            "object_position": null,
            "order": null,
            "overflow": null,
            "overflow_x": null,
            "overflow_y": null,
            "padding": null,
            "right": null,
            "top": null,
            "visibility": null,
            "width": null
          }
        },
        "3626f01ad2444e969751f61bca71a919": {
          "model_module": "@jupyter-widgets/controls",
          "model_name": "DescriptionStyleModel",
          "model_module_version": "1.5.0",
          "state": {
            "_model_module": "@jupyter-widgets/controls",
            "_model_module_version": "1.5.0",
            "_model_name": "DescriptionStyleModel",
            "_view_count": null,
            "_view_module": "@jupyter-widgets/base",
            "_view_module_version": "1.2.0",
            "_view_name": "StyleView",
            "description_width": ""
          }
        },
        "6129c08572fa4c2fadee310f60916e58": {
          "model_module": "@jupyter-widgets/controls",
          "model_name": "TextModel",
          "model_module_version": "1.5.0",
          "state": {
            "_dom_classes": [],
            "_model_module": "@jupyter-widgets/controls",
            "_model_module_version": "1.5.0",
            "_model_name": "TextModel",
            "_view_count": null,
            "_view_module": "@jupyter-widgets/controls",
            "_view_module_version": "1.5.0",
            "_view_name": "TextView",
            "continuous_update": true,
            "description": "Your Name:",
            "description_tooltip": null,
            "disabled": false,
            "layout": "IPY_MODEL_5b04c6527499459cac84ac4e6fb50131",
            "placeholder": "​",
            "style": "IPY_MODEL_0f55334daa3f409cbb8f25e456148895",
            "value": "User"
          }
        },
        "5b04c6527499459cac84ac4e6fb50131": {
          "model_module": "@jupyter-widgets/base",
          "model_name": "LayoutModel",
          "model_module_version": "1.2.0",
          "state": {
            "_model_module": "@jupyter-widgets/base",
            "_model_module_version": "1.2.0",
            "_model_name": "LayoutModel",
            "_view_count": null,
            "_view_module": "@jupyter-widgets/base",
            "_view_module_version": "1.2.0",
            "_view_name": "LayoutView",
            "align_content": null,
            "align_items": null,
            "align_self": null,
            "border": null,
            "bottom": null,
            "display": null,
            "flex": null,
            "flex_flow": null,
            "grid_area": null,
            "grid_auto_columns": null,
            "grid_auto_flow": null,
            "grid_auto_rows": null,
            "grid_column": null,
            "grid_gap": null,
            "grid_row": null,
            "grid_template_areas": null,
            "grid_template_columns": null,
            "grid_template_rows": null,
            "height": null,
            "justify_content": null,
            "justify_items": null,
            "left": null,
            "margin": null,
            "max_height": null,
            "max_width": null,
            "min_height": null,
            "min_width": null,
            "object_fit": null,
            "object_position": null,
            "order": null,
            "overflow": null,
            "overflow_x": null,
            "overflow_y": null,
            "padding": null,
            "right": null,
            "top": null,
            "visibility": null,
            "width": null
          }
        },
        "0f55334daa3f409cbb8f25e456148895": {
          "model_module": "@jupyter-widgets/controls",
          "model_name": "DescriptionStyleModel",
          "model_module_version": "1.5.0",
          "state": {
            "_model_module": "@jupyter-widgets/controls",
            "_model_module_version": "1.5.0",
            "_model_name": "DescriptionStyleModel",
            "_view_count": null,
            "_view_module": "@jupyter-widgets/base",
            "_view_module_version": "1.2.0",
            "_view_name": "StyleView",
            "description_width": ""
          }
        },
        "2a161247450041aeac0ad12f9fb1e8b8": {
          "model_module": "@jupyter-widgets/controls",
          "model_name": "DropdownModel",
          "model_module_version": "1.5.0",
          "state": {
            "_dom_classes": [],
            "_model_module": "@jupyter-widgets/controls",
            "_model_module_version": "1.5.0",
            "_model_name": "DropdownModel",
            "_options_labels": [
              "Manual",
              "GenAI-Assisted",
              "Full Gen-AI"
            ],
            "_view_count": null,
            "_view_module": "@jupyter-widgets/controls",
            "_view_module_version": "1.5.0",
            "_view_name": "DropdownView",
            "description": "Approach:",
            "description_tooltip": null,
            "disabled": false,
            "index": 1,
            "layout": "IPY_MODEL_720bab51553c44c390e61d7663f7fe41",
            "style": "IPY_MODEL_99466363a671415485293416b2c58c46"
          }
        },
        "720bab51553c44c390e61d7663f7fe41": {
          "model_module": "@jupyter-widgets/base",
          "model_name": "LayoutModel",
          "model_module_version": "1.2.0",
          "state": {
            "_model_module": "@jupyter-widgets/base",
            "_model_module_version": "1.2.0",
            "_model_name": "LayoutModel",
            "_view_count": null,
            "_view_module": "@jupyter-widgets/base",
            "_view_module_version": "1.2.0",
            "_view_name": "LayoutView",
            "align_content": null,
            "align_items": null,
            "align_self": null,
            "border": null,
            "bottom": null,
            "display": null,
            "flex": null,
            "flex_flow": null,
            "grid_area": null,
            "grid_auto_columns": null,
            "grid_auto_flow": null,
            "grid_auto_rows": null,
            "grid_column": null,
            "grid_gap": null,
            "grid_row": null,
            "grid_template_areas": null,
            "grid_template_columns": null,
            "grid_template_rows": null,
            "height": null,
            "justify_content": null,
            "justify_items": null,
            "left": null,
            "margin": null,
            "max_height": null,
            "max_width": null,
            "min_height": null,
            "min_width": null,
            "object_fit": null,
            "object_position": null,
            "order": null,
            "overflow": null,
            "overflow_x": null,
            "overflow_y": null,
            "padding": null,
            "right": null,
            "top": null,
            "visibility": null,
            "width": null
          }
        },
        "99466363a671415485293416b2c58c46": {
          "model_module": "@jupyter-widgets/controls",
          "model_name": "DescriptionStyleModel",
          "model_module_version": "1.5.0",
          "state": {
            "_model_module": "@jupyter-widgets/controls",
            "_model_module_version": "1.5.0",
            "_model_name": "DescriptionStyleModel",
            "_view_count": null,
            "_view_module": "@jupyter-widgets/base",
            "_view_module_version": "1.2.0",
            "_view_name": "StyleView",
            "description_width": ""
          }
        },
        "d0477a4d180f402d9f884e397f2711c1": {
          "model_module": "@jupyter-widgets/controls",
          "model_name": "ButtonModel",
          "model_module_version": "1.5.0",
          "state": {
            "_dom_classes": [],
            "_model_module": "@jupyter-widgets/controls",
            "_model_module_version": "1.5.0",
            "_model_name": "ButtonModel",
            "_view_count": null,
            "_view_module": "@jupyter-widgets/controls",
            "_view_module_version": "1.5.0",
            "_view_name": "ButtonView",
            "button_style": "",
            "description": "Start Game",
            "disabled": false,
            "icon": "",
            "layout": "IPY_MODEL_15bc22cdc04749bab553db40114da83c",
            "style": "IPY_MODEL_4897c25806024c54b146634f4383f0ea",
            "tooltip": ""
          }
        },
        "15bc22cdc04749bab553db40114da83c": {
          "model_module": "@jupyter-widgets/base",
          "model_name": "LayoutModel",
          "model_module_version": "1.2.0",
          "state": {
            "_model_module": "@jupyter-widgets/base",
            "_model_module_version": "1.2.0",
            "_model_name": "LayoutModel",
            "_view_count": null,
            "_view_module": "@jupyter-widgets/base",
            "_view_module_version": "1.2.0",
            "_view_name": "LayoutView",
            "align_content": null,
            "align_items": null,
            "align_self": null,
            "border": null,
            "bottom": null,
            "display": null,
            "flex": null,
            "flex_flow": null,
            "grid_area": null,
            "grid_auto_columns": null,
            "grid_auto_flow": null,
            "grid_auto_rows": null,
            "grid_column": null,
            "grid_gap": null,
            "grid_row": null,
            "grid_template_areas": null,
            "grid_template_columns": null,
            "grid_template_rows": null,
            "height": null,
            "justify_content": null,
            "justify_items": null,
            "left": null,
            "margin": null,
            "max_height": null,
            "max_width": null,
            "min_height": null,
            "min_width": null,
            "object_fit": null,
            "object_position": null,
            "order": null,
            "overflow": null,
            "overflow_x": null,
            "overflow_y": null,
            "padding": null,
            "right": null,
            "top": null,
            "visibility": null,
            "width": null
          }
        },
        "4897c25806024c54b146634f4383f0ea": {
          "model_module": "@jupyter-widgets/controls",
          "model_name": "ButtonStyleModel",
          "model_module_version": "1.5.0",
          "state": {
            "_model_module": "@jupyter-widgets/controls",
            "_model_module_version": "1.5.0",
            "_model_name": "ButtonStyleModel",
            "_view_count": null,
            "_view_module": "@jupyter-widgets/base",
            "_view_module_version": "1.2.0",
            "_view_name": "StyleView",
            "button_color": null,
            "font_weight": ""
          }
        }
      }
    }
  },
  "nbformat": 4,
  "nbformat_minor": 0
}