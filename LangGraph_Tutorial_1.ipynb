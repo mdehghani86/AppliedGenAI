{
  "nbformat": 4,
  "nbformat_minor": 0,
  "metadata": {
    "colab": {
      "provenance": [],
      "authorship_tag": "ABX9TyPwKV3UFuyY7lfM9MEXabBs",
      "include_colab_link": true
    },
    "kernelspec": {
      "name": "python3",
      "display_name": "Python 3"
    },
    "language_info": {
      "name": "python"
    }
  },
  "cells": [
    {
      "cell_type": "markdown",
      "metadata": {
        "id": "view-in-github",
        "colab_type": "text"
      },
      "source": [
        "<a href=\"https://colab.research.google.com/github/mdehghani86/AppliedGenAI/blob/main/LangGraph_Tutorial_1.ipynb\" target=\"_parent\"><img src=\"https://colab.research.google.com/assets/colab-badge.svg\" alt=\"Open In Colab\"/></a>"
      ]
    },
    {
      "cell_type": "markdown",
      "source": [
        "# **LangGraph Lab : Part 1 🚀**\n",
        "- Prof. Dehghani\n",
        "## **Building More Controllable LLM Agents with LangGraph**\n",
        "\n",
        "## **Introduction**\n",
        "LangGraph is a framework designed for building **agent and multi-agent applications** with structured control. While large language models (LLMs) are powerful, they often require **more precise workflows** to ensure reliability.\n",
        "\n",
        "Many real-world applications need agents to follow **specific steps**, such as always calling a certain tool first or adjusting their prompts based on the current state. Traditional agent frameworks may not provide enough control for these scenarios. LangGraph introduces a **graph-based approach** that allows developers to define structured workflows while still benefiting from LLM flexibility.\n",
        "\n",
        "This lab is adapted from [LangChain Academy's Intro to LangGraph](https://academy.langchain.com/courses/intro-to-langgraph), which provides additional details and use cases.\n",
        "\n",
        "## **Lab Objectives**\n",
        "By the end of this lab, the following concepts will be covered:\n",
        "- The role of **graphs** in LLM-based agent workflows\n",
        "- How to define **nodes** (decision points) and **edges** (paths) in LangGraph\n",
        "- Implementing an **agent with controlled decision-making**\n",
        "- Exploring **multi-agent interactions** within a structured framework\n",
        "\n",
        "## **Getting Started**\n",
        "Run the following cell to install the required libraries:\n",
        "\n"
      ],
      "metadata": {
        "id": "-sCUJNA-pzym"
      }
    },
    {
      "cell_type": "code",
      "execution_count": 13,
      "metadata": {
        "id": "dUBqvLcsoxyf"
      },
      "outputs": [],
      "source": [
        "# 🚀 Install necessary libraries for LangGraph-based agent workflows\n",
        "%%capture --no-stderr\n",
        "%pip install --quiet -U langchain_openai langchain_core langchain_community tavily-python langgraph\n",
        "\n",
        "# langchain_openai: Provides integration with OpenAI models\n",
        "# langchain_core: Core components for building LangChain applications\n",
        "# langchain_community: Community-contributed integrations and tools\n",
        "# tavily-python: Enables web search capabilities for retrieval-augmented generation (RAG)\n"
      ]
    },
    {
      "cell_type": "code",
      "source": [
        "# 🔑 Retrieve OpenAI API key securely from Colab's userdata storage\n",
        "import os\n",
        "from google.colab import userdata\n",
        "\n",
        "openai_api_key = userdata.get('OpenAI_Key')  # Fetch the stored API key\n",
        "\n",
        "# Ensure the key is set as an environment variable\n",
        "if openai_api_key:\n",
        "    os.environ[\"OPENAI_API_KEY\"] = openai_api_key\n",
        "    print(\"✅ OpenAI API key successfully set.\")\n",
        "else:\n",
        "    print(\"⚠️ OpenAI API key not found. Please store it using Colab's userdata feature.\")\n"
      ],
      "metadata": {
        "id": "dCcipqIhrJmf",
        "outputId": "01b1c2e4-7c3a-4cc5-889e-ba4d3467c9ea",
        "colab": {
          "base_uri": "https://localhost:8080/"
        }
      },
      "execution_count": 3,
      "outputs": [
        {
          "output_type": "stream",
          "name": "stdout",
          "text": [
            "✅ OpenAI API key successfully set.\n"
          ]
        }
      ]
    },
    {
      "cell_type": "markdown",
      "source": [
        "# 🤖 Using GPT-4o and GPT-3.5 in LangChain  \n",
        "\n",
        "This section initializes **GPT-4o** and **GPT-3.5 Turbo** models using LangChain.  \n",
        "It demonstrates how to:  \n",
        "- Create a **human message** and send it as part of a conversation.  \n",
        "- Invoke both models with **single text inputs** and **message lists**.  \n",
        "- Print the responses for comparison.  \n",
        "\n",
        "Run the code to see how different models respond to the same input.\n"
      ],
      "metadata": {
        "id": "dfy7PTgGrxEX"
      }
    },
    {
      "cell_type": "code",
      "source": [
        "# 🤖 Initialize OpenAI Chat Models (GPT-4o & GPT-3.5)\n",
        "\n",
        "from langchain_openai import ChatOpenAI\n",
        "from langchain_core.messages import HumanMessage\n",
        "\n",
        "# Set up GPT-4o and GPT-3.5 Turbo with zero temperature for deterministic responses\n",
        "gpt4o_chat = ChatOpenAI(model=\"gpt-4o\", temperature=0)\n",
        "gpt35_chat = ChatOpenAI(model=\"gpt-3.5-turbo-0125\", temperature=0)\n",
        "\n",
        "# 🗣️ Create a human message instance\n",
        "msg = HumanMessage(content=\"Hello world\", name=\"Lance\")\n",
        "\n",
        "# Store the message inside a list (models expect message sequences)\n",
        "messages = [msg]\n",
        "\n",
        "#  Invoke the GPT-4o model with a message list\n",
        "response_4o = gpt4o_chat.invoke(messages)\n",
        "\n",
        "#  Invoke the GPT-4o and GPT-3.5 models with a simple text prompt\n",
        "response_4o_text = gpt4o_chat.invoke(\"hello world\")\n",
        "response_35_text = gpt35_chat.invoke(\"hello world\")\n",
        "\n",
        "# ✅ Display responses\n",
        "print(\"GPT-4o Response:\", response_4o)\n",
        "print(\"GPT-4o (Text) Response:\", response_4o_text)\n",
        "print(\"GPT-3.5 Response:\", response_35_text)\n"
      ],
      "metadata": {
        "id": "HJU_ydrxrJ9z",
        "outputId": "0f50c0b9-c523-4f72-ad16-6345635b8c74",
        "colab": {
          "base_uri": "https://localhost:8080/"
        }
      },
      "execution_count": 8,
      "outputs": [
        {
          "output_type": "stream",
          "name": "stdout",
          "text": [
            "GPT-4o Response: content='Hello! How can I assist you today?' additional_kwargs={'refusal': None} response_metadata={'token_usage': {'completion_tokens': 10, 'prompt_tokens': 11, 'total_tokens': 21, 'completion_tokens_details': {'accepted_prediction_tokens': 0, 'audio_tokens': 0, 'reasoning_tokens': 0, 'rejected_prediction_tokens': 0}, 'prompt_tokens_details': {'audio_tokens': 0, 'cached_tokens': 0}}, 'model_name': 'gpt-4o-2024-08-06', 'system_fingerprint': 'fp_f9f4fb6dbf', 'id': 'chatcmpl-BCTupbnZCCHvyTHNlkeUljURhDedc', 'finish_reason': 'stop', 'logprobs': None} id='run-703415df-717d-49ff-89fe-a86007a49afc-0' usage_metadata={'input_tokens': 11, 'output_tokens': 10, 'total_tokens': 21, 'input_token_details': {'audio': 0, 'cache_read': 0}, 'output_token_details': {'audio': 0, 'reasoning': 0}}\n",
            "GPT-4o (Text) Response: content='Hello! How can I assist you today?' additional_kwargs={'refusal': None} response_metadata={'token_usage': {'completion_tokens': 10, 'prompt_tokens': 9, 'total_tokens': 19, 'completion_tokens_details': {'accepted_prediction_tokens': 0, 'audio_tokens': 0, 'reasoning_tokens': 0, 'rejected_prediction_tokens': 0}, 'prompt_tokens_details': {'audio_tokens': 0, 'cached_tokens': 0}}, 'model_name': 'gpt-4o-2024-08-06', 'system_fingerprint': 'fp_90d33c15d4', 'id': 'chatcmpl-BCTupSGsCnCDzdTJeiDVk4B06e2m9', 'finish_reason': 'stop', 'logprobs': None} id='run-95cc25ac-76ed-40c1-94e5-a73dd7809a8f-0' usage_metadata={'input_tokens': 9, 'output_tokens': 10, 'total_tokens': 19, 'input_token_details': {'audio': 0, 'cache_read': 0}, 'output_token_details': {'audio': 0, 'reasoning': 0}}\n",
            "GPT-3.5 Response: content='Hello! How can I assist you today?' additional_kwargs={'refusal': None} response_metadata={'token_usage': {'completion_tokens': 10, 'prompt_tokens': 9, 'total_tokens': 19, 'completion_tokens_details': {'accepted_prediction_tokens': 0, 'audio_tokens': 0, 'reasoning_tokens': 0, 'rejected_prediction_tokens': 0}, 'prompt_tokens_details': {'audio_tokens': 0, 'cached_tokens': 0}}, 'model_name': 'gpt-3.5-turbo-0125', 'system_fingerprint': None, 'id': 'chatcmpl-BCTuqwzDO5s0jeZAyEVrsxbqNznK8', 'finish_reason': 'stop', 'logprobs': None} id='run-83cdb0c0-1459-4d67-b301-bb3f95aef5c4-0' usage_metadata={'input_tokens': 9, 'output_tokens': 10, 'total_tokens': 19, 'input_token_details': {'audio': 0, 'cache_read': 0}, 'output_token_details': {'audio': 0, 'reasoning': 0}}\n"
          ]
        }
      ]
    },
    {
      "cell_type": "markdown",
      "source": [
        "# 🔎 What is Tavily?  \n",
        "\n",
        "[Tavily](https://tavily.com/) is a web search API that allows AI applications to retrieve real-time information from the internet.  \n",
        "It is commonly used in *retrieval-augmented generation (RAG)* systems, where an LLM enhances responses by fetching *up-to-date* and relevant data from external sources.  \n",
        "\n",
        "In this lab, Tavily will be used to perform web searches and integrate real-world information into LangGraph workflows.  \n"
      ],
      "metadata": {
        "id": "TFrC1ADBsQRy"
      }
    },
    {
      "cell_type": "code",
      "source": [
        "# 🔑 Retrieve Tavily API key securely from Colab's userdata storage\n",
        "tavily_api_key = userdata.get('Tavily_Key')  # Fetch the stored API key\n",
        "\n",
        "# Ensure the key is set as an environment variable\n",
        "if tavily_api_key:\n",
        "    os.environ[\"TAVILY_API_KEY\"] = tavily_api_key\n",
        "    print(\"✅ Tavily API key successfully set.\")\n",
        "else:\n",
        "    print(\"⚠️ Tavily API key not found. Please store it using Colab's userdata feature.\")\n"
      ],
      "metadata": {
        "id": "yEHHfRr6rpZU",
        "outputId": "fc5b956e-c6f4-4895-c862-5cb8e36e21ae",
        "colab": {
          "base_uri": "https://localhost:8080/"
        }
      },
      "execution_count": 9,
      "outputs": [
        {
          "output_type": "stream",
          "name": "stdout",
          "text": [
            "✅ Tavily API key successfully set.\n"
          ]
        }
      ]
    },
    {
      "cell_type": "code",
      "source": [
        "# 🔍 Using Tavily for Web Search in LangChain\n",
        "\n",
        "from langchain_community.tools.tavily_search import TavilySearchResults\n",
        "\n",
        "# Initialize Tavily search tool with a maximum of 3 results\n",
        "tavily_search = TavilySearchResults(max_results=3)\n",
        "\n",
        "# Perform a web search query\n",
        "query = \"What is LangGraph?\"\n",
        "search_docs = tavily_search.invoke(query)\n",
        "\n",
        "# ✅ Display the retrieved search results\n",
        "print(\"🔹 Tavily Search Results for:\", query)\n",
        "print(search_docs)\n"
      ],
      "metadata": {
        "id": "sNHGFpEisuN1",
        "outputId": "7b0e1fd6-b2a4-49bd-aeee-186b56a3b772",
        "colab": {
          "base_uri": "https://localhost:8080/"
        }
      },
      "execution_count": 10,
      "outputs": [
        {
          "output_type": "stream",
          "name": "stdout",
          "text": [
            "🔹 Tavily Search Results for: What is LangGraph?\n",
            "[{'title': \"Introduction to LangGraph: A Beginner's Guide - Medium\", 'url': 'https://medium.com/@cplog/introduction-to-langgraph-a-beginners-guide-14f9be027141', 'content': 'LangGraph is a powerful tool for building stateful, multi-actor applications with Large Language Models (LLMs). It extends the LangChain library, allowing you to coordinate multiple chains (or actors) across multiple steps of computation in a cyclic manner. In this article, we’ll introduce LangGraph, walk you through its basic concepts, and share some insights and common points of confusion for beginners.\\nWhat is LangGraph? [...] LangGraph is a library built on top of LangChain, designed to add cyclic computational capabilities to your LLM applications. While LangChain allows you to define chains of computation (Directed Acyclic Graphs or DAGs), LangGraph introduces the ability to add cycles, enabling more complex, agent-like behaviors where you can call an LLM in a loop, asking it what action to take next.\\nKey Concepts\\nA Simple Example [...] LangGraph is a versatile tool for building complex, stateful applications with LLMs. By understanding its core concepts and working through simple examples, beginners can start to leverage its power for their projects. Remember to pay attention to state management, conditional edges, and ensuring there are no dead-end nodes in your graph. Happy coding!\\n--\\n--\\n9\\nWritten by CPlog', 'score': 0.906350348974359}, {'title': 'What Is LangGraph and How to Use It? - DataCamp', 'url': 'https://www.datacamp.com/tutorial/langgraph-tutorial', 'content': \"Home\\nTutorials\\nArtificial Intelligence\\n\\nLangGraph Tutorial: What Is LangGraph and How to Use It?\\nLangGraph is a library within the LangChain ecosystem that provides a framework for defining, coordinating, and executing multiple LLM agents (or chains) in a structured and efficient manner.\\nJun 26, 2024 \\xa0· 12 min read\\nShare [...] Imagine you're building a complex, multi-agent large language model (LLM) application. It's exciting, but it comes with challenges: managing the state of various agents, coordinating their interactions, and handling errors effectively. This is where LangGraph can help.\\nLangGraph is a library within the LangChain ecosystem designed to tackle these challenges head-on. LangGraph provides a framework for defining, coordinating, and executing multiple LLM agents (or chains) in a structured manner. [...] Related\\ntutorial ### LangGraph Studio Guide: Installation, Set Up, Use Cases\\nLangGraph Studio is a visual development environment for LangChain’s LangGraph framework, simplifying the development of complex agentic applications built with LangChain components.\", 'score': 0.8902609231303419}, {'title': 'Home - GitHub Pages', 'url': 'https://langchain-ai.github.io/langgraph/', 'content': '🦜🕸️LangGraph¶\\n   \\n⚡ Building language agents as graphs ⚡\\nNote\\nLooking for the JS version? See the JS repo and the JS docs.\\nOverview¶\\nLangGraph is a library for building stateful, multi-actor applications with LLMs, used to create agent and multi-agent workflows. Check out an introductory tutorial here. [...] Tip\\nLangGraph is a low-level framework that allows you to implement any custom agent architectures. Click on the low-level implementation below to see how to implement a tool-calling agent from scratch.\\nLow-level implementation\\n[](https://langchain-ai.github.io/langgraph/#__codelineno-8-1)from typing import Literal\\n[](https://langchain-ai.github.io/langgraph/#__codelineno-8-2)\\n[](https://langchain-ai.github.io/langgraph/#__codelineno-8-3)from langchain_anthropic import ChatAnthropic', 'score': 0.8835397683814102}]\n"
          ]
        }
      ]
    },
    {
      "cell_type": "markdown",
      "source": [
        "# The Simplest Graph  \n",
        "\n",
        "Let's build a simple graph with **three nodes** and **one conditional edge**. This structure allows an agent to make a decision at a branching point, directing the flow based on predefined conditions.  \n",
        "\n",
        "<img src=\"https://cdn.prod.website-files.com/65b8cd72835ceeacd4449a53/66dba5f465f6e9a2482ad935_simple-graph1.png\" width=\"600\"/>  \n",
        "\n",
        "This example demonstrates how **LangGraph** enables structured decision-making while maintaining flexibility.  \n"
      ],
      "metadata": {
        "id": "iPZfc7FKtqXr"
      }
    },
    {
      "cell_type": "markdown",
      "source": [
        "## 🛠️ Understanding Graph Components  \n",
        "\n",
        "LangGraph workflows consist of **three main components**: *State, Nodes, and Edges*. Each plays a key role in defining how information flows through the graph.  \n",
        "\n",
        "---\n",
        "\n",
        "## 🧠 State  \n",
        "\n",
        "The **State** ([docs](https://langchain-ai.github.io/langgraph/concepts/low_level/#state)) acts as the **shared memory** of the graph, storing data that nodes can read and modify.  \n",
        "\n",
        "- Every *node and edge* interacts with the state.  \n",
        "- It is defined using `TypedDict` from Python’s `typing` module, which helps structure data with type hints.  \n",
        "- Nodes modify the state by updating specific keys.  \n",
        "\n",
        "---\n",
        "\n",
        "## 🔵 Nodes  \n",
        "\n",
        "A **Node** ([docs](https://langchain-ai.github.io/langgraph/concepts/low_level/#nodes)) is a simple **Python function** that processes the state.  \n",
        "\n",
        "- The **first argument** of a node function is always the *state*.  \n",
        "- Nodes can *read and modify* the state using keys like `state['graph_state']`.  \n",
        "- By default, when a node returns a value, it updates the state and replaces the previous value ([reducers](https://langchain-ai.github.io/langgraph/concepts/low_level/#reducers) handle this).  \n",
        "\n",
        "---\n",
        "\n",
        "## 🔀 Edges  \n",
        "\n",
        "An **Edge** ([docs](https://langchain-ai.github.io/langgraph/concepts/low_level/#edges)) connects nodes and controls how data moves between them.  \n",
        "\n",
        "Two types of edges exist:  \n",
        "- **Normal Edges** → Always transition from one node to the next (e.g., `node_1 → node_2`).  \n",
        "- **Conditional Edges** ([docs](https://langchain-ai.github.io/langgraph/concepts/low_level/#conditional-edges)) → Decide the next node dynamically based on logic.  \n",
        "\n",
        "Conditional edges *act like decision points*, determining the next step in the workflow.  \n"
      ],
      "metadata": {
        "id": "ldOostBhtwUI"
      }
    },
    {
      "cell_type": "code",
      "source": [
        "from typing_extensions import TypedDict\n",
        "from typing import Literal\n",
        "import random\n",
        "\n",
        "# 🎯 Define the State Schema\n",
        "# The state acts as shared memory for the graph.\n",
        "# It stores a key-value pair where 'graph_state' holds a string that evolves as nodes modify it.\n",
        "class State(TypedDict):\n",
        "    graph_state: str  # Tracks the sentence as it builds through the nodes\n",
        "\n",
        "# 🔵 Define Nodes\n",
        "# Each node modifies the 'graph_state' by appending its own text.\n",
        "# Nodes simulate a simple sentence-building process.\n",
        "\n",
        "def node_1(state: State) -> State:\n",
        "    \"\"\"Node 1 initializes the sentence with 'I am'.\"\"\"\n",
        "    print(\"--- Node 1 ---\")\n",
        "    return {\"graph_state\": state[\"graph_state\"] + \" I am\"}\n",
        "\n",
        "def node_2(state: State) -> State:\n",
        "    \"\"\"Node 2 completes the sentence with 'happy!'.\"\"\"\n",
        "    print(\"--- Node 2 ---\")\n",
        "    return {\"graph_state\": state[\"graph_state\"] + \" happy!\"}\n",
        "\n",
        "def node_3(state: State) -> State:\n",
        "    \"\"\"Node 3 completes the sentence with 'sad!'.\"\"\"\n",
        "    print(\"--- Node 3 ---\")\n",
        "    return {\"graph_state\": state[\"graph_state\"] + \" sad!\"}\n",
        "\n",
        "# 🔀 Define the Decision Function\n",
        "# This function decides whether to send the state to Node 2 or Node 3.\n",
        "# It randomly picks between the two, simulating an unpredictable emotional outcome.\n",
        "\n",
        "def decide_mood(state: State) -> Literal[\"node_2\", \"node_3\"]:\n",
        "    \"\"\"Randomly selects between Node 2 (happy) and Node 3 (sad).\"\"\"\n",
        "\n",
        "    # Simulate a 50/50 decision\n",
        "    if random.random() < 0.5:\n",
        "        return \"node_2\"  # 50% chance to go to Node 2 (happy)\n",
        "    return \"node_3\"  # 50% chance to go to Node 3 (sad)\n"
      ],
      "metadata": {
        "id": "rSoT9P3NtseJ"
      },
      "execution_count": 12,
      "outputs": []
    },
    {
      "cell_type": "markdown",
      "source": [
        "## 🚀 Graph Construction  \n",
        "\n",
        "Now, it's time to build the graph using the **components** defined earlier. The **StateGraph class** is used to create and manage the graph structure.  \n",
        "\n",
        "### 🏗️ Steps to Build the Graph  \n",
        "1. **Initialize the Graph** → Create a `StateGraph` using the `State` class.  \n",
        "2. **Add Nodes and Edges** → Define how the graph flows.  \n",
        "3. **Use Special Nodes**:  \n",
        "   - **`START` Node** → Sends user input into the graph.  \n",
        "   - **`END` Node** → Represents a terminal state.  \n",
        "4. **Compile the Graph** → Ensures structural validity.  \n",
        "5. **Visualize** → Convert it into a **Mermaid diagram** for better understanding.  \n",
        "\n",
        "### 🔗 Reference Table  \n",
        "\n",
        "| Concept       | Documentation Link |\n",
        "|--------------|------------------|\n",
        "| StateGraph Class | [StateGraph Docs](https://langchain-ai.github.io/langgraph/concepts/low_level/#stategraph) |\n",
        "| START Node   | [START Node Docs](https://langchain-ai.github.io/langgraph/concepts/low_level/#start-node) |\n",
        "| END Node     | [END Node Docs](https://langchain-ai.github.io/langgraph/concepts/low_level/#end-node) |\n",
        "| Graph Compilation | [Compiling a Graph](https://langchain-ai.github.io/langgraph/concepts/low_level/#compiling-your-graph) |\n",
        "| Mermaid Diagrams | [Mermaid Docs](https://github.com/mermaid-js/mermaid) |\n",
        "\n",
        "This approach makes the graph more **structured, adaptable, and easy to debug**.  \n"
      ],
      "metadata": {
        "id": "lrjO8J8DvENy"
      }
    },
    {
      "cell_type": "code",
      "source": [
        "from IPython.display import Image, display\n",
        "from langgraph.graph import StateGraph, START, END\n",
        "\n",
        "# 🏗️ Initialize the Graph Builder\n",
        "# The StateGraph is created using the State schema defined earlier.\n",
        "builder = StateGraph(State)\n",
        "\n",
        "# 🔵 Add Nodes\n",
        "# Each node represents a step in the process and modifies the graph_state.\n",
        "builder.add_node(\"node_1\", node_1)  # Starts the sentence\n",
        "builder.add_node(\"node_2\", node_2)  # Appends \"happy!\"\n",
        "builder.add_node(\"node_3\", node_3)  # Appends \"sad!\"\n",
        "\n",
        "# 🔗 Define Graph Flow (Edges)\n",
        "# Edges define how nodes connect to each other.\n",
        "\n",
        "# The START node sends input to \"node_1\"\n",
        "builder.add_edge(START, \"node_1\")\n",
        "\n",
        "# From \"node_1\", the next step is decided dynamically using the decide_mood function.\n",
        "builder.add_conditional_edges(\"node_1\", decide_mood)\n",
        "\n",
        "# \"node_2\" (happy) and \"node_3\" (sad) both lead to the END node.\n",
        "builder.add_edge(\"node_2\", END)\n",
        "builder.add_edge(\"node_3\", END)\n",
        "\n",
        "# ✅ Compile the Graph\n",
        "# This ensures that the structure is valid and ready for execution.\n",
        "graph = builder.compile()\n",
        "\n",
        "# 🖼️ Visualize the Graph\n",
        "# Generates a Mermaid diagram to display the flow of nodes and edges.\n",
        "display(Image(graph.get_graph().draw_mermaid_png()))\n"
      ],
      "metadata": {
        "id": "OskefMiJvDn7",
        "outputId": "001d5664-9654-4371-d581-e4a3a224f14a",
        "colab": {
          "base_uri": "https://localhost:8080/",
          "height": 350
        }
      },
      "execution_count": 13,
      "outputs": [
        {
          "output_type": "display_data",
          "data": {
            "image/png": "[encoded data removed]",
            "text/plain": [
              "<IPython.core.display.Image object>"
            ]
          },
          "metadata": {}
        }
      ]
    },
    {
      "cell_type": "markdown",
      "source": [
        "## Graph Invocation  \n",
        "\n",
        "The compiled graph follows the [runnable](https://python.langchain.com/docs/concepts/runnables/) protocol, providing a standardized way to execute LangChain components. The `invoke` method is used to start execution, with an input dictionary like `{\"graph_state\": \"Hi, this is Lance.\"}` setting the initial state. The graph begins at the `START` node and moves through the defined nodes (`node_1`, `node_2`, `node_3`) based on the control flow. A conditional edge determines whether the execution moves from `node_1` to `node_2` or `node_3`, following a 50/50 probability rule. Each node processes the current state, modifies the `graph_state` value, and returns the updated state. The execution continues along the directed edges until it reaches the `END` node, where the final graph state is returned.\n"
      ],
      "metadata": {
        "id": "c9PlWY6jvvf6"
      }
    },
    {
      "cell_type": "code",
      "source": [
        "graph.invoke({\"graph_state\" : \"Hi, this is Lance.\"})"
      ],
      "metadata": {
        "id": "1tEzUm9QveUE",
        "outputId": "a75af52e-c31b-4086-cc35-92ca7245c45d",
        "colab": {
          "base_uri": "https://localhost:8080/"
        }
      },
      "execution_count": 14,
      "outputs": [
        {
          "output_type": "stream",
          "name": "stdout",
          "text": [
            "--- Node 1 ---\n",
            "--- Node 2 ---\n"
          ]
        },
        {
          "output_type": "execute_result",
          "data": {
            "text/plain": [
              "{'graph_state': 'Hi, this is Lance. I am happy!'}"
            ]
          },
          "metadata": {},
          "execution_count": 14
        }
      ]
    },
    {
      "cell_type": "markdown",
      "source": [
        "# ✈️ Airport Security Screening Simulation (LangGraph Hands-On)\n",
        "\n",
        "## 🛫 Scenario\n",
        "In this exercise, we simulate an **airport security screening process** using **LangGraph**. Passengers arrive at security and are categorized into:\n",
        "1. **TSA PreCheck (20%)** → Fast screening\n",
        "2. **Regular Screening (80%)** → Standard security check\n",
        "3. **Additional Screening (10% of Regular Passengers)** → Extra checks before proceeding to gates\n",
        "\n",
        "Below is a **visual representation** of the screening process:\n",
        "\n",
        "![Airport Security Flow](https://www.dropbox.com/scl/fi/o3ipy33svrcg64myu0u0s/AirPort_Security.png?rlkey=d6hc4bqdphzducnixba9ic2ai&dl=1)\n",
        "\n",
        "---\n",
        "## Task: Complete the Missing Code\n",
        "Your goal is to **fill in the placeholders (`-------`)** to define functions and logic in the LangGraph framework.\n"
      ],
      "metadata": {
        "id": "qZ3g3hX9aZ_E"
      }
    },
    {
      "cell_type": "code",
      "source": [
        "from typing_extensions import TypedDict\n",
        "from typing import Literal\n",
        "import random\n",
        "from IPython.display import Image, display\n",
        "from langgraph.graph import StateGraph, START, END\n",
        "\n",
        "\n",
        "# 🎯 Define the State Schema\n",
        "class AirportState(TypedDict):\n",
        "    passenger_type: str  # Tracks whether passenger is Regular or TSA PreCheck\n",
        "\n",
        "# 🔵 Define Nodes\n",
        "def start_node(state: AirportState) -> AirportState:\n",
        "    \"\"\"Initial step where a passenger enters security.\"\"\"\n",
        "    print(\"🛫 Passenger arrives at security.\")\n",
        "    return state\n",
        "\n",
        "def tsa_screening(state: -------) -> -------:\n",
        "    \"\"\"TSA PreCheck passengers go through expedited screening.\"\"\"\n",
        "    print(\"🟢 TSA PreCheck passenger goes through expedited screening.\")\n",
        "    return state\n",
        "\n",
        "def regular_screening(state: -------) -> -------:\n",
        "    \"\"\"Regular passengers go through standard screening.\"\"\"\n",
        "    print(\"🔎 Regular passenger goes through standard screening.\")\n",
        "    return state\n",
        "\n",
        "def additional_screening(state: -------) -> -------:\n",
        "    \"\"\"Additional screening for some regular passengers.\"\"\"\n",
        "    print(\"⚠️ Additional screening required for passenger.\")\n",
        "    return -------\n",
        "\n",
        "def gates(state: -------) -> -------:\n",
        "    \"\"\"All passengers proceed to the boarding gates.\"\"\"\n",
        "    print(\"✅ Passenger cleared security. Proceeding to Gates!\")\n",
        "    return -------\n",
        "\n",
        "# 🔀 Define the First Decision Function (TSA or Regular)\n",
        "def assign_passenger_type(state: -------) -> Literal[\"-------\", \"-------\"]:\n",
        "    \"\"\"Randomly assigns passengers to TSA PreCheck (20%) or Regular (80%).\"\"\"\n",
        "    if random.random() < -------:\n",
        "        print(\"🟢 Passenger assigned to TSA PreCheck.\")\n",
        "        return \"tsa_screening\"\n",
        "    else:\n",
        "        print(\"🔵 Passenger assigned to Regular Screening.\")\n",
        "        return \"regular_screening\"\n",
        "\n",
        "# 🔀 Define the Second Decision Function (Regular -> Additional Screening or Gates)\n",
        "def additional_screening_decision(state: -------) -> -------[\"-------\", \"-------\"]:\n",
        "    \"\"\"10% of regular passengers go to additional screening, while 90% proceed to gates.\"\"\"\n",
        "    if random.random() < -------:\n",
        "        print(\"⚠️ Passenger selected for additional screening.\")\n",
        "        return \"-------\"\n",
        "    else:\n",
        "        print(\"✅ Passenger cleared security after regular screening.\")\n",
        "        return \"-------\"\n",
        "\n",
        "# 🏗️ Build the Graph\n",
        "builder = StateGraph(-------)\n",
        "\n",
        "# 🔵 Add Nodes\n",
        "builder.-------(\"start_node\", -------)\n",
        "builder.add_node(\"tsa_screening\", -------)\n",
        "builder.add_node(\"regular_screening\", -------)\n",
        "builder.add_node(\"additional_screening\", -------)\n",
        "builder.add_node(\"gates\", -------)\n",
        "\n",
        "# 🔗 Define Graph Flow (Edges)\n",
        "builder.-------(START, \"-------\")\n",
        "builder.add_conditional_edges(\"start_node\", -------)\n",
        "builder.add_edge(\"tsa_screening\", \"-------\")\n",
        "builder.add_conditional_edges(\"regular_screening\", -------)\n",
        "builder.add_edge(\"additional_screening\", \"-------\")\n",
        "builder.add_edge(\"gates\", END)\n",
        "\n",
        "# ✅ Compile the Graph\n",
        "graph = builder.-------\n",
        "\n",
        "# 🖼️ Visualize the Graph\n",
        "display(Image(graph.get_graph().-------))\n",
        "\n",
        "# 🚀 Run the Graph\n",
        "graph.-------({})\n"
      ],
      "metadata": {
        "id": "QzWO66tmcQ3D",
        "outputId": "a030285d-e084-495d-9264-93f041bd359c",
        "colab": {
          "base_uri": "https://localhost:8080/",
          "height": 106
        }
      },
      "execution_count": 9,
      "outputs": [
        {
          "output_type": "error",
          "ename": "SyntaxError",
          "evalue": "invalid syntax (<ipython-input-9-1a0b686b853c>, line 27)",
          "traceback": [
            "\u001b[0;36m  File \u001b[0;32m\"<ipython-input-9-1a0b686b853c>\"\u001b[0;36m, line \u001b[0;32m27\u001b[0m\n\u001b[0;31m    def tsa_screening(state: -------) -> -------:\u001b[0m\n\u001b[0m                                    ^\u001b[0m\n\u001b[0;31mSyntaxError\u001b[0m\u001b[0;31m:\u001b[0m invalid syntax\n"
          ]
        }
      ]
    },
    {
      "cell_type": "code",
      "source": [
        "# 🔄 Refresh this cell to see how the model works on different scenarios\n",
        "graph.invoke({})\n"
      ],
      "metadata": {
        "id": "hKgjr5E9LSN1",
        "outputId": "c967844e-095f-4057-ea45-2f139159c92f",
        "colab": {
          "base_uri": "https://localhost:8080/"
        }
      },
      "execution_count": 52,
      "outputs": [
        {
          "output_type": "stream",
          "name": "stdout",
          "text": [
            "🛫 Passenger arrives at security.\n",
            "🟢 Passenger assigned to TSA PreCheck.\n",
            "🟢 TSA PreCheck passenger goes through expedited screening.\n",
            "✅ Passenger cleared security. Proceeding to Gates!\n"
          ]
        }
      ]
    },
    {
      "cell_type": "code",
      "source": [
        "!pip install -U langchain-openai\n"
      ],
      "metadata": {
        "id": "DEVOByGlpFz2",
        "outputId": "42e2e940-3a1e-4510-978b-37c0b7013f9c",
        "colab": {
          "base_uri": "https://localhost:8080/"
        }
      },
      "execution_count": 8,
      "outputs": [
        {
          "output_type": "stream",
          "name": "stdout",
          "text": [
            "Requirement already satisfied: langchain-openai in /usr/local/lib/python3.11/dist-packages (0.3.9)\n",
            "Requirement already satisfied: langchain-core<1.0.0,>=0.3.45 in /usr/local/lib/python3.11/dist-packages (from langchain-openai) (0.3.45)\n",
            "Requirement already satisfied: openai<2.0.0,>=1.66.3 in /usr/local/lib/python3.11/dist-packages (from langchain-openai) (1.66.5)\n",
            "Requirement already satisfied: tiktoken<1,>=0.7 in /usr/local/lib/python3.11/dist-packages (from langchain-openai) (0.9.0)\n",
            "Requirement already satisfied: langsmith<0.4,>=0.1.125 in /usr/local/lib/python3.11/dist-packages (from langchain-core<1.0.0,>=0.3.45->langchain-openai) (0.3.13)\n",
            "Requirement already satisfied: tenacity!=8.4.0,<10.0.0,>=8.1.0 in /usr/local/lib/python3.11/dist-packages (from langchain-core<1.0.0,>=0.3.45->langchain-openai) (9.0.0)\n",
            "Requirement already satisfied: jsonpatch<2.0,>=1.33 in /usr/local/lib/python3.11/dist-packages (from langchain-core<1.0.0,>=0.3.45->langchain-openai) (1.33)\n",
            "Requirement already satisfied: PyYAML>=5.3 in /usr/local/lib/python3.11/dist-packages (from langchain-core<1.0.0,>=0.3.45->langchain-openai) (6.0.2)\n",
            "Requirement already satisfied: packaging<25,>=23.2 in /usr/local/lib/python3.11/dist-packages (from langchain-core<1.0.0,>=0.3.45->langchain-openai) (24.2)\n",
            "Requirement already satisfied: typing-extensions>=4.7 in /usr/local/lib/python3.11/dist-packages (from langchain-core<1.0.0,>=0.3.45->langchain-openai) (4.12.2)\n",
            "Requirement already satisfied: pydantic<3.0.0,>=2.5.2 in /usr/local/lib/python3.11/dist-packages (from langchain-core<1.0.0,>=0.3.45->langchain-openai) (2.10.6)\n",
            "Requirement already satisfied: anyio<5,>=3.5.0 in /usr/local/lib/python3.11/dist-packages (from openai<2.0.0,>=1.66.3->langchain-openai) (3.7.1)\n",
            "Requirement already satisfied: distro<2,>=1.7.0 in /usr/local/lib/python3.11/dist-packages (from openai<2.0.0,>=1.66.3->langchain-openai) (1.9.0)\n",
            "Requirement already satisfied: httpx<1,>=0.23.0 in /usr/local/lib/python3.11/dist-packages (from openai<2.0.0,>=1.66.3->langchain-openai) (0.28.1)\n",
            "Requirement already satisfied: jiter<1,>=0.4.0 in /usr/local/lib/python3.11/dist-packages (from openai<2.0.0,>=1.66.3->langchain-openai) (0.9.0)\n",
            "Requirement already satisfied: sniffio in /usr/local/lib/python3.11/dist-packages (from openai<2.0.0,>=1.66.3->langchain-openai) (1.3.1)\n",
            "Requirement already satisfied: tqdm>4 in /usr/local/lib/python3.11/dist-packages (from openai<2.0.0,>=1.66.3->langchain-openai) (4.67.1)\n",
            "Requirement already satisfied: regex>=2022.1.18 in /usr/local/lib/python3.11/dist-packages (from tiktoken<1,>=0.7->langchain-openai) (2024.11.6)\n",
            "Requirement already satisfied: requests>=2.26.0 in /usr/local/lib/python3.11/dist-packages (from tiktoken<1,>=0.7->langchain-openai) (2.32.3)\n",
            "Requirement already satisfied: idna>=2.8 in /usr/local/lib/python3.11/dist-packages (from anyio<5,>=3.5.0->openai<2.0.0,>=1.66.3->langchain-openai) (3.10)\n",
            "Requirement already satisfied: certifi in /usr/local/lib/python3.11/dist-packages (from httpx<1,>=0.23.0->openai<2.0.0,>=1.66.3->langchain-openai) (2025.1.31)\n",
            "Requirement already satisfied: httpcore==1.* in /usr/local/lib/python3.11/dist-packages (from httpx<1,>=0.23.0->openai<2.0.0,>=1.66.3->langchain-openai) (1.0.7)\n",
            "Requirement already satisfied: h11<0.15,>=0.13 in /usr/local/lib/python3.11/dist-packages (from httpcore==1.*->httpx<1,>=0.23.0->openai<2.0.0,>=1.66.3->langchain-openai) (0.14.0)\n",
            "Requirement already satisfied: jsonpointer>=1.9 in /usr/local/lib/python3.11/dist-packages (from jsonpatch<2.0,>=1.33->langchain-core<1.0.0,>=0.3.45->langchain-openai) (3.0.0)\n",
            "Requirement already satisfied: orjson<4.0.0,>=3.9.14 in /usr/local/lib/python3.11/dist-packages (from langsmith<0.4,>=0.1.125->langchain-core<1.0.0,>=0.3.45->langchain-openai) (3.10.15)\n",
            "Requirement already satisfied: requests-toolbelt<2.0.0,>=1.0.0 in /usr/local/lib/python3.11/dist-packages (from langsmith<0.4,>=0.1.125->langchain-core<1.0.0,>=0.3.45->langchain-openai) (1.0.0)\n",
            "Requirement already satisfied: zstandard<0.24.0,>=0.23.0 in /usr/local/lib/python3.11/dist-packages (from langsmith<0.4,>=0.1.125->langchain-core<1.0.0,>=0.3.45->langchain-openai) (0.23.0)\n",
            "Requirement already satisfied: annotated-types>=0.6.0 in /usr/local/lib/python3.11/dist-packages (from pydantic<3.0.0,>=2.5.2->langchain-core<1.0.0,>=0.3.45->langchain-openai) (0.7.0)\n",
            "Requirement already satisfied: pydantic-core==2.27.2 in /usr/local/lib/python3.11/dist-packages (from pydantic<3.0.0,>=2.5.2->langchain-core<1.0.0,>=0.3.45->langchain-openai) (2.27.2)\n",
            "Requirement already satisfied: charset-normalizer<4,>=2 in /usr/local/lib/python3.11/dist-packages (from requests>=2.26.0->tiktoken<1,>=0.7->langchain-openai) (3.4.1)\n",
            "Requirement already satisfied: urllib3<3,>=1.21.1 in /usr/local/lib/python3.11/dist-packages (from requests>=2.26.0->tiktoken<1,>=0.7->langchain-openai) (2.3.0)\n"
          ]
        }
      ]
    },
    {
      "cell_type": "code",
      "source": [
        "from typing_extensions import TypedDict, Annotated\n",
        "from typing import Literal\n",
        "import random\n",
        "import json\n",
        "from IPython.display import Image, display\n",
        "from langgraph.graph import StateGraph, START, END\n",
        "from langchain_openai import ChatOpenAI\n",
        "from google.colab import userdata\n",
        "from langchain.schema import AIMessage, HumanMessage\n",
        "\n",
        "# 🔑 Secure OpenAI API Key\n",
        "OPENAI_API_KEY = userdata.get('OpenAI_Key')\n",
        "llm = ChatOpenAI(model=\"gpt-4\", temperature=0.7, api_key=OPENAI_API_KEY)\n",
        "\n",
        "# 🎯 Define State Schema\n",
        "class AirportState(TypedDict):\n",
        "    passenger_type: str  # \"TSA\" or \"Regular\"\n",
        "    luggage: Annotated[list, \"merge\"]  # Luggage details (set once)\n",
        "    screening_notes: Annotated[list, \"merge\"]  # Screening decisions\n",
        "    flagged: bool  # True if extra screening is needed\n",
        "    total_passengers: int  # Counter for total passengers\n",
        "    flagged_passengers: int  # Counter for flagged screenings\n",
        "\n",
        "# 🔵 Define Nodes\n",
        "def create_passenger(state: AirportState) -> AirportState:\n",
        "    \"\"\"Creates a passenger and assigns luggage.\"\"\"\n",
        "    print(\"🛫 Passenger enters airport security.\")\n",
        "    return check_luggage(state)\n",
        "\n",
        "def check_luggage(state: AirportState) -> AirportState:\n",
        "    \"\"\"AI generates a list of items for the passenger luggage.\"\"\"\n",
        "    if \"luggage\" not in state or not state[\"luggage\"]:\n",
        "        prompt = (\n",
        "            \"List 6-10 items in the passenger's luggage \"\n",
        "            \"Format response as a JSON list (e.g., [\\\"Laptop\\\", \\\"Liquid bottle\\\", \\\"Knife\\\"]).\"\n",
        "        )\n",
        "\n",
        "        response = llm([HumanMessage(content=prompt)])\n",
        "\n",
        "        try:\n",
        "            items = json.loads(response.content)\n",
        "            if isinstance(items, list):\n",
        "                state[\"luggage\"] = items\n",
        "            else:\n",
        "                raise ValueError(\"Invalid format received from LLM.\")\n",
        "        except json.JSONDecodeError:\n",
        "            state[\"luggage\"] = [\"Unknown Item\"]  # Fallback\n",
        "\n",
        "    print(f\"🎒 Luggage: {state['luggage']}\")\n",
        "    return state\n",
        "\n",
        "def assign_lane(state: AirportState) -> Literal[\"tsa_entry\", \"regular_entry\"]:\n",
        "    \"\"\"Assigns passenger to TSA or Regular screening.\"\"\"\n",
        "    if random.random() < 0.3:\n",
        "        print(\"🟢 Passenger is TSA PreCheck.\")\n",
        "        state[\"passenger_type\"] = \"TSA\"\n",
        "        return \"tsa_entry\"\n",
        "    else:\n",
        "        print(\"🔵 Passenger is Regular Screening.\")\n",
        "        state[\"passenger_type\"] = \"Regular\"\n",
        "        return \"regular_entry\"\n",
        "\n",
        "# ✅ TSA-ONLY SCREENING PATH\n",
        "def tsa_entry(state: AirportState) -> AirportState:\n",
        "    \"\"\"TSA passengers enter the TSA checkpoint.\"\"\"\n",
        "    print(\"🟢 TSA passenger enters screening.\")\n",
        "    return state\n",
        "\n",
        "def tsa_scan(state: AirportState) -> AirportState:\n",
        "    \"\"\"AI scans TSA passenger luggage for prohibited items.\"\"\"\n",
        "    return run_ai_screening(state, \"TSA\")\n",
        "\n",
        "def tsa_decision(state: AirportState) -> Literal[\"tsa_extra\", \"tsa_clear\"]:\n",
        "    \"\"\"Determines if TSA passenger needs extra screening.\"\"\"\n",
        "    return \"tsa_extra\" if state[\"flagged\"] else \"tsa_clear\"\n",
        "\n",
        "def tsa_extra(state: AirportState) -> AirportState:\n",
        "    \"\"\"TSA passengers flagged for extra screening.\"\"\"\n",
        "    print(\"⚠️ TSA passenger undergoing additional screening.\")\n",
        "    state.setdefault(\"screening_notes\", []).append(\"TSA passenger sent to extra screening.\")\n",
        "    return state\n",
        "\n",
        "def tsa_clear(state: AirportState) -> AirportState:\n",
        "    \"\"\"TSA passenger cleared to board.\"\"\"\n",
        "    return proceed_to_gates(state)\n",
        "\n",
        "# ✅ REGULAR-ONLY SCREENING PATH\n",
        "def regular_entry(state: AirportState) -> AirportState:\n",
        "    \"\"\"Regular passengers enter the standard security checkpoint.\"\"\"\n",
        "    print(\"🔎 Regular passenger enters screening.\")\n",
        "    return state\n",
        "\n",
        "def regular_scan(state: AirportState) -> AirportState:\n",
        "    \"\"\"AI scans Regular passenger luggage for prohibited items.\"\"\"\n",
        "    return run_ai_screening(state, \"Regular\")\n",
        "\n",
        "def regular_decision(state: AirportState) -> Literal[\"regular_extra\", \"regular_clear\"]:\n",
        "    \"\"\"Determines if Regular passenger needs extra screening.\"\"\"\n",
        "    return \"regular_extra\" if state[\"flagged\"] else \"regular_clear\"\n",
        "\n",
        "def regular_extra(state: AirportState) -> AirportState:\n",
        "    \"\"\"Regular passengers flagged for extra screening.\"\"\"\n",
        "    print(\"⚠️ Regular passenger undergoing additional screening.\")\n",
        "    state.setdefault(\"screening_notes\", []).append(\"Regular passenger sent to extra screening.\")\n",
        "    return state\n",
        "\n",
        "def regular_clear(state: AirportState) -> AirportState:\n",
        "    \"\"\"Regular passenger cleared to board.\"\"\"\n",
        "    return proceed_to_gates(state)\n",
        "\n",
        "# ✅ COMMON FINAL NODE\n",
        "def proceed_to_gates(state: AirportState) -> AirportState:\n",
        "    \"\"\"Passengers cleared from both TSA & Regular screenings go to gates.\"\"\"\n",
        "    print(\"✅ Passenger cleared security. Proceeding to gates!\")\n",
        "    return state\n",
        "\n",
        "# ✅ AI SCREENING FUNCTION (Shared)\n",
        "def run_ai_screening(state: AirportState, passenger_type: str) -> AirportState:\n",
        "    \"\"\"AI determines if luggage requires additional screening.\"\"\"\n",
        "    if \"total_passengers\" not in state:\n",
        "        state[\"total_passengers\"] = 0\n",
        "        state[\"flagged_passengers\"] = 0\n",
        "\n",
        "    state[\"total_passengers\"] += 1  # Increment passenger count\n",
        "\n",
        "    prompt = f\"Luggage: {state['luggage']}. Should this {passenger_type} passenger be flagged? Answer 'Yes' or 'No' with a short reason.\"\n",
        "    response = llm([HumanMessage(content=prompt)])\n",
        "\n",
        "    state[\"flagged\"] = \"yes\" in response.content.lower()\n",
        "    state.setdefault(\"screening_notes\", []).append(response.content)\n",
        "\n",
        "    if state[\"flagged\"]:\n",
        "        state[\"flagged_passengers\"] += 1\n",
        "\n",
        "    decision = \"⚠️ Extra Screening Required!\" if state[\"flagged\"] else \"✅ Cleared for Gates.\"\n",
        "    print(f\"🛃 AI Screening Decision: {decision} ({response.content})\")\n",
        "    print(f\"📊 Stats: Total: {state['total_passengers']}, Flagged: {state['flagged_passengers']}\")\n",
        "\n",
        "    return state\n",
        "\n",
        "# 🏗️ Build Graph\n",
        "builder = StateGraph(AirportState)\n",
        "\n",
        "# 🔵 Add Nodes\n",
        "builder.add_node(\"create_passenger\", create_passenger)\n",
        "builder.add_node(\"check_luggage\", check_luggage)\n",
        "builder.add_node(\"tsa_entry\", tsa_entry)\n",
        "builder.add_node(\"regular_entry\", regular_entry)\n",
        "builder.add_node(\"tsa_scan\", tsa_scan)\n",
        "builder.add_node(\"regular_scan\", regular_scan)\n",
        "builder.add_node(\"tsa_extra\", tsa_extra)\n",
        "builder.add_node(\"regular_extra\", regular_extra)\n",
        "builder.add_node(\"tsa_clear\", tsa_clear)\n",
        "builder.add_node(\"regular_clear\", regular_clear)\n",
        "builder.add_node(\"proceed_to_gates\", proceed_to_gates)\n",
        "\n",
        "# 🔗 Define Flow\n",
        "builder.add_edge(START, \"create_passenger\")\n",
        "builder.add_edge(\"create_passenger\", \"check_luggage\")\n",
        "builder.add_conditional_edges(\"check_luggage\", assign_lane)\n",
        "\n",
        "# TSA Path\n",
        "builder.add_edge(\"tsa_entry\", \"tsa_scan\")\n",
        "builder.add_conditional_edges(\"tsa_scan\", tsa_decision)\n",
        "builder.add_edge(\"tsa_extra\", \"proceed_to_gates\")\n",
        "builder.add_edge(\"tsa_clear\", \"proceed_to_gates\")\n",
        "\n",
        "# Regular Path\n",
        "builder.add_edge(\"regular_entry\", \"regular_scan\")\n",
        "builder.add_conditional_edges(\"regular_scan\", regular_decision)\n",
        "builder.add_edge(\"regular_extra\", \"proceed_to_gates\")\n",
        "builder.add_edge(\"regular_clear\", \"proceed_to_gates\")\n",
        "\n",
        "builder.add_edge(\"proceed_to_gates\", END)\n",
        "\n",
        "# ✅ Compile and Run\n",
        "graph = builder.compile()\n",
        "display(Image(graph.get_graph().draw_mermaid_png()))\n",
        "graph.invoke({})\n"
      ],
      "metadata": {
        "id": "k_T4EUNtoMhg",
        "outputId": "e3a434db-b0c0-466c-ab98-a8b5cc80b1f2",
        "colab": {
          "base_uri": "https://localhost:8080/",
          "height": 1000
        }
      },
      "execution_count": 48,
      "outputs": [
        {
          "output_type": "display_data",
          "data": {
            "image/png": "[encoded data removed]",
            "text/plain": [
              "<IPython.core.display.Image object>"
            ]
          },
          "metadata": {}
        },
        {
          "output_type": "stream",
          "name": "stdout",
          "text": [
            "🛫 Passenger enters airport security.\n",
            "🎒 Luggage: ['Laptop', 'Sweater', 'Novel', 'Toothbrush', 'Sunglasses', 'Pair of shoes']\n",
            "🎒 Luggage: ['Laptop', 'Sweater', 'Novel', 'Toothbrush', 'Sunglasses', 'Pair of shoes']\n",
            "🔵 Passenger is Regular Screening.\n",
            "🔎 Regular passenger enters screening.\n",
            "🛃 AI Screening Decision: ✅ Cleared for Gates. (No, the items in the luggage are all common personal belongings and do not include anything dangerous or suspicious.)\n",
            "📊 Stats: Total: 1, Flagged: 0\n",
            "✅ Passenger cleared security. Proceeding to gates!\n",
            "✅ Passenger cleared security. Proceeding to gates!\n"
          ]
        },
        {
          "output_type": "execute_result",
          "data": {
            "text/plain": [
              "{'luggage': ['Laptop',\n",
              "  'Sweater',\n",
              "  'Novel',\n",
              "  'Toothbrush',\n",
              "  'Sunglasses',\n",
              "  'Pair of shoes'],\n",
              " 'screening_notes': ['No, the items in the luggage are all common personal belongings and do not include anything dangerous or suspicious.'],\n",
              " 'flagged': False,\n",
              " 'total_passengers': 1,\n",
              " 'flagged_passengers': 0}"
            ]
          },
          "metadata": {},
          "execution_count": 48
        }
      ]
    },
    {
      "cell_type": "code",
      "source": [
        "for _ in range(3):  # Process 10 passengers in a single run\n",
        "    print(\"\\n🚀 Processing New Passenger 🚀\")\n",
        "    graph.invoke({})\n"
      ],
      "metadata": {
        "id": "hpXoYKguedp8",
        "outputId": "aa03fb93-1825-4867-8434-1aac963de814",
        "colab": {
          "base_uri": "https://localhost:8080/"
        }
      },
      "execution_count": 50,
      "outputs": [
        {
          "output_type": "stream",
          "name": "stdout",
          "text": [
            "\n",
            "🚀 Processing New Passenger 🚀\n",
            "🛫 Passenger enters airport security.\n",
            "🎒 Luggage: ['Clothes', 'Toothbrush', 'Laptop', 'Novel', 'Mobile phone', 'Headphones']\n",
            "🎒 Luggage: ['Clothes', 'Toothbrush', 'Laptop', 'Novel', 'Mobile phone', 'Headphones']\n",
            "🔵 Passenger is Regular Screening.\n",
            "🔎 Regular passenger enters screening.\n",
            "🛃 AI Screening Decision: ✅ Cleared for Gates. (No, there are no suspicious or dangerous items in the luggage. All items listed are typical for a regular passenger.)\n",
            "📊 Stats: Total: 1, Flagged: 0\n",
            "✅ Passenger cleared security. Proceeding to gates!\n",
            "✅ Passenger cleared security. Proceeding to gates!\n",
            "\n",
            "🚀 Processing New Passenger 🚀\n",
            "🛫 Passenger enters airport security.\n",
            "🎒 Luggage: ['Laptop', 'Book', 'Sunglasses', 'Travel pillow', 'Headphones', 'Toothbrush', 'Clothes']\n",
            "🎒 Luggage: ['Laptop', 'Book', 'Sunglasses', 'Travel pillow', 'Headphones', 'Toothbrush', 'Clothes']\n",
            "🔵 Passenger is Regular Screening.\n",
            "🔎 Regular passenger enters screening.\n",
            "🛃 AI Screening Decision: ✅ Cleared for Gates. (No, this passenger should not be flagged. All items in the luggage are common for a regular passenger and do not pose a security threat.)\n",
            "📊 Stats: Total: 1, Flagged: 0\n",
            "✅ Passenger cleared security. Proceeding to gates!\n",
            "✅ Passenger cleared security. Proceeding to gates!\n",
            "\n",
            "🚀 Processing New Passenger 🚀\n",
            "🛫 Passenger enters airport security.\n",
            "🎒 Luggage: ['Laptop', 'Headphones', 'Travel Pillow', 'Novel', 'Toothbrush', 'Pair of Shoes']\n",
            "🎒 Luggage: ['Laptop', 'Headphones', 'Travel Pillow', 'Novel', 'Toothbrush', 'Pair of Shoes']\n",
            "🔵 Passenger is Regular Screening.\n",
            "🔎 Regular passenger enters screening.\n",
            "🛃 AI Screening Decision: ✅ Cleared for Gates. (No, the items in the luggage are all typical for a regular passenger and do not raise any security concerns.)\n",
            "📊 Stats: Total: 1, Flagged: 0\n",
            "✅ Passenger cleared security. Proceeding to gates!\n",
            "✅ Passenger cleared security. Proceeding to gates!\n"
          ]
        }
      ]
    },
    {
      "cell_type": "code",
      "source": [
        "from typing_extensions import TypedDict, Annotated\n",
        "from typing import Literal\n",
        "import random\n",
        "import json\n",
        "from IPython.display import Image, display\n",
        "from langgraph.graph import StateGraph, START, END\n",
        "from langchain_openai import ChatOpenAI\n",
        "from google.colab import userdata\n",
        "from langchain.schema import AIMessage, HumanMessage\n",
        "\n",
        "# 🔑 Secure OpenAI API Key\n",
        "OPENAI_API_KEY = userdata.get('OpenAI_Key')\n",
        "llm = ChatOpenAI(model=\"gpt-4\", temperature=0.7, api_key=OPENAI_API_KEY)\n",
        "\n",
        "# 🎯 Define State Schema\n",
        "class AirportState(TypedDict):\n",
        "    passenger_type: str  # \"TSA\" or \"Regular\"\n",
        "    luggage: Annotated[list, \"merge\"]  # Luggage details (set once)\n",
        "    screening_notes: Annotated[list, \"merge\"]  # Screening decisions\n",
        "    flagged: bool  # True if extra screening is needed\n",
        "\n",
        "# 🏗️ Initialize Persistent Memory\n",
        "memory_store = {\"total_passengers\": 0, \"flagged_passengers\": 0}\n",
        "\n",
        "def create_passenger(state: AirportState) -> AirportState:\n",
        "    \"\"\"Creates a passenger and assigns luggage.\"\"\"\n",
        "    print(\"🛫 Passenger enters airport security.\")\n",
        "\n",
        "    # Generate luggage inside this function\n",
        "    if \"luggage\" not in state or not state[\"luggage\"]:\n",
        "\n",
        "        # 🔀 Random chance to include dangerous items (10% of the time)\n",
        "        if random.random() < 0.3:\n",
        "            prompt = (\n",
        "                \"List 6-10 items in the passenger's luggage, including 1-2 dangerous items \"\n",
        "                \"that might require extra screening. Format response as a JSON list.\"\n",
        "                \"(Example: [\\\"Laptop\\\", \\\"Water Bottle\\\", \\\"Pocket Knife\\\", \\\"Lighter\\\"])\"\n",
        "            )\n",
        "            print(\"⚠️ Generating luggage with potential dangerous items...\")\n",
        "        else:\n",
        "            prompt = (\n",
        "                \"List 6-10 common travel items in the passenger's luggage. \"\n",
        "                \"Do NOT include dangerous items. Format response as a JSON list.\"\n",
        "                \"(Example: [\\\"Backpack\\\", \\\"Sunglasses\\\", \\\"Travel Pillow\\\", \\\"Shoes\\\"])\"\n",
        "            )\n",
        "\n",
        "        # 🧠 Get response from LLM\n",
        "        response = llm([HumanMessage(content=prompt)])\n",
        "\n",
        "        try:\n",
        "            items = json.loads(response.content)\n",
        "            if isinstance(items, list):\n",
        "                state[\"luggage\"] = items\n",
        "            else:\n",
        "                raise ValueError(\"Invalid format received from LLM.\")\n",
        "        except json.JSONDecodeError:\n",
        "            state[\"luggage\"] = [\"Unknown Item\"]  # Fallback\n",
        "\n",
        "    print(f\"🎒 Luggage: {state['luggage']}\")\n",
        "    return state\n",
        "\n",
        "\n",
        "def assign_lane(state: AirportState) -> Literal[\"tsa_entry\", \"regular_entry\"]:\n",
        "    \"\"\"Assigns passenger to TSA or Regular screening.\"\"\"\n",
        "    if random.random() < 0.3:\n",
        "        print(\"🟢 Passenger is TSA PreCheck.\")\n",
        "        state[\"passenger_type\"] = \"TSA\"\n",
        "        return \"tsa_entry\"\n",
        "    else:\n",
        "        print(\"🔵 Passenger is Regular Screening.\")\n",
        "        state[\"passenger_type\"] = \"Regular\"\n",
        "        return \"regular_entry\"\n",
        "\n",
        "# ✅ TSA-ONLY SCREENING PATH\n",
        "def tsa_entry(state: AirportState) -> AirportState:\n",
        "    \"\"\"TSA passengers enter the TSA checkpoint.\"\"\"\n",
        "    print(\"🟢 TSA passenger enters screening.\")\n",
        "    return state\n",
        "\n",
        "def tsa_scan(state: AirportState) -> AirportState:\n",
        "    \"\"\"AI scans TSA passenger luggage for prohibited items.\"\"\"\n",
        "    return run_ai_screening(state, \"TSA\")\n",
        "\n",
        "def tsa_decision(state: AirportState) -> Literal[\"tsa_extra\", \"tsa_clear\"]:\n",
        "    \"\"\"Determines if TSA passenger needs extra screening.\"\"\"\n",
        "    return \"tsa_extra\" if state[\"flagged\"] else \"tsa_clear\"\n",
        "\n",
        "def tsa_extra(state: AirportState) -> AirportState:\n",
        "    \"\"\"TSA passengers flagged for extra screening.\"\"\"\n",
        "    print(\"⚠️ TSA passenger undergoing additional screening.\")\n",
        "    state.setdefault(\"screening_notes\", []).append(\"TSA passenger sent to extra screening.\")\n",
        "    return state\n",
        "\n",
        "def tsa_clear(state: AirportState) -> AirportState:\n",
        "    \"\"\"TSA passenger cleared to board.\"\"\"\n",
        "    return proceed_to_gates(state)\n",
        "\n",
        "# ✅ REGULAR-ONLY SCREENING PATH\n",
        "def regular_entry(state: AirportState) -> AirportState:\n",
        "    \"\"\"Regular passengers enter the standard security checkpoint.\"\"\"\n",
        "    print(\"🔎 Regular passenger enters screening.\")\n",
        "    return state\n",
        "\n",
        "def regular_scan(state: AirportState) -> AirportState:\n",
        "    \"\"\"AI scans Regular passenger luggage for prohibited items.\"\"\"\n",
        "    return run_ai_screening(state, \"Regular\")\n",
        "\n",
        "def regular_decision(state: AirportState) -> Literal[\"regular_extra\", \"regular_clear\"]:\n",
        "    \"\"\"Determines if Regular passenger needs extra screening.\"\"\"\n",
        "    return \"regular_extra\" if state[\"flagged\"] else \"regular_clear\"\n",
        "\n",
        "def regular_extra(state: AirportState) -> AirportState:\n",
        "    \"\"\"Regular passengers flagged for extra screening.\"\"\"\n",
        "    print(\"⚠️ Regular passenger undergoing additional screening.\")\n",
        "    state.setdefault(\"screening_notes\", []).append(\"Regular passenger sent to extra screening.\")\n",
        "    return state\n",
        "\n",
        "def regular_clear(state: AirportState) -> AirportState:\n",
        "    \"\"\"Regular passenger cleared to board.\"\"\"\n",
        "    return proceed_to_gates(state)\n",
        "\n",
        "# ✅ COMMON FINAL NODE\n",
        "def proceed_to_gates(state: AirportState) -> AirportState:\n",
        "    \"\"\"Passengers cleared from both TSA & Regular screenings go to gates.\"\"\"\n",
        "    print(\"✅ Passenger cleared security. Proceeding to gates!\")\n",
        "    return state\n",
        "\n",
        "# ✅ AI SCREENING FUNCTION (Shared)\n",
        "def run_ai_screening(state: AirportState, passenger_type: str) -> AirportState:\n",
        "    \"\"\"AI determines if luggage requires additional screening.\"\"\"\n",
        "    global memory_store  # ✅ Track memory stats here\n",
        "\n",
        "    prompt = f\"Luggage: {state['luggage']}. Should this {passenger_type} passenger be flagged? Answer 'Yes' or 'No' with a short reason.\"\n",
        "    response = llm([HumanMessage(content=prompt)])\n",
        "\n",
        "    state[\"flagged\"] = \"yes\" in response.content.lower()\n",
        "    state.setdefault(\"screening_notes\", []).append(response.content)\n",
        "\n",
        "    # ✅ Update global memory stats\n",
        "    memory_store[\"total_passengers\"] += 1\n",
        "    if state[\"flagged\"]:\n",
        "        memory_store[\"flagged_passengers\"] += 1\n",
        "\n",
        "    decision = \"⚠️ Extra Screening Required!\" if state[\"flagged\"] else \"✅ Cleared for Gates.\"\n",
        "    print(f\"🛃 AI Screening Decision: {decision} ({response.content})\")\n",
        "\n",
        "    return state\n",
        "\n",
        "# 🏗️ Build Graph\n",
        "builder = StateGraph(AirportState)\n",
        "\n",
        "# 🔵 Add Nodes\n",
        "builder.add_node(\"create_passenger\", create_passenger)\n",
        "builder.add_node(\"tsa_entry\", tsa_entry)\n",
        "builder.add_node(\"regular_entry\", regular_entry)\n",
        "builder.add_node(\"tsa_scan\", tsa_scan)\n",
        "builder.add_node(\"regular_scan\", regular_scan)\n",
        "builder.add_node(\"tsa_extra\", tsa_extra)\n",
        "builder.add_node(\"regular_extra\", regular_extra)\n",
        "builder.add_node(\"tsa_clear\", tsa_clear)\n",
        "builder.add_node(\"regular_clear\", regular_clear)\n",
        "builder.add_node(\"proceed_to_gates\", proceed_to_gates)\n",
        "\n",
        "# 🔗 Define Flow\n",
        "builder.add_edge(START, \"create_passenger\")\n",
        "builder.add_conditional_edges(\"create_passenger\", assign_lane)\n",
        "\n",
        "# TSA Path\n",
        "builder.add_edge(\"tsa_entry\", \"tsa_scan\")\n",
        "builder.add_conditional_edges(\"tsa_scan\", tsa_decision)\n",
        "builder.add_edge(\"tsa_extra\", \"proceed_to_gates\")\n",
        "builder.add_edge(\"tsa_clear\", \"proceed_to_gates\")\n",
        "\n",
        "# Regular Path\n",
        "builder.add_edge(\"regular_entry\", \"regular_scan\")\n",
        "builder.add_conditional_edges(\"regular_scan\", regular_decision)\n",
        "builder.add_edge(\"regular_extra\", \"proceed_to_gates\")\n",
        "builder.add_edge(\"regular_clear\", \"proceed_to_gates\")\n",
        "\n",
        "builder.add_edge(\"proceed_to_gates\", END)\n",
        "\n",
        "# ✅ Compile and Run\n",
        "graph = builder.compile()\n",
        "display(Image(graph.get_graph().draw_mermaid_png()))\n",
        "\n",
        "# 🚀 Run for Multiple Passengers\n",
        "for _ in range(6):  # Process 10 passengers in a single run\n",
        "    print(\"\\n🚀 Processing New Passenger 🚀\")\n",
        "    graph.invoke({})\n",
        "    # ✅ Print Final Stats from Memory\n",
        "    print(f\"\\n📈 FINAL STATS: {memory_store['total_passengers']} Total, {memory_store['flagged_passengers']} Flagged\")\n"
      ],
      "metadata": {
        "id": "1XY69unrvwYb",
        "outputId": "baf6cb62-6a42-43a5-a52b-da1251159001",
        "colab": {
          "base_uri": "https://localhost:8080/",
          "height": 1000
        }
      },
      "execution_count": 66,
      "outputs": [
        {
          "output_type": "display_data",
          "data": {
            "image/png": "[encoded data removed]",
            "text/plain": [
              "<IPython.core.display.Image object>"
            ]
          },
          "metadata": {}
        },
        {
          "output_type": "stream",
          "name": "stdout",
          "text": [
            "\n",
            "🚀 Processing New Passenger 🚀\n",
            "🛫 Passenger enters airport security.\n",
            "🎒 Luggage: ['Clothes', 'Toothbrush', 'Laptop', 'Phone Charger', 'Books', 'Travel Guide', 'Camera', 'Snacks', 'Water Bottle', 'Travel Adapter']\n",
            "🟢 Passenger is TSA PreCheck.\n",
            "🟢 TSA passenger enters screening.\n",
            "🛃 AI Screening Decision: ✅ Cleared for Gates. (No, none of the items listed in the luggage are prohibited or dangerous. They are all common travel items.)\n",
            "✅ Passenger cleared security. Proceeding to gates!\n",
            "✅ Passenger cleared security. Proceeding to gates!\n",
            "\n",
            "📈 FINAL STATS: 1 Total, 0 Flagged\n",
            "\n",
            "🚀 Processing New Passenger 🚀\n",
            "🛫 Passenger enters airport security.\n",
            "🎒 Luggage: ['Laptop', 'Toothbrush', 'Clothes', 'Chargers', 'Books', 'Travel-size Toiletries']\n",
            "🔵 Passenger is Regular Screening.\n",
            "🔎 Regular passenger enters screening.\n",
            "🛃 AI Screening Decision: ✅ Cleared for Gates. (No, the passenger should not be flagged. The items in their luggage are common for traveling and do not include any prohibited or suspicious items.)\n",
            "✅ Passenger cleared security. Proceeding to gates!\n",
            "✅ Passenger cleared security. Proceeding to gates!\n",
            "\n",
            "📈 FINAL STATS: 2 Total, 0 Flagged\n",
            "\n",
            "🚀 Processing New Passenger 🚀\n",
            "🛫 Passenger enters airport security.\n",
            "⚠️ Generating luggage with potential dangerous items...\n",
            "🎒 Luggage: ['Toothpaste', 'Shampoo', 'Travel Guide Book', 'Digital Camera', 'Switchblade', 'Aerosol Can']\n",
            "🔵 Passenger is Regular Screening.\n",
            "🔎 Regular passenger enters screening.\n",
            "🛃 AI Screening Decision: ⚠️ Extra Screening Required! (Yes, the passenger should be flagged because a switchblade is considered a weapon and is prohibited in carry-on luggage according to most airline and airport security regulations. Additionally, there may also be restrictions on aerosol cans depending on its contents and size.)\n",
            "⚠️ Regular passenger undergoing additional screening.\n",
            "✅ Passenger cleared security. Proceeding to gates!\n",
            "\n",
            "📈 FINAL STATS: 3 Total, 1 Flagged\n",
            "\n",
            "🚀 Processing New Passenger 🚀\n",
            "🛫 Passenger enters airport security.\n",
            "🎒 Luggage: ['Clothing', 'Toiletries', 'Laptop', 'Books', 'Chargers', 'Snacks', 'Water Bottle', 'Passport', 'Travel Guides', 'Medication']\n",
            "🔵 Passenger is Regular Screening.\n",
            "🔎 Regular passenger enters screening.\n",
            "🛃 AI Screening Decision: ✅ Cleared for Gates. (No, the passenger should not be flagged as all items listed in the luggage are normal and pose no security threat.)\n",
            "✅ Passenger cleared security. Proceeding to gates!\n",
            "✅ Passenger cleared security. Proceeding to gates!\n",
            "\n",
            "📈 FINAL STATS: 4 Total, 1 Flagged\n",
            "\n",
            "🚀 Processing New Passenger 🚀\n",
            "🛫 Passenger enters airport security.\n",
            "🎒 Luggage: ['Toiletries', 'Clothes', 'Laptop', 'Camera', 'Books', 'Chargers']\n",
            "🟢 Passenger is TSA PreCheck.\n",
            "🟢 TSA passenger enters screening.\n",
            "🛃 AI Screening Decision: ✅ Cleared for Gates. (No, none of the items listed are prohibited or suspicious. They are all common items for traveling.)\n",
            "✅ Passenger cleared security. Proceeding to gates!\n",
            "✅ Passenger cleared security. Proceeding to gates!\n",
            "\n",
            "📈 FINAL STATS: 5 Total, 1 Flagged\n",
            "\n",
            "🚀 Processing New Passenger 🚀\n",
            "🛫 Passenger enters airport security.\n",
            "🎒 Luggage: ['Clothes', 'Toiletries', 'Laptop', 'Books', 'Camera', 'Phone Charger']\n",
            "🔵 Passenger is Regular Screening.\n",
            "🔎 Regular passenger enters screening.\n",
            "🛃 AI Screening Decision: ✅ Cleared for Gates. (No, the items in the luggage are all common and do not pose a security risk.)\n",
            "✅ Passenger cleared security. Proceeding to gates!\n",
            "✅ Passenger cleared security. Proceeding to gates!\n",
            "\n",
            "📈 FINAL STATS: 6 Total, 1 Flagged\n"
          ]
        }
      ]
    },
    {
      "cell_type": "markdown",
      "source": [
        "# 🔗 Chain  \n",
        "\n",
        "A simple graph has been built using **nodes**, **normal edges**, and **conditional edges** to control execution flow.  \n",
        "\n",
        "## 🎯 Goals  \n",
        "\n",
        "The next step is to construct a **chain** that integrates key LangChain concepts. This involves:  \n",
        "\n",
        "- Using **chat messages** as the graph state.  \n",
        "- Incorporating **chat models** within graph nodes.  \n",
        "- Binding tools to enhance the chat model's functionality.  \n",
        "- Executing tool calls within graph nodes for dynamic interactions.  \n",
        "\n",
        "## 🔗 Reference Table  \n",
        "\n",
        "| Concept            | Documentation Link |\n",
        "|--------------------|------------------|\n",
        "| Chat Messages     | [Chat Messages](https://python.langchain.com/v0.2/docs/concepts/#messages) |\n",
        "| Chat Models       | [Chat Models](https://python.langchain.com/v0.2/docs/concepts/#chat-models) |\n",
        "| Binding Tools     | [Binding Tools](https://python.langchain.com/v0.2/docs/concepts/#tools) |\n",
        "| Executing Tool Calls | [Tool Calling](https://python.langchain.com/v0.2/docs/concepts/#functiontool-calling) |\n",
        "\n",
        "## 📌 Chain Structure  \n",
        "\n",
        "<img src=\"https://cdn.prod.website-files.com/65b8cd72835ceeacd4449a53/66dbab08dd607b08df5e1101_chain1.png\" width=\"600\"/>  \n"
      ],
      "metadata": {
        "id": "O11B-y3fv-ZX"
      }
    },
    {
      "cell_type": "code",
      "source": [
        "%%capture --no-stderr\n",
        "%pip install --quiet -U langchain_openai langchain_core langgraph"
      ],
      "metadata": {
        "id": "gyRdXjBZvs-v"
      },
      "execution_count": null,
      "outputs": []
    },
    {
      "cell_type": "code",
      "source": [
        "from pprint import pprint\n",
        "from langchain_core.messages import AIMessage, HumanMessage\n",
        "from IPython.display import Image, display\n",
        "from langgraph.graph import StateGraph, START, END\n",
        "\n",
        "# Step 1: Create a conversation flow using AI and Human messages\n",
        "# These messages simulate an interaction between a user (Lance) and an AI model\n",
        "messages = [\n",
        "    AIMessage(content=\"So you said you were researching ocean mammals?\", name=\"Model\"),\n",
        "    HumanMessage(content=\"Yes, that's right.\", name=\"Lance\"),\n",
        "    AIMessage(content=\"Great, what would you like to learn about?\", name=\"Model\"),\n",
        "    HumanMessage(content=\"I want to learn about the best place to see Orcas in the US.\", name=\"Lance\"),\n",
        "]\n",
        "\n",
        "# Step 2: Print the conversation in a structured format\n",
        "for m in messages:\n",
        "    m.pretty_print()\n",
        "\n",
        "# Step 3: Initialize the graph structure\n",
        "# This graph will control the decision-making process of the AI\n",
        "builder = StateGraph(State)\n",
        "\n",
        "# Step 4: Add nodes to the graph\n",
        "# Each node represents a different processing step\n",
        "builder.add_node(\"node_1\", node_1)  # The first step of processing\n",
        "builder.add_node(\"node_2\", node_2)  # A possible path: AI responds with \"happy!\"\n",
        "builder.add_node(\"node_3\", node_3)  # Another path: AI responds with \"sad!\"\n",
        "\n",
        "# Step 5: Define edges (connections) between nodes\n",
        "# The graph starts at \"node_1\"\n",
        "builder.add_edge(START, \"node_1\")\n",
        "\n",
        "# Step 6: Introduce a conditional decision\n",
        "# The path from \"node_1\" to either \"node_2\" or \"node_3\" is determined randomly\n",
        "builder.add_conditional_edges(\"node_1\", decide_mood)\n",
        "\n",
        "# Step 7: Define the ending condition\n",
        "# Both \"node_2\" and \"node_3\" lead to the END node, concluding the process\n",
        "builder.add_edge(\"node_2\", END)\n",
        "builder.add_edge(\"node_3\", END)\n",
        "\n",
        "# Step 8: Compile the graph\n",
        "# This ensures that all nodes and edges are correctly linked\n",
        "graph = builder.compile()\n",
        "\n",
        "# Step 9: Visualize the graph\n",
        "# Generates a diagram to show how the nodes and edges are connected\n",
        "display(Image(graph.get_graph().draw_mermaid_png()))\n"
      ],
      "metadata": {
        "id": "IWWF4DMfxKUg"
      },
      "execution_count": null,
      "outputs": []
    },
    {
      "cell_type": "markdown",
      "source": [
        "## 🔗 Understanding the Chat-Based Chain  \n",
        "\n",
        "This code builds a **chat-driven decision graph** using LangGraph. It begins by simulating a conversation between a user (\"Lance\") and an AI assistant (\"Model\") using chat messages. These messages serve as the **initial state** of the graph. The graph structure is then defined, starting with `node_1`, which processes the input. A **conditional edge** determines whether the response follows a **\"happy\"** or **\"sad\"** path, leading to `node_2` or `node_3` respectively. The decision is made randomly using the `decide_mood` function. Finally, the graph is compiled and visualized, showing the flow of decisions and responses in a structured manner.\n"
      ],
      "metadata": {
        "id": "tHYBuPNNxkF9"
      }
    },
    {
      "cell_type": "markdown",
      "source": [
        "## 🛠️ Understanding the Code: Tool-Enhanced ChatGPT with LangGraph  \n",
        "\n",
        "### 🔗 **Binding a Tool to the LLM**  \n",
        "This code integrates a **structured tool (`multiply`)** with an LLM using **LangChain and LangGraph**. The `multiply` function is registered as a tool and bound to the **ChatGPT model (`gpt-3.5-turbo`)**. When the user asks a mathematical question like *\"What is 2 multiplied by 3?\"*, the LLM **extracts the numbers** and generates a structured tool call. This tool call outputs a **payload** (e.g., `{\"a\":2, \"b\":3}`), which is then processed by the tool to return `6`.  \n",
        "\n",
        "### 📩 **Using a Message-Based State**  \n",
        "The state in this implementation is managed using **message history (`MessagesState`)**, where interactions between the AI and user are stored as a list of messages. The **`add_messages` reducer** ensures that every new message is appended to the conversation state, allowing the LLM to retain context. This is demonstrated by adding a new message to an existing conversation and verifying that the updated state includes all past interactions.  \n",
        "\n",
        "### 🔄 **Building and Running the LangGraph Workflow**  \n",
        "A **LangGraph workflow** is created where:  \n",
        "1. The conversation state is passed to the **tool-enhanced LLM** (`tool_calling_llm` node).  \n",
        "2. The LLM **decides whether to use a tool** or respond directly based on the input.  \n",
        "3. The processed response is returned as the updated message state.  \n",
        "4. The **graph is visualized** using a Mermaid diagram, displaying the flow between nodes.  \n",
        "\n",
        "Finally, two test cases are executed:  \n",
        "- **General query:** The LLM responds conversationally.  \n",
        "- **Tool-based query:** The LLM detects a multiplication request, generates a tool call, and returns the computed result.  \n",
        "\n",
        "This approach demonstrates **structured decision-making** in LLM workflows, where the model can **choose between answering naturally or calling an external function** based on the user's intent.\n"
      ],
      "metadata": {
        "id": "p8ospn9j9U1r"
      }
    },
    {
      "cell_type": "code",
      "source": [
        "import openai\n",
        "import json\n",
        "from typing_extensions import TypedDict, Annotated\n",
        "from typing import Dict\n",
        "from langchain_core.messages import AnyMessage, AIMessage, HumanMessage\n",
        "from langchain_core.tools import tool\n",
        "from langchain_openai import ChatOpenAI\n",
        "from langgraph.graph import MessagesState, StateGraph, START, END\n",
        "from langgraph.graph.message import add_messages\n",
        "from IPython.display import Image, display\n",
        "\n",
        "# 🏗️ Define a Structured Tool\n",
        "@tool\n",
        "def multiply(a: int, b: int) -> int:\n",
        "    \"\"\"Multiply two numbers and return the result.\"\"\"\n",
        "    return a * b\n",
        "\n",
        "# 🧠 Initialize the ChatGPT Model with Tool Binding\n",
        "llm = ChatOpenAI(model=\"gpt-3.5-turbo\", temperature=0)\n",
        "llm_with_tools = llm.bind_tools([multiply])  # Bind the multiply function as a tool\n",
        "\n",
        "# 🔍 Test a Tool Call\n",
        "tool_call = llm_with_tools.invoke([HumanMessage(content=\"What is 2 multiplied by 3?\", name=\"Lance\")])\n",
        "print(\"Tool Call Output:\", tool_call.tool_calls)  # Expected Output: {'arguments': '{\"a\":2,\"b\":3}', 'name': 'multiply'}\n",
        "\n",
        "# 📩 Define a State to Store Messages\n",
        "class MessagesState(TypedDict):\n",
        "    messages: Annotated[list[AnyMessage], add_messages]  # Uses add_messages reducer to append messages\n",
        "\n",
        "# 📌 Test the Reducer: Appending Messages\n",
        "initial_messages = [\n",
        "    AIMessage(content=\"Hello! How can I assist you?\", name=\"Model\"),\n",
        "    HumanMessage(content=\"I'm looking for information on marine biology.\", name=\"Lance\")\n",
        "]\n",
        "new_message = AIMessage(content=\"Sure, I can help with that. What specifically are you interested in?\", name=\"Model\")\n",
        "\n",
        "# ✅ Test the `add_messages` reducer\n",
        "updated_messages = add_messages(initial_messages, new_message)\n",
        "print(\"Updated Messages:\", updated_messages)\n",
        "\n",
        "# 🔧 Define a Node for Tool-Calling LLM\n",
        "def tool_calling_llm(state: MessagesState):\n",
        "    \"\"\"Passes the conversation state to the LLM with tool capabilities.\"\"\"\n",
        "    return {\"messages\": [llm_with_tools.invoke(state[\"messages\"])]}\n",
        "\n",
        "# 🏗️ Build the Graph\n",
        "builder = StateGraph(MessagesState)\n",
        "builder.add_node(\"tool_calling_llm\", tool_calling_llm)\n",
        "builder.add_edge(START, \"tool_calling_llm\")\n",
        "builder.add_edge(\"tool_calling_llm\", END)\n",
        "graph = builder.compile()\n",
        "\n",
        "# 📊 Visualize the Graph\n",
        "display(Image(graph.get_graph().draw_mermaid_png()))\n",
        "\n",
        "# 📝 Example 1: Invoke LLM without tool usage (General Query)\n",
        "messages = graph.invoke({\"messages\": HumanMessage(content=\"Hello!\")})\n",
        "for m in messages['messages']:\n",
        "    m.pretty_print()\n",
        "\n",
        "# 📝 Example 2: Invoke LLM with tool usage (Math Calculation)\n",
        "messages = graph.invoke({\"messages\": HumanMessage(content=\"Multiply 2 and 3\")})\n",
        "for m in messages['messages']:\n",
        "    m.pretty_print()\n"
      ],
      "metadata": {
        "id": "bCzqCYVPxLPR"
      },
      "execution_count": null,
      "outputs": []
    },
    {
      "cell_type": "code",
      "source": [],
      "metadata": {
        "id": "V4mqvuJ-x82V"
      },
      "execution_count": null,
      "outputs": []
    }
  ]
}