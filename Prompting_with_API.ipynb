{
  "nbformat": 4,
  "nbformat_minor": 0,
  "metadata": {
    "colab": {
      "provenance": []
    },
    "kernelspec": {
      "name": "python3",
      "display_name": "Python 3"
    },
    "language_info": {
      "name": "python"
    }
  },
  "cells": [
    {
      "cell_type": "markdown",
      "source": [
        "# Applied Generative AI\n",
        "Instructor: Prof. Dehghani\n",
        "Welcome to the Applied Generative AI course. In this course, we will explore the foundations and applications of Generative AI using tools like OpenAI's API. By the end of this session, you will:\n",
        "\n",
        "🟢 Understand how to set up and connect to OpenAI's API.\n",
        "🌟 Learn about the roles (System, Assistant, User) in prompt design.\n",
        "✨ Generate text, images, and vector embeddings programmatically.\n",
        "🔧 Explore fine-tuning to customize AI models for specific tasks.\n",
        "Let’s get started with setting up the OpenAI API!"
      ],
      "metadata": {
        "id": "3S5eQNmwPUH8"
      }
    },
    {
      "cell_type": "code",
      "execution_count": null,
      "metadata": {
        "id": "XgYXfO-1OA6i",
        "colab": {
          "base_uri": "https://localhost:8080/"
        },
        "collapsed": true,
        "outputId": "c19d12b6-808d-4b82-879a-71c2ee81e6e7"
      },
      "outputs": [
        {
          "output_type": "stream",
          "name": "stdout",
          "text": [
            "Requirement already satisfied: openai==0.28 in /usr/local/lib/python3.11/dist-packages (0.28.0)\n",
            "Requirement already satisfied: requests>=2.20 in /usr/local/lib/python3.11/dist-packages (from openai==0.28) (2.32.3)\n",
            "Requirement already satisfied: tqdm in /usr/local/lib/python3.11/dist-packages (from openai==0.28) (4.67.1)\n",
            "Requirement already satisfied: aiohttp in /usr/local/lib/python3.11/dist-packages (from openai==0.28) (3.11.15)\n",
            "Requirement already satisfied: charset-normalizer<4,>=2 in /usr/local/lib/python3.11/dist-packages (from requests>=2.20->openai==0.28) (3.4.1)\n",
            "Requirement already satisfied: idna<4,>=2.5 in /usr/local/lib/python3.11/dist-packages (from requests>=2.20->openai==0.28) (3.10)\n",
            "Requirement already satisfied: urllib3<3,>=1.21.1 in /usr/local/lib/python3.11/dist-packages (from requests>=2.20->openai==0.28) (2.4.0)\n",
            "Requirement already satisfied: certifi>=2017.4.17 in /usr/local/lib/python3.11/dist-packages (from requests>=2.20->openai==0.28) (2025.4.26)\n",
            "Requirement already satisfied: aiohappyeyeballs>=2.3.0 in /usr/local/lib/python3.11/dist-packages (from aiohttp->openai==0.28) (2.6.1)\n",
            "Requirement already satisfied: aiosignal>=1.1.2 in /usr/local/lib/python3.11/dist-packages (from aiohttp->openai==0.28) (1.3.2)\n",
            "Requirement already satisfied: attrs>=17.3.0 in /usr/local/lib/python3.11/dist-packages (from aiohttp->openai==0.28) (25.3.0)\n",
            "Requirement already satisfied: frozenlist>=1.1.1 in /usr/local/lib/python3.11/dist-packages (from aiohttp->openai==0.28) (1.6.0)\n",
            "Requirement already satisfied: multidict<7.0,>=4.5 in /usr/local/lib/python3.11/dist-packages (from aiohttp->openai==0.28) (6.4.3)\n",
            "Requirement already satisfied: propcache>=0.2.0 in /usr/local/lib/python3.11/dist-packages (from aiohttp->openai==0.28) (0.3.1)\n",
            "Requirement already satisfied: yarl<2.0,>=1.17.0 in /usr/local/lib/python3.11/dist-packages (from aiohttp->openai==0.28) (1.20.0)\n"
          ]
        }
      ],
      "source": [
        "# Install the OpenAI Python SDK\n",
        "# This library allows us to interact with OpenAI's API for text, images, and embeddings.\n",
        "!pip install openai==0.28"
      ]
    },
    {
      "cell_type": "code",
      "source": [
        "from google.colab import userdata\n",
        "import openai\n",
        "\n",
        "# Retrieve the key from Colab secrets\n",
        "openai.api_key = userdata.get(\"OPENAI_API_KEY\")\n",
        "\n",
        "# Confirm the key was loaded (for debugging only; don’t print your real key in shared notebooks!)\n",
        "print(\"Key loaded:\", \"Yes\" if openai.api_key else \"No\")\n"
      ],
      "metadata": {
        "id": "eIuombKEQnHm",
        "colab": {
          "base_uri": "https://localhost:8080/"
        },
        "outputId": "b5517773-f115-405e-df99-2c86eb824034"
      },
      "execution_count": 24,
      "outputs": [
        {
          "output_type": "stream",
          "name": "stdout",
          "text": [
            "Key loaded: Yes\n"
          ]
        }
      ]
    },
    {
      "cell_type": "markdown",
      "source": [
        "🎯 Prompt Playground: Understanding Roles\n",
        "In OpenAI's API, you interact with the model using roles, which define the flow of the conversation:\n",
        "\n",
        "➡️ System: Sets the behavior and tone of the assistant (e.g., \"You are a cheerful assistant.\").\n",
        "➡️ User: Represents the input or question from the user (e.g., \"What is AI?\").\n",
        "➡️ Assistant: Automatically generated responses based on the system and user inputs.\n",
        "💡 Why Roles Matter: Roles help control the assistant's personality and the quality of responses. For example:\n",
        "\n",
        "A system message like \"You are a strict teacher\" makes the assistant respond more formally.\n",
        "A system message like \"You are a friendly chatbot\" leads to casual responses.\n",
        "Let’s see how these roles work in the next cell!\n",
        "\n",
        "## Example 1: Without Assistant Role"
      ],
      "metadata": {
        "id": "Rtir4dZMPrc3"
      }
    },
    {
      "cell_type": "code",
      "source": [
        "import openai\n",
        "\n",
        "response = openai.ChatCompletion.create(\n",
        "    model=\"gpt-3.5-turbo\",\n",
        "    messages=[\n",
        "        {\"role\": \"system\", \"content\": \"You are a helpful assistant.\"},\n",
        "        {\"role\": \"user\", \"content\": \"What is the capital of France?\"}\n",
        "    ]\n",
        ")\n",
        "\n",
        "print(response['choices'][0]['message']['content'])\n"
      ],
      "metadata": {
        "colab": {
          "base_uri": "https://localhost:8080/"
        },
        "id": "VkfCw9u4PsVi",
        "outputId": "71b92a7c-361a-47d1-e759-3a10a84fa803"
      },
      "execution_count": 25,
      "outputs": [
        {
          "output_type": "stream",
          "name": "stdout",
          "text": [
            "The capital of France is Paris.\n"
          ]
        }
      ]
    },
    {
      "cell_type": "markdown",
      "source": [
        "# Example 2: With Assistant Role"
      ],
      "metadata": {
        "id": "ytKbu3esTO5N"
      }
    },
    {
      "cell_type": "code",
      "source": [
        "# Demonstrating roles in OpenAI's API with the assistant role\n",
        "\n",
        "# Define the conversation including a predefined assistant response\n",
        "messages = [\n",
        "    {\"role\": \"system\", \"content\": \"You are a math tutor who explains problems step by step.\"},  # System role sets the behavior\n",
        "    {\"role\": \"user\", \"content\": \"Solve for x: 2x + 5 = 15\"},  # User question\n",
        "    {\"role\": \"assistant\", \"content\": \"To solve for x: \\n1. Subtract 5 from both sides: 2x = 10\\n2. Divide both sides by 2: x = 5\"}  # Predefined assistant response\n",
        "]\n",
        "\n",
        "# Send the conversation to the API\n",
        "response = openai.ChatCompletion.create(\n",
        "    model=\"gpt-4\",  # Use the chosen model\n",
        "    messages=messages  # Pass the conversation\n",
        ")\n",
        "\n",
        "# Print the assistant's response\n",
        "print(\"Assistant's Response:\", response['choices'][0]['message']['content'])"
      ],
      "metadata": {
        "colab": {
          "base_uri": "https://localhost:8080/"
        },
        "id": "o6ajc3x8TQHl",
        "outputId": "0906aae8-2bc4-47d9-f33e-3a6f4cf6fabc"
      },
      "execution_count": 26,
      "outputs": [
        {
          "output_type": "stream",
          "name": "stdout",
          "text": [
            "Assistant's Response: Sure, here's a step by step solution:\n",
            "\n",
            "Step 1: We have the equation 2x + 5 = 15\n",
            "\n",
            "Step 2: We want to isolate x, so first we get rid of the \"+ 5\" on the left side of the equation by subtracting 5 from both sides of the equation. So: \n",
            "         2x + 5 - 5 = 15 -5 \n",
            "This gives us: 2x = 10\n",
            "\n",
            "Step 3: We now have 2x = 10. We want to get x on its own, so we divide both sides of the equation by 2:\n",
            "        2x/2 = 10/2\n",
            "This gives us: x=5 \n",
            "\n",
            "So, the solution is x = 5.\n"
          ]
        }
      ]
    },
    {
      "cell_type": "markdown",
      "source": [
        "🧮 Hands-On"
      ],
      "metadata": {
        "id": "BsL0AR6MTajz"
      }
    },
    {
      "cell_type": "code",
      "source": [
        "# ++++ Hands-On: Complete the Roles ++++\n",
        "\n",
        "# Define the conversation using the role structure\n",
        "messages = [\n",
        "    {\"role\": \"----\", \"content\": \"You are a math tutor who explains concepts clearly and step by step.\"},  # Complete the system role\n",
        "    {\"role\": \"----\", \"content\": \"How do you calculate the arithmetic mean of a set of numbers?\"},  # Complete the user role\n",
        "    {\"role\": \"----\", \"content\": \"To calculate the arithmetic mean:\\n\"\n",
        "                                \"1. Add all the numbers in the set.\\n\"\n",
        "                                \"2. Divide the sum by the number of numbers.\\n\\n\"\n",
        "                                \"For example, for 10, 20, and 30:\\n\"\n",
        "                                \"Mean = (10 + 20 + 30) / 3 = 60 / 3 = 20.\"\n",
        "                                }  # Optional predefined assistant response\n",
        "]\n",
        "\n",
        "# Uncomment the code below after completing the placeholders\n",
        "# response = openai.ChatCompletion.create(\n",
        "#     model=\"gpt-4\",  # Specify the model\n",
        "#     messages=messages  # Pass the completed conversation\n",
        "# )\n",
        "# print(\"Assistant's Response:\", response['choices'][0]['message']['content'])"
      ],
      "metadata": {
        "id": "Bl5CCoC9TZ1z"
      },
      "execution_count": null,
      "outputs": []
    },
    {
      "cell_type": "markdown",
      "source": [
        "Exercise 1: Simple Q&A with System + User Roles\n",
        "👉 Task:\n",
        "Write a prompt that asks the assistant to behave like a science teacher, then ask it a science-related question."
      ],
      "metadata": {
        "id": "bpTm-F37UIMv"
      }
    },
    {
      "cell_type": "code",
      "source": [
        "# 🧠 Define your own roles and prompt below\n",
        "messages = [\n",
        "    {\"role\": \"------\", \"content\": \"You are a [insert role/personality, e.g., 'science teacher', 'debate coach'].\"},\n",
        "    {\"role\": \"------\", \"content\": \"Ask your question here, e.g., 'Explain how photosynthesis works.'\"}\n",
        "]\n",
        "\n",
        "# 🧠 Call the OpenAI API with your customized prompt\n",
        "response = openai.ChatCompletion.create(\n",
        "    model=\"gpt-4\",\n",
        "    messages=messages\n",
        ")\n",
        "\n",
        "# 🧠 Print the model's response\n",
        "print(\"Assistant's Response:\", response['choices'][0]['message']['content'])"
      ],
      "metadata": {
        "id": "_ZNQimnSUIpr"
      },
      "execution_count": null,
      "outputs": []
    },
    {
      "cell_type": "markdown",
      "source": [
        "✍️ Exercise 2: Give a prompt of your choice.\n",
        "👉 Task:\n",
        "Now write your own custom prompt. Use any role, any question — be creative!"
      ],
      "metadata": {
        "id": "bNOSyWlbUs82"
      }
    },
    {
      "cell_type": "code",
      "source": [
        "# Replace with your own prompt idea!\n",
        "messages = [\n",
        "    {\"role\": \"system\", \"content\": \"You are a ____.\"},\n",
        "    {\"role\": \"user\", \"content\": \"____?\"}\n",
        "]\n",
        "\n",
        "response = openai.ChatCompletion.create(\n",
        "    model=\"gpt-4\",\n",
        "    messages=messages\n",
        ")\n",
        "\n",
        "print(\"Assistant's Response:\", response['choices'][0]['message']['content'])\n"
      ],
      "metadata": {
        "id": "frrq5UkhU8Xj"
      },
      "execution_count": null,
      "outputs": []
    }
  ]
}